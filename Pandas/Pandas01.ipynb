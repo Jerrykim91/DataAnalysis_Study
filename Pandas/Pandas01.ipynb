{
 "cells": [
  {
   "cell_type": "markdown",
   "metadata": {},
   "source": [
    "# 판다스 입문 _01 "
   ]
  },
  {
   "cell_type": "markdown",
   "metadata": {},
   "source": [
    "## TSV\n",
    "\n",
    "TSV는 파일 확장자의 유형입니다.\n",
    "\n",
    "### 스프레드 시트\n",
    "\n",
    "TSV 파일은 일반적으로 스프레드 시트간에 데이터를 전송하는 데 사용됩니다. 스프레드 시트는 더 쉽게 볼 수 있도록 행 및 열의 회계 데이터와 같은 정보를 분석하는 문서입니다. 이 유형의 프로그램은 실제 스프레드 시트 문서의 기능과 모양을 모방하도록 설계되었습니다. 스프레드 시트에 정보를 저장하는 각 공간을 셀이라고합니다. 셀은 큰 블록의 o를 포함하지 않고 짧은 체인 또는 숫자의 체인을 포함하도록 설계되었습니다.\n",
    "\n",
    "\n",
    "\n",
    "```\n",
    "import pandas \n",
    "df = pandas.read_csv('../data/gapminder.tsv', sep='\\t')\n",
    "```"
   ]
  },
  {
   "cell_type": "code",
   "execution_count": 2,
   "metadata": {},
   "outputs": [],
   "source": [
    "# 줄임 pd로\n",
    "import pandas as pd\n",
    "df = pd.read_csv('../data/gapminder.tsv', sep='\\t')"
   ]
  },
  {
   "cell_type": "markdown",
   "metadata": {},
   "source": [
    "#### 시리즈와 데이터 프레임 \n",
    "- 판다스에 사용되는 자료형 \n",
    "- 판다스는 데이터 효율적으로 다루기 위해서 시리즈와 데이터 프레임이라는 자료형을 사용\n",
    "- 파이썬으로 **비유**하자면 데이터 프레임은 시리즈들이 각 요소가 되는 딕셔너리\n",
    "---"
   ]
  },
  {
   "cell_type": "code",
   "execution_count": 4,
   "metadata": {},
   "outputs": [
    {
     "name": "stdout",
     "output_type": "stream",
     "text": [
      "country continent  year  lifeExp       pop   gdpPercap\n",
      "0  Afghanistan      Asia  1952   28.801   8425333  779.445314\n",
      "1  Afghanistan      Asia  1957   30.332   9240934  820.853030\n",
      "2  Afghanistan      Asia  1962   31.997  10267083  853.100710\n",
      "3  Afghanistan      Asia  1967   34.020  11537966  836.197138\n",
      "4  Afghanistan      Asia  1972   36.088  13079460  739.981106\n"
     ]
    }
   ],
   "source": [
    "# 상위 5개 (기본)\n",
    "print(df.head())"
   ]
  },
  {
   "cell_type": "code",
   "execution_count": 5,
   "metadata": {},
   "outputs": [
    {
     "name": "stdout",
     "output_type": "stream",
     "text": [
      "<class 'pandas.core.frame.DataFrame'>\n"
     ]
    }
   ],
   "source": [
    "# 데이터 타입 \n",
    "print(type(df))"
   ]
  },
  {
   "cell_type": "code",
   "execution_count": null,
   "metadata": {},
   "outputs": [],
   "source": [
    "# 데이터 타입 \n",
    "print('#'*40)\n",
    "print(type(df))\n",
    "print('#'*40)\n",
    "print('.dtype=',df.dtypes)\n",
    "print('#'*40)"
   ]
  },
  {
   "cell_type": "code",
   "execution_count": 6,
   "metadata": {},
   "outputs": [
    {
     "name": "stdout",
     "output_type": "stream",
     "text": [
      "(1704, 6)\n"
     ]
    }
   ],
   "source": [
    "# 차원 확인 \n",
    "# 데이터의 행과 열의 크기를 확인 \n",
    "print(df.shape)"
   ]
  },
  {
   "cell_type": "code",
   "execution_count": 7,
   "metadata": {},
   "outputs": [
    {
     "name": "stdout",
     "output_type": "stream",
     "text": [
      "Index(['country', 'continent', 'year', 'lifeExp', 'pop', 'gdpPercap'], dtype='object')\n"
     ]
    }
   ],
   "source": [
    "# 리스트 형태의 컬럼을 출력 \n",
    "print(df.columns)"
   ]
  },
  {
   "cell_type": "code",
   "execution_count": 8,
   "metadata": {},
   "outputs": [
    {
     "name": "stdout",
     "output_type": "stream",
     "text": [
      "country       object\n",
      "continent     object\n",
      "year           int64\n",
      "lifeExp      float64\n",
      "pop            int64\n",
      "gdpPercap    float64\n",
      "dtype: object\n"
     ]
    }
   ],
   "source": [
    "# 데이터 타입 출력 \n",
    "print(df.dtypes)"
   ]
  },
  {
   "cell_type": "code",
   "execution_count": 9,
   "metadata": {},
   "outputs": [],
   "source": [
    "# 내 컬럼에 공통된 것이 있는지 확인하고 가지고 와야 \n",
    "# 데이터를 어떻게 가지고 올 것이냐 \n",
    "# 처리 속도가 빠르다  "
   ]
  },
  {
   "cell_type": "code",
   "execution_count": 10,
   "metadata": {},
   "outputs": [
    {
     "name": "stdout",
     "output_type": "stream",
     "text": [
      "<class 'pandas.core.frame.DataFrame'>\n",
      "RangeIndex: 1704 entries, 0 to 1703\n",
      "Data columns (total 6 columns):\n",
      "country      1704 non-null object\n",
      "continent    1704 non-null object\n",
      "year         1704 non-null int64\n",
      "lifeExp      1704 non-null float64\n",
      "pop          1704 non-null int64\n",
      "gdpPercap    1704 non-null float64\n",
      "dtypes: float64(2), int64(2), object(2)\n",
      "memory usage: 80.0+ KB\n",
      "None\n"
     ]
    }
   ],
   "source": [
    "# 가져온 데이터 목록의 전체 정보를 확인 (dtypes > info())\n",
    "# 전체적으로 한번에 보여주는 함수 \n",
    "print(df.info())"
   ]
  },
  {
   "cell_type": "code",
   "execution_count": 11,
   "metadata": {},
   "outputs": [
    {
     "name": "stdout",
     "output_type": "stream",
     "text": [
      "<class 'pandas.core.series.Series'>\n"
     ]
    }
   ],
   "source": [
    "county_df = d => 시리즈df['country']\n",
    "print(type(county_df))"
   ]
  },
  {
   "cell_type": "code",
   "execution_count": 12,
   "metadata": {},
   "outputs": [
    {
     "name": "stdout",
     "output_type": "stream",
     "text": [
      "0    Afghanistan\n",
      "1    Afghanistan\n",
      "2    Afghanistan\n",
      "3    Afghanistan\n",
      "4    Afghanistan\n",
      "Name: country, dtype: object\n"
     ]
    }
   ],
   "source": [
    "# 상위 5개(기본)\n",
    "print(county_df.head())"
   ]
  },
  {
   "cell_type": "code",
   "execution_count": 13,
   "metadata": {},
   "outputs": [
    {
     "name": "stdout",
     "output_type": "stream",
     "text": [
      "1699    Zimbabwe\n",
      "1700    Zimbabwe\n",
      "1701    Zimbabwe\n",
      "1702    Zimbabwe\n",
      "1703    Zimbabwe\n",
      "Name: country, dtype: object\n"
     ]
    }
   ],
   "source": [
    "# 하위 5개(기본)\n",
    "print(county_df.tail())"
   ]
  },
  {
   "cell_type": "code",
   "execution_count": 7,
   "metadata": {},
   "outputs": [
    {
     "name": "stdout",
     "output_type": "stream",
     "text": [
      "<class 'pandas.core.series.Series'> \n",
      " 0       Afghanistan\n",
      "1       Afghanistan\n",
      "2       Afghanistan\n",
      "3       Afghanistan\n",
      "4       Afghanistan\n",
      "5       Afghanistan\n",
      "6       Afghanistan\n",
      "7       Afghanistan\n",
      "8       Afghanistan\n",
      "9       Afghanistan\n",
      "10      Afghanistan\n",
      "11      Afghanistan\n",
      "12          Albania\n",
      "13          Albania\n",
      "14          Albania\n",
      "15          Albania\n",
      "16          Albania\n",
      "17          Albania\n",
      "18          Albania\n",
      "19          Albania\n",
      "20          Albania\n",
      "21          Albania\n",
      "22          Albania\n",
      "23          Albania\n",
      "24          Algeria\n",
      "25          Algeria\n",
      "26          Algeria\n",
      "27          Algeria\n",
      "28          Algeria\n",
      "29          Algeria\n",
      "           ...     \n",
      "1674    Yemen, Rep.\n",
      "1675    Yemen, Rep.\n",
      "1676    Yemen, Rep.\n",
      "1677    Yemen, Rep.\n",
      "1678    Yemen, Rep.\n",
      "1679    Yemen, Rep.\n",
      "1680         Zambia\n",
      "1681         Zambia\n",
      "1682         Zambia\n",
      "1683         Zambia\n",
      "1684         Zambia\n",
      "1685         Zambia\n",
      "1686         Zambia\n",
      "1687         Zambia\n",
      "1688         Zambia\n",
      "1689         Zambia\n",
      "1690         Zambia\n",
      "1691         Zambia\n",
      "1692       Zimbabwe\n",
      "1693       Zimbabwe\n",
      "1694       Zimbabwe\n",
      "1695       Zimbabwe\n",
      "1696       Zimbabwe\n",
      "1697       Zimbabwe\n",
      "1698       Zimbabwe\n",
      "1699       Zimbabwe\n",
      "1700       Zimbabwe\n",
      "1701       Zimbabwe\n",
      "1702       Zimbabwe\n",
      "1703       Zimbabwe\n",
      "Name: country, Length: 1704, dtype: object\n"
     ]
    }
   ],
   "source": [
    "a = df['country']\n",
    "print(type(a),'\\n',a)\n"
   ]
  },
  {
   "cell_type": "code",
   "execution_count": 8,
   "metadata": {},
   "outputs": [
    {
     "name": "stdout",
     "output_type": "stream",
     "text": [
      "<class 'pandas.core.frame.DataFrame'> \n",
      "           country\n",
      "0     Afghanistan\n",
      "1     Afghanistan\n",
      "2     Afghanistan\n",
      "3     Afghanistan\n",
      "4     Afghanistan\n",
      "5     Afghanistan\n",
      "6     Afghanistan\n",
      "7     Afghanistan\n",
      "8     Afghanistan\n",
      "9     Afghanistan\n",
      "10    Afghanistan\n",
      "11    Afghanistan\n",
      "12        Albania\n",
      "13        Albania\n",
      "14        Albania\n",
      "15        Albania\n",
      "16        Albania\n",
      "17        Albania\n",
      "18        Albania\n",
      "19        Albania\n",
      "20        Albania\n",
      "21        Albania\n",
      "22        Albania\n",
      "23        Albania\n",
      "24        Algeria\n",
      "25        Algeria\n",
      "26        Algeria\n",
      "27        Algeria\n",
      "28        Algeria\n",
      "29        Algeria\n",
      "...           ...\n",
      "1674  Yemen, Rep.\n",
      "1675  Yemen, Rep.\n",
      "1676  Yemen, Rep.\n",
      "1677  Yemen, Rep.\n",
      "1678  Yemen, Rep.\n",
      "1679  Yemen, Rep.\n",
      "1680       Zambia\n",
      "1681       Zambia\n",
      "1682       Zambia\n",
      "1683       Zambia\n",
      "1684       Zambia\n",
      "1685       Zambia\n",
      "1686       Zambia\n",
      "1687       Zambia\n",
      "1688       Zambia\n",
      "1689       Zambia\n",
      "1690       Zambia\n",
      "1691       Zambia\n",
      "1692     Zimbabwe\n",
      "1693     Zimbabwe\n",
      "1694     Zimbabwe\n",
      "1695     Zimbabwe\n",
      "1696     Zimbabwe\n",
      "1697     Zimbabwe\n",
      "1698     Zimbabwe\n",
      "1699     Zimbabwe\n",
      "1700     Zimbabwe\n",
      "1701     Zimbabwe\n",
      "1702     Zimbabwe\n",
      "1703     Zimbabwe\n",
      "\n",
      "[1704 rows x 1 columns]\n"
     ]
    }
   ],
   "source": [
    "a = df[['country']]\n",
    "print(type(a),'\\n',a)"
   ]
  },
  {
   "cell_type": "code",
   "execution_count": 15,
   "metadata": {},
   "outputs": [
    {
     "name": "stdout",
     "output_type": "stream",
     "text": [
      "<class 'pandas.core.frame.DataFrame'>\n"
     ]
    }
   ],
   "source": [
    "# 2개이상의 열을 출력 => DataFrame\n",
    "subset = df[['country', 'continent', 'year']]\n",
    "print(type(subset))"
   ]
  }
 ],
 "metadata": {
  "kernelspec": {
   "display_name": "Python 3",
   "language": "python",
   "name": "python3"
  },
  "language_info": {
   "codemirror_mode": {
    "name": "ipython",
    "version": 3
   },
   "file_extension": ".py",
   "mimetype": "text/x-python",
   "name": "python",
   "nbconvert_exporter": "python",
   "pygments_lexer": "ipython3",
   "version": "3.6.5"
  }
 },
 "nbformat": 4,
 "nbformat_minor": 4
}
