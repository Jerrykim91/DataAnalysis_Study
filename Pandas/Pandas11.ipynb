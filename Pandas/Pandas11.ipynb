{
 "cells": [
  {
   "cell_type": "markdown",
   "metadata": {},
   "source": [
    "# 판다스 입문 _11\n",
    "\n",
    "- https://github.com/easysIT/doit_pandas/blob/master/notebook/07_done.ipynb"
   ]
  },
  {
   "cell_type": "markdown",
   "metadata": {},
   "source": [
    "## 그룹연산 \n",
    "- 데이터를 집계하거나 변환하는 등의 작업을 한번에 처리할 수 있는 강력한 기능 중 하나\n",
    "\n",
    "- 분할 : 어떤기준으로 데이터를 나누는것 \n",
    "- 반영 : 함수등을 적용해서 데이터를 처리하는것 \n",
    "- 결합 : 처리한 결과를 다시 합치는 것 \n",
    "\n",
    "- 분활 -> 반영 -> 결합(split - apply - combine) 과정을 거침 \n",
    "\n",
    "---\n",
    "- 집계 \n",
    "    - 수집한 데이터를 바탕으로 평균이나 합 등을 구하여 의미있는 값을 도출해 내는것 \n",
    "    - 전체 데이터를 요약, 정리하여 볼 수 있기 때문에 분석이 편리 \n",
    "---"
   ]
  },
  {
   "cell_type": "markdown",
   "metadata": {},
   "source": [
    "### groupby 메서드로 평균값 구하기"
   ]
  },
  {
   "cell_type": "code",
   "execution_count": 1,
   "metadata": {},
   "outputs": [],
   "source": [
    "import pandas as pd "
   ]
  },
  {
   "cell_type": "code",
   "execution_count": 2,
   "metadata": {},
   "outputs": [],
   "source": [
    "df = pd.read_csv('../data/gapminder.tsv', sep='\\t')"
   ]
  },
  {
   "cell_type": "code",
   "execution_count": 4,
   "metadata": {},
   "outputs": [
    {
     "name": "stdout",
     "output_type": "stream",
     "text": [
      "       country continent  year  lifeExp       pop   gdpPercap\n",
      "0  Afghanistan      Asia  1952   28.801   8425333  779.445314\n",
      "1  Afghanistan      Asia  1957   30.332   9240934  820.853030\n",
      "2  Afghanistan      Asia  1962   31.997  10267083  853.100710\n",
      "3  Afghanistan      Asia  1967   34.020  11537966  836.197138\n",
      "4  Afghanistan      Asia  1972   36.088  13079460  739.981106\n"
     ]
    }
   ],
   "source": [
    "print(df.head())"
   ]
  },
  {
   "cell_type": "code",
   "execution_count": 5,
   "metadata": {},
   "outputs": [],
   "source": [
    "# year 열을 기준으로 데이터를 그룹화 한 다음 lifeExp열을 구한 것\n",
    "avg_life_exp_by_year = df.groupby('year').lifeExp.mean()\n",
    "# 같은 결과를 가짐 아래에 실습 해봄 \n",
    "# avg_life_exp_by_year = df.groupby('year')['lifeExp'].mean()"
   ]
  },
  {
   "cell_type": "code",
   "execution_count": 6,
   "metadata": {},
   "outputs": [
    {
     "name": "stdout",
     "output_type": "stream",
     "text": [
      "year\n",
      "1952    49.057620\n",
      "1957    51.507401\n",
      "1962    53.609249\n",
      "1967    55.678290\n",
      "1972    57.647386\n",
      "1977    59.570157\n",
      "1982    61.533197\n",
      "1987    63.212613\n",
      "1992    64.160338\n",
      "1997    65.014676\n",
      "2002    65.694923\n",
      "2007    67.007423\n",
      "Name: lifeExp, dtype: float64\n"
     ]
    }
   ],
   "source": [
    "print(avg_life_exp_by_year)"
   ]
  },
  {
   "cell_type": "code",
   "execution_count": 7,
   "metadata": {},
   "outputs": [],
   "source": [
    "avg_life_exp_by_year = df.groupby('year')['lifeExp'].mean()"
   ]
  },
  {
   "cell_type": "code",
   "execution_count": 8,
   "metadata": {},
   "outputs": [
    {
     "name": "stdout",
     "output_type": "stream",
     "text": [
      "year\n",
      "1952    49.057620\n",
      "1957    51.507401\n",
      "1962    53.609249\n",
      "1967    55.678290\n",
      "1972    57.647386\n",
      "1977    59.570157\n",
      "1982    61.533197\n",
      "1987    63.212613\n",
      "1992    64.160338\n",
      "1997    65.014676\n",
      "2002    65.694923\n",
      "2007    67.007423\n",
      "Name: lifeExp, dtype: float64\n"
     ]
    }
   ],
   "source": [
    "print(avg_life_exp_by_year)"
   ]
  },
  {
   "cell_type": "markdown",
   "metadata": {},
   "source": [
    "---"
   ]
  },
  {
   "cell_type": "markdown",
   "metadata": {},
   "source": [
    "### 분할-반영-결합 과정 체크 \n",
    "- 연도 별로 데이터를 나눔 \n",
    "- gourpby메서드 => 열에 이름을 전달하면 분할 작업이 먼저 일어남 "
   ]
  },
  {
   "cell_type": "code",
   "execution_count": 10,
   "metadata": {
    "scrolled": true
   },
   "outputs": [
    {
     "name": "stdout",
     "output_type": "stream",
     "text": [
      "0       1952\n",
      "1       1957\n",
      "2       1962\n",
      "3       1967\n",
      "4       1972\n",
      "5       1977\n",
      "6       1982\n",
      "7       1987\n",
      "8       1992\n",
      "9       1997\n",
      "10      2002\n",
      "11      2007\n",
      "12      1952\n",
      "13      1957\n",
      "14      1962\n",
      "15      1967\n",
      "16      1972\n",
      "17      1977\n",
      "18      1982\n",
      "19      1987\n",
      "20      1992\n",
      "21      1997\n",
      "22      2002\n",
      "23      2007\n",
      "24      1952\n",
      "25      1957\n",
      "26      1962\n",
      "27      1967\n",
      "28      1972\n",
      "29      1977\n",
      "        ... \n",
      "1674    1982\n",
      "1675    1987\n",
      "1676    1992\n",
      "1677    1997\n",
      "1678    2002\n",
      "1679    2007\n",
      "1680    1952\n",
      "1681    1957\n",
      "1682    1962\n",
      "1683    1967\n",
      "1684    1972\n",
      "1685    1977\n",
      "1686    1982\n",
      "1687    1987\n",
      "1688    1992\n",
      "1689    1997\n",
      "1690    2002\n",
      "1691    2007\n",
      "1692    1952\n",
      "1693    1957\n",
      "1694    1962\n",
      "1695    1967\n",
      "1696    1972\n",
      "1697    1977\n",
      "1698    1982\n",
      "1699    1987\n",
      "1700    1992\n",
      "1701    1997\n",
      "1702    2002\n",
      "1703    2007\n",
      "Name: year, Length: 1704, dtype: int64\n"
     ]
    }
   ],
   "source": [
    "# 확인을 위해 데이터를 확인 \n",
    "print(df.year)"
   ]
  },
  {
   "cell_type": "code",
   "execution_count": 9,
   "metadata": {},
   "outputs": [
    {
     "name": "stdout",
     "output_type": "stream",
     "text": [
      "[1952 1957 1962 1967 1972 1977 1982 1987 1992 1997 2002 2007]\n"
     ]
    }
   ],
   "source": [
    "# 분할 part \n",
    "# - year열의 데이터를 중복 없이 추출 \n",
    "years =  df.year.unique()\n",
    "print(years)"
   ]
  },
  {
   "cell_type": "code",
   "execution_count": 12,
   "metadata": {},
   "outputs": [
    {
     "name": "stdout",
     "output_type": "stream",
     "text": [
      "        country continent  year  lifeExp       pop    gdpPercap\n",
      "0   Afghanistan      Asia  1952   28.801   8425333   779.445314\n",
      "12      Albania    Europe  1952   55.230   1282697  1601.056136\n",
      "24      Algeria    Africa  1952   43.077   9279525  2449.008185\n",
      "36       Angola    Africa  1952   30.015   4232095  3520.610273\n",
      "48    Argentina  Americas  1952   62.485  17876956  5911.315053\n"
     ]
    }
   ],
   "source": [
    "# 반영 part_1\n",
    "# 연도 별로 평균값을 구함 \n",
    "# -> 각 연도 별로 데이터를 추출 \n",
    "y1952 = (df.year == 1952)\n",
    "y1952 = df.loc[y1952, :]\n",
    "print(y1952.head())\n",
    "\n",
    "# y1952 = df.loc[df.year == 1952, :]\n",
    "# print(y1952.head())"
   ]
  },
  {
   "cell_type": "code",
   "execution_count": 14,
   "metadata": {},
   "outputs": [
    {
     "name": "stdout",
     "output_type": "stream",
     "text": [
      "49.05761971830987\n"
     ]
    }
   ],
   "source": [
    "# 반영 part_2\n",
    "# 평균값구하기 \n",
    "y1952_mean = y1952.lifeExp.mean()\n",
    "print(y1952_mean)"
   ]
  },
  {
   "cell_type": "code",
   "execution_count": 18,
   "metadata": {},
   "outputs": [
    {
     "name": "stdout",
     "output_type": "stream",
     "text": [
      "51.50740112676054\n",
      "53.60924901408449\n",
      "67.00742253521126\n"
     ]
    }
   ],
   "source": [
    "# 반영 part_3\n",
    "# 반복해서 남은 연도이 평균값을 구함 \n",
    "\n",
    "# 1957\n",
    "y1957 = df.loc[df.year == 1957, : ]\n",
    "y1957_mean = y1957.lifeExp.mean( )\n",
    "print(y1957_mean)\n",
    "\n",
    "# 1962\n",
    "y1962 = df.loc[df.year == 1962, : ]\n",
    "y1962_mean = y1962.lifeExp.mean( )\n",
    "print(y1962_mean)\n",
    "\n",
    "#2007\n",
    "y2007 = df.loc[df.year == 2007, : ]\n",
    "y2007_mean = y2007.lifeExp.mean( )\n",
    "print(y2007_mean)"
   ]
  },
  {
   "cell_type": "code",
   "execution_count": 19,
   "metadata": {},
   "outputs": [
    {
     "name": "stdout",
     "output_type": "stream",
     "text": [
      "   year           \n",
      "0  1952  49.057620\n",
      "1  1957  51.507401\n",
      "2  1962  53.609249\n",
      "3  2007  67.007423\n"
     ]
    }
   ],
   "source": [
    "# 연도 별로 계산한 lifeExp의 평균값을 합함 \n",
    "# 결합 part\n",
    "df2 = pd.DataFrame({\"year\":[1952, 1957, 1962, 2007],\n",
    "                   \"\" : [y1952_mean, y1957_mean, y1962_mean, y2007_mean]})\n",
    "print(df2)"
   ]
  },
  {
   "cell_type": "markdown",
   "metadata": {},
   "source": [
    "### 평균값을 구하는 사용자 함수 &groupby 메서드 \n",
    "- 교제(221p) : 집계 메서드 확인 "
   ]
  },
  {
   "cell_type": "code",
   "execution_count": 20,
   "metadata": {},
   "outputs": [],
   "source": [
    "# 열의 평균 값을 구하는 메소드 \n",
    "def my_mean(values):\n",
    "    n = len(values)\n",
    "    \n",
    "    sum = 0\n",
    "    for value in values:\n",
    "        sum += value\n",
    "        \n",
    "    return sum / n"
   ]
  },
  {
   "cell_type": "code",
   "execution_count": 21,
   "metadata": {},
   "outputs": [
    {
     "name": "stdout",
     "output_type": "stream",
     "text": [
      "year\n",
      "1952    49.057620\n",
      "1957    51.507401\n",
      "1962    53.609249\n",
      "1967    55.678290\n",
      "1972    57.647386\n",
      "1977    59.570157\n",
      "1982    61.533197\n",
      "1987    63.212613\n",
      "1992    64.160338\n",
      "1997    65.014676\n",
      "2002    65.694923\n",
      "2007    67.007423\n",
      "Name: lifeExp, dtype: float64\n"
     ]
    }
   ],
   "source": [
    "# agg 메서드를 사용해서 작업 \n",
    "# mean메서드를 사용하여 얻은 값과 동일 \n",
    "agg_my_mean = df.groupby('year').lifeExp.agg(my_mean)\n",
    "print(agg_my_mean)"
   ]
  },
  {
   "cell_type": "markdown",
   "metadata": {},
   "source": [
    "### 두 개의 인잣값을 받아 처리하는 사용자 함수와 groupby 메서드"
   ]
  },
  {
   "cell_type": "code",
   "execution_count": 23,
   "metadata": {},
   "outputs": [],
   "source": [
    "# 2개의 인자 값을 받아서 처리하는 사용자 정의 함수 \n",
    "# 열의 평균값을 구하여 두번째 인자로 받은 값과의 차이를 계산 후 반환 \n",
    "def my_mean_diff(values, diff_value):\n",
    "    n = len(values)\n",
    "    sum = 0 \n",
    "    for value in values:\n",
    "        sum += value\n",
    "    mean = sum / n\n",
    "    return mean - diff_value"
   ]
  },
  {
   "cell_type": "markdown",
   "metadata": {},
   "source": [
    "???"
   ]
  },
  {
   "cell_type": "code",
   "execution_count": 24,
   "metadata": {},
   "outputs": [
    {
     "name": "stdout",
     "output_type": "stream",
     "text": [
      "59.47443936619713\n"
     ]
    }
   ],
   "source": [
    "# 연도별 평균 수명에서 전체 평균 수명을 뺀 값 \n",
    "# agg메서드 첫 인자에 my_mean_diff를 함수를 전달 \n",
    "# 두번째 인자 =>  전체 평균 수명값을 전달 \n",
    "\n",
    "global_mean = df.lifeExp.mean()\n",
    "print(global_mean)"
   ]
  },
  {
   "cell_type": "code",
   "execution_count": 25,
   "metadata": {
    "scrolled": true
   },
   "outputs": [
    {
     "name": "stdout",
     "output_type": "stream",
     "text": [
      "year\n",
      "1952   -10.416820\n",
      "1957    -7.967038\n",
      "1962    -5.865190\n",
      "1967    -3.796150\n",
      "1972    -1.827053\n",
      "1977     0.095718\n",
      "1982     2.058758\n",
      "1987     3.738173\n",
      "1992     4.685899\n",
      "1997     5.540237\n",
      "2002     6.220483\n",
      "2007     7.532983\n",
      "Name: lifeExp, dtype: float64\n"
     ]
    }
   ],
   "source": [
    "agg_my_mean_diff = df.groupby('year').lifeExp.agg(my_mean_diff, diff_value = global_mean)\n",
    "print(agg_my_mean_diff)"
   ]
  },
  {
   "cell_type": "markdown",
   "metadata": {},
   "source": [
    "###  집계 메서드를 리스트, 딕셔너리에 담아 전달\n",
    "- 여러개의 집계 메서드 한번에 사용하기 \n",
    "- 집계 메서드를 리스트나 딕셔너리에 담아 agg 메서드에 전달 "
   ]
  },
  {
   "cell_type": "code",
   "execution_count": 26,
   "metadata": {},
   "outputs": [],
   "source": [
    "import numpy as np "
   ]
  },
  {
   "cell_type": "code",
   "execution_count": 27,
   "metadata": {},
   "outputs": [
    {
     "name": "stdout",
     "output_type": "stream",
     "text": [
      "      count_nonzero       mean        std\n",
      "year                                     \n",
      "1952          142.0  49.057620  12.225956\n",
      "1957          142.0  51.507401  12.231286\n",
      "1962          142.0  53.609249  12.097245\n",
      "1967          142.0  55.678290  11.718858\n",
      "1972          142.0  57.647386  11.381953\n",
      "1977          142.0  59.570157  11.227229\n",
      "1982          142.0  61.533197  10.770618\n",
      "1987          142.0  63.212613  10.556285\n",
      "1992          142.0  64.160338  11.227380\n",
      "1997          142.0  65.014676  11.559439\n",
      "2002          142.0  65.694923  12.279823\n",
      "2007          142.0  67.007423  12.073021\n"
     ]
    }
   ],
   "source": [
    "# 그룹화 한 lifeExp 열의 0이 아닌 값의 개수, 평균, 표준편차를 한번에 계산 \n",
    "gdf = df.groupby('year').lifeExp.agg([np.count_nonzero, np.mean, np.std])\n",
    "# 출력 \n",
    "print(gdf)"
   ]
  },
  {
   "cell_type": "code",
   "execution_count": 28,
   "metadata": {},
   "outputs": [
    {
     "name": "stdout",
     "output_type": "stream",
     "text": [
      "        lifeExp         pop    gdpPercap\n",
      "year                                    \n",
      "1952  49.057620   3943953.0  1968.528344\n",
      "1957  51.507401   4282942.0  2173.220291\n",
      "1962  53.609249   4686039.5  2335.439533\n",
      "1967  55.678290   5170175.5  2678.334741\n",
      "1972  57.647386   5877996.5  3339.129407\n",
      "1977  59.570157   6404036.5  3798.609244\n",
      "1982  61.533197   7007320.0  4216.228428\n",
      "1987  63.212613   7774861.5  4280.300366\n",
      "1992  64.160338   8688686.5  4386.085502\n",
      "1997  65.014676   9735063.5  4781.825478\n",
      "2002  65.694923  10372918.5  5319.804524\n",
      "2007  67.007423  10517531.0  6124.371109\n"
     ]
    }
   ],
   "source": [
    "# 집계 메서드를 딕셔너리에 담아 agg메소드에 전달 \n",
    "# 딕셔너리의 키로 집계 메서드를 적용할 열이름을 전달 -> 딕셔너리의 값으로 집계 메서드를 전달 \n",
    "gdf_dict = df.groupby('year').agg({'lifeExp':'mean', 'pop':'median','gdpPercap':'median'})\n",
    "print(gdf_dict)"
   ]
  },
  {
   "cell_type": "markdown",
   "metadata": {},
   "source": [
    "#### 225-239 skip "
   ]
  },
  {
   "cell_type": "code",
   "execution_count": null,
   "metadata": {},
   "outputs": [],
   "source": []
  }
 ],
 "metadata": {
  "kernelspec": {
   "display_name": "Python 3",
   "language": "python",
   "name": "python3"
  },
  "language_info": {
   "codemirror_mode": {
    "name": "ipython",
    "version": 3
   },
   "file_extension": ".py",
   "mimetype": "text/x-python",
   "name": "python",
   "nbconvert_exporter": "python",
   "pygments_lexer": "ipython3",
   "version": "3.6.5"
  }
 },
 "nbformat": 4,
 "nbformat_minor": 2
}
