{
 "cells": [
  {
   "cell_type": "markdown",
   "metadata": {},
   "source": [
    "# 판다스 입문 _06\n",
    "\n",
    "- https://pandas.pydata.org/pandas-docs/stable/reference/api/pandas.DataFrame.html"
   ]
  },
  {
   "cell_type": "markdown",
   "metadata": {},
   "source": [
    "---"
   ]
  },
  {
   "cell_type": "markdown",
   "metadata": {},
   "source": [
    "## 누락값 처리하기 "
   ]
  },
  {
   "cell_type": "markdown",
   "metadata": {},
   "source": [
    "### 누락값 확인 \n",
    "- NaN, NaN, nan "
   ]
  },
  {
   "cell_type": "markdown",
   "metadata": {},
   "source": [
    "---"
   ]
  },
  {
   "cell_type": "markdown",
   "metadata": {},
   "source": [
    "### 넘파이에서 비교\n",
    "---"
   ]
  },
  {
   "cell_type": "code",
   "execution_count": 2,
   "metadata": {},
   "outputs": [],
   "source": [
    "from numpy import NaN, NAN, nan"
   ]
  },
  {
   "cell_type": "code",
   "execution_count": 3,
   "metadata": {},
   "outputs": [
    {
     "name": "stdout",
     "output_type": "stream",
     "text": [
      "False\n"
     ]
    }
   ],
   "source": [
    "# 알수 없는 값 \n",
    "# 불린으로 구분이 안되 => 더미 값 \n",
    "print(NaN == True)"
   ]
  },
  {
   "cell_type": "code",
   "execution_count": 4,
   "metadata": {},
   "outputs": [
    {
     "name": "stdout",
     "output_type": "stream",
     "text": [
      "False\n"
     ]
    }
   ],
   "source": [
    "print(NaN == False)"
   ]
  },
  {
   "cell_type": "code",
   "execution_count": 5,
   "metadata": {},
   "outputs": [
    {
     "name": "stdout",
     "output_type": "stream",
     "text": [
      "False\n"
     ]
    }
   ],
   "source": [
    "print(NaN == 0)"
   ]
  },
  {
   "cell_type": "code",
   "execution_count": 6,
   "metadata": {},
   "outputs": [
    {
     "name": "stdout",
     "output_type": "stream",
     "text": [
      "False\n"
     ]
    }
   ],
   "source": [
    "print(NaN == '')"
   ]
  },
  {
   "cell_type": "markdown",
   "metadata": {},
   "source": [
    "---"
   ]
  },
  {
   "cell_type": "markdown",
   "metadata": {},
   "source": [
    "### 판다스에서 비교 \n",
    "---"
   ]
  },
  {
   "cell_type": "code",
   "execution_count": 7,
   "metadata": {},
   "outputs": [],
   "source": [
    "import pandas as pd "
   ]
  },
  {
   "cell_type": "code",
   "execution_count": 8,
   "metadata": {},
   "outputs": [
    {
     "name": "stdout",
     "output_type": "stream",
     "text": [
      "True\n"
     ]
    }
   ],
   "source": [
    "print(pd.isnull(NaN))"
   ]
  },
  {
   "cell_type": "code",
   "execution_count": 9,
   "metadata": {},
   "outputs": [
    {
     "name": "stdout",
     "output_type": "stream",
     "text": [
      "True\n"
     ]
    }
   ],
   "source": [
    "print(pd.isnull(nan))"
   ]
  },
  {
   "cell_type": "code",
   "execution_count": 10,
   "metadata": {},
   "outputs": [
    {
     "name": "stdout",
     "output_type": "stream",
     "text": [
      "True\n"
     ]
    }
   ],
   "source": [
    "print(pd.isnull(NAN))"
   ]
  },
  {
   "cell_type": "code",
   "execution_count": 11,
   "metadata": {},
   "outputs": [
    {
     "name": "stdout",
     "output_type": "stream",
     "text": [
      "False\n"
     ]
    }
   ],
   "source": [
    "print(pd.notnull(NaN))"
   ]
  },
  {
   "cell_type": "code",
   "execution_count": 12,
   "metadata": {},
   "outputs": [
    {
     "name": "stdout",
     "output_type": "stream",
     "text": [
      "True\n"
     ]
    }
   ],
   "source": [
    "print(pd.notnull(42))"
   ]
  },
  {
   "cell_type": "code",
   "execution_count": 13,
   "metadata": {},
   "outputs": [
    {
     "name": "stdout",
     "output_type": "stream",
     "text": [
      "True\n"
     ]
    }
   ],
   "source": [
    "print(pd.notnull('missing'))"
   ]
  },
  {
   "cell_type": "markdown",
   "metadata": {},
   "source": [
    "### 명확한 구분이 필요 \n",
    "판다스에서는 NaN을 null처럼 사용 "
   ]
  },
  {
   "cell_type": "markdown",
   "metadata": {},
   "source": [
    "---"
   ]
  },
  {
   "cell_type": "markdown",
   "metadata": {},
   "source": [
    "## 누락값이 생기는 이유 "
   ]
  },
  {
   "cell_type": "markdown",
   "metadata": {},
   "source": [
    "### 누락값이 있는 데이터 집합을 연결할 때 누락값이 생기는 경우\n",
    "- 누락 + 누락 = 더~ 많은 누락"
   ]
  },
  {
   "cell_type": "code",
   "execution_count": 14,
   "metadata": {},
   "outputs": [],
   "source": [
    "# 데이터 불러오기 \n",
    "visited = pd.read_csv('../data/survey_visited.csv')\n",
    "survey  = pd.read_csv('../data/survey_survey.csv')"
   ]
  },
  {
   "cell_type": "code",
   "execution_count": 15,
   "metadata": {},
   "outputs": [
    {
     "name": "stdout",
     "output_type": "stream",
     "text": [
      "   ident   site       dated\n",
      "0    619   DR-1  1927-02-08\n",
      "1    622   DR-1  1927-02-10\n",
      "2    734   DR-3  1939-01-07\n",
      "3    735   DR-3  1930-01-12\n",
      "4    751   DR-3  1930-02-26\n",
      "5    752   DR-3         NaN\n",
      "6    837  MSK-4  1932-01-14\n",
      "7    844   DR-1  1932-03-22\n"
     ]
    }
   ],
   "source": [
    "# visited\n",
    "print(visited)"
   ]
  },
  {
   "cell_type": "code",
   "execution_count": 16,
   "metadata": {},
   "outputs": [
    {
     "name": "stdout",
     "output_type": "stream",
     "text": [
      "    taken person quant  reading\n",
      "0     619   dyer   rad     9.82\n",
      "1     619   dyer   sal     0.13\n",
      "2     622   dyer   rad     7.80\n",
      "3     622   dyer   sal     0.09\n",
      "4     734     pb   rad     8.41\n",
      "5     734   lake   sal     0.05\n",
      "6     734     pb  temp   -21.50\n",
      "7     735     pb   rad     7.22\n",
      "8     735    NaN   sal     0.06\n",
      "9     735    NaN  temp   -26.00\n",
      "10    751     pb   rad     4.35\n",
      "11    751     pb  temp   -18.50\n",
      "12    751   lake   sal     0.10\n",
      "13    752   lake   rad     2.19\n",
      "14    752   lake   sal     0.09\n",
      "15    752   lake  temp   -16.00\n",
      "16    752    roe   sal    41.60\n",
      "17    837   lake   rad     1.46\n",
      "18    837   lake   sal     0.21\n",
      "19    837    roe   sal    22.50\n",
      "20    844    roe   rad    11.25\n"
     ]
    }
   ],
   "source": [
    "# survey\n",
    "print(survey)"
   ]
  },
  {
   "cell_type": "code",
   "execution_count": 18,
   "metadata": {},
   "outputs": [
    {
     "name": "stdout",
     "output_type": "stream",
     "text": [
      "    ident   site       dated  taken person quant  reading\n",
      "0     619   DR-1  1927-02-08    619   dyer   rad     9.82\n",
      "1     619   DR-1  1927-02-08    619   dyer   sal     0.13\n",
      "2     622   DR-1  1927-02-10    622   dyer   rad     7.80\n",
      "3     622   DR-1  1927-02-10    622   dyer   sal     0.09\n",
      "4     734   DR-3  1939-01-07    734     pb   rad     8.41\n",
      "5     734   DR-3  1939-01-07    734   lake   sal     0.05\n",
      "6     734   DR-3  1939-01-07    734     pb  temp   -21.50\n",
      "7     735   DR-3  1930-01-12    735     pb   rad     7.22\n",
      "8     735   DR-3  1930-01-12    735    NaN   sal     0.06\n",
      "9     735   DR-3  1930-01-12    735    NaN  temp   -26.00\n",
      "10    751   DR-3  1930-02-26    751     pb   rad     4.35\n",
      "11    751   DR-3  1930-02-26    751     pb  temp   -18.50\n",
      "12    751   DR-3  1930-02-26    751   lake   sal     0.10\n",
      "13    752   DR-3         NaN    752   lake   rad     2.19\n",
      "14    752   DR-3         NaN    752   lake   sal     0.09\n",
      "15    752   DR-3         NaN    752   lake  temp   -16.00\n",
      "16    752   DR-3         NaN    752    roe   sal    41.60\n",
      "17    837  MSK-4  1932-01-14    837   lake   rad     1.46\n",
      "18    837  MSK-4  1932-01-14    837   lake   sal     0.21\n",
      "19    837  MSK-4  1932-01-14    837    roe   sal    22.50\n",
      "20    844   DR-1  1932-03-22    844    roe   rad    11.25\n"
     ]
    }
   ],
   "source": [
    "# 데이터 두 집합의 연결\n",
    "vs = visited.merge(survey, left_on='ident', right_on='taken')\n",
    "print(vs)"
   ]
  },
  {
   "cell_type": "markdown",
   "metadata": {},
   "source": [
    "### 데이터를 입력할 때 누락값이 생기는 경우\n",
    "- 데이터를 잘못해도 누락값이 발생 "
   ]
  },
  {
   "cell_type": "code",
   "execution_count": 19,
   "metadata": {},
   "outputs": [
    {
     "name": "stdout",
     "output_type": "stream",
     "text": [
      "goat      4.0\n",
      "amoeba    NaN\n",
      "dtype: float64\n",
      "<class 'pandas.core.series.Series'>\n"
     ]
    }
   ],
   "source": [
    "# 시리즈를 생성할때 데이터 프레임에 없는 열과 행데이터를 입력\n",
    "# 그로 인해서 누락 발생 \n",
    "num_legs = pd.Series({'goat':4,'amoeba':nan})\n",
    "print(num_legs)\n",
    "print(type(num_legs))"
   ]
  },
  {
   "cell_type": "code",
   "execution_count": 20,
   "metadata": {},
   "outputs": [
    {
     "name": "stdout",
     "output_type": "stream",
     "text": [
      "                Name    Occupation        Born        Died  missing\n",
      "0  Rosaline Franklin       Chemist  1920-07-25  1958-04-16      NaN\n",
      "1     William Gosset  Statistician  1876-06-13  1937-10-16      NaN\n",
      "<class 'pandas.core.frame.DataFrame'>\n"
     ]
    }
   ],
   "source": [
    "# \n",
    "scientists = pd.DataFrame({ \n",
    "    'Name': ['Rosaline Franklin', 'William Gosset'], \n",
    "    'Occupation': ['Chemist', 'Statistician'], \n",
    "    'Born': ['1920-07-25', '1876-06-13'], \n",
    "    'Died': ['1958-04-16', '1937-10-16'], \n",
    "    'missing': [NaN, nan]}) \n",
    "\n",
    "print(scientists)\n",
    "print(type(scientists))"
   ]
  },
  {
   "cell_type": "markdown",
   "metadata": {},
   "source": [
    "### 범위를 지정하여 데이터를 추출할 때 누락값이 생기는 경우\n",
    "- 존재하지않는 데이터를 추출하면 누락값이 발생"
   ]
  },
  {
   "cell_type": "code",
   "execution_count": 22,
   "metadata": {},
   "outputs": [],
   "source": [
    "# 갭마인더 불러오기\n",
    "gapminder = pd.read_csv('../data/gapminder.tsv', sep='\\t')"
   ]
  },
  {
   "cell_type": "code",
   "execution_count": 23,
   "metadata": {},
   "outputs": [
    {
     "name": "stdout",
     "output_type": "stream",
     "text": [
      "year\n",
      "1952    49.057620\n",
      "1957    51.507401\n",
      "1962    53.609249\n",
      "1967    55.678290\n",
      "1972    57.647386\n",
      "1977    59.570157\n",
      "1982    61.533197\n",
      "1987    63.212613\n",
      "1992    64.160338\n",
      "1997    65.014676\n",
      "2002    65.694923\n",
      "2007    67.007423\n",
      "Name: lifeExp, dtype: float64\n"
     ]
    }
   ],
   "source": [
    "# 연도별로 그룹화해서 lifeExp열의 평균 구하기\n",
    "life_exp = gapminder.groupby(['year'])['lifeExp'].mean() \n",
    "print(life_exp)"
   ]
  },
  {
   "cell_type": "code",
   "execution_count": 24,
   "metadata": {},
   "outputs": [
    {
     "name": "stdout",
     "output_type": "stream",
     "text": [
      "year\n",
      "2000          NaN\n",
      "2001          NaN\n",
      "2002    65.694923\n",
      "2003          NaN\n",
      "2004          NaN\n",
      "2005          NaN\n",
      "2006          NaN\n",
      "2007    67.007423\n",
      "2008          NaN\n",
      "2009          NaN\n",
      "Name: lifeExp, dtype: float64\n"
     ]
    },
    {
     "name": "stderr",
     "output_type": "stream",
     "text": [
      "C:\\Users\\JerryKim\\AppData\\Local\\Continuum\\anaconda3\\lib\\site-packages\\ipykernel_launcher.py:2: FutureWarning: \n",
      "Passing list-likes to .loc or [] with any missing label will raise\n",
      "KeyError in the future, you can use .reindex() as an alternative.\n",
      "\n",
      "See the documentation here:\n",
      "https://pandas.pydata.org/pandas-docs/stable/indexing.html#deprecate-loc-reindex-listlike\n",
      "  \n"
     ]
    }
   ],
   "source": [
    "# 누락 확인 (2000~2009)\n",
    "print(life_exp.loc[range(2000,2010),])\n",
    "# 누락 발생 이유 => 누락된값은 처음부터 lifeExp열에 없던 연도라서\n",
    "# 아래의 에러는 누락으로 인해서 문제가 발생할 수도 있다는 작은 경고"
   ]
  },
  {
   "cell_type": "code",
   "execution_count": null,
   "metadata": {},
   "outputs": [],
   "source": [
    "# 위의 문제를 해결하기위해서 불린 추출이용\n",
    "y2000 = life_exp[life_exp.index > 2000]\n",
    "print(y2000)"
   ]
  },
  {
   "cell_type": "markdown",
   "metadata": {},
   "source": [
    "---"
   ]
  },
  {
   "cell_type": "markdown",
   "metadata": {},
   "source": [
    "## 누락값의 개수\n",
    "- 누락값 개수 구하기 "
   ]
  },
  {
   "cell_type": "code",
   "execution_count": 25,
   "metadata": {},
   "outputs": [],
   "source": [
    "# 데이터 불러오기\n",
    "ebola = pd.read_csv('../data/country_timeseries.csv')"
   ]
  },
  {
   "cell_type": "code",
   "execution_count": 26,
   "metadata": {
    "scrolled": true
   },
   "outputs": [
    {
     "name": "stdout",
     "output_type": "stream",
     "text": [
      "Date                   122\n",
      "Day                    122\n",
      "Cases_Guinea            93\n",
      "Cases_Liberia           83\n",
      "Cases_SierraLeone       87\n",
      "Cases_Nigeria           38\n",
      "Cases_Senegal           25\n",
      "Cases_UnitedStates      18\n",
      "Cases_Spain             16\n",
      "Cases_Mali              12\n",
      "Deaths_Guinea           92\n",
      "Deaths_Liberia          81\n",
      "Deaths_SierraLeone      87\n",
      "Deaths_Nigeria          38\n",
      "Deaths_Senegal          22\n",
      "Deaths_UnitedStates     18\n",
      "Deaths_Spain            16\n",
      "Deaths_Mali             12\n",
      "dtype: int64\n"
     ]
    }
   ],
   "source": [
    "# 누락 값이 아닌 값의 개수 구하기 \n",
    "print(ebola.count())"
   ]
  },
  {
   "cell_type": "code",
   "execution_count": 27,
   "metadata": {},
   "outputs": [
    {
     "data": {
      "text/plain": [
       "122"
      ]
     },
     "execution_count": 27,
     "metadata": {},
     "output_type": "execute_result"
    }
   ],
   "source": [
    "# 전체 행의 데이터 개수를 확인 한다는 점!! \n",
    "# 이를 이용해서 누락값을 구할 수 있음 \n",
    "ebola.shape[0]"
   ]
  },
  {
   "cell_type": "code",
   "execution_count": 28,
   "metadata": {
    "scrolled": true
   },
   "outputs": [
    {
     "name": "stdout",
     "output_type": "stream",
     "text": [
      "Date                     0\n",
      "Day                      0\n",
      "Cases_Guinea            29\n",
      "Cases_Liberia           39\n",
      "Cases_SierraLeone       35\n",
      "Cases_Nigeria           84\n",
      "Cases_Senegal           97\n",
      "Cases_UnitedStates     104\n",
      "Cases_Spain            106\n",
      "Cases_Mali             110\n",
      "Deaths_Guinea           30\n",
      "Deaths_Liberia          41\n",
      "Deaths_SierraLeone      35\n",
      "Deaths_Nigeria          84\n",
      "Deaths_Senegal         100\n",
      "Deaths_UnitedStates    104\n",
      "Deaths_Spain           106\n",
      "Deaths_Mali            110\n",
      "dtype: int64\n"
     ]
    }
   ],
   "source": [
    "num_rows = ebola.shape[0] # 전체 행의 게이터 개수 =>  122\n",
    "num_missing = num_rows - ebola.count()\n",
    "print(num_missing) # 누락 값의 개수 "
   ]
  },
  {
   "cell_type": "code",
   "execution_count": 29,
   "metadata": {},
   "outputs": [],
   "source": [
    "# 넘파이 잠깐만~ \n",
    "import numpy as np"
   ]
  },
  {
   "cell_type": "code",
   "execution_count": 30,
   "metadata": {},
   "outputs": [
    {
     "name": "stdout",
     "output_type": "stream",
     "text": [
      "1214\n"
     ]
    }
   ],
   "source": [
    "# 누락 값 구하기 - 1\n",
    "print(np.count_nonzero(ebola.isnull()))"
   ]
  },
  {
   "cell_type": "code",
   "execution_count": 31,
   "metadata": {},
   "outputs": [
    {
     "name": "stdout",
     "output_type": "stream",
     "text": [
      "29\n"
     ]
    }
   ],
   "source": [
    "# 누락 값 구하기 - 2\n",
    "print(np.count_nonzero(ebola['Cases_Guinea'].isnull()))"
   ]
  },
  {
   "cell_type": "code",
   "execution_count": 32,
   "metadata": {
    "scrolled": true
   },
   "outputs": [
    {
     "name": "stdout",
     "output_type": "stream",
     "text": [
      "0      2776.0\n",
      "1      2775.0\n",
      "2      2769.0\n",
      "3         NaN\n",
      "4      2730.0\n",
      "5      2706.0\n",
      "6      2695.0\n",
      "7      2630.0\n",
      "8      2597.0\n",
      "9      2571.0\n",
      "10        NaN\n",
      "11     2416.0\n",
      "12        NaN\n",
      "13     2292.0\n",
      "14        NaN\n",
      "15     2164.0\n",
      "16        NaN\n",
      "17     2134.0\n",
      "18        NaN\n",
      "19     2047.0\n",
      "20     1971.0\n",
      "21        NaN\n",
      "22     1919.0\n",
      "23        NaN\n",
      "24     1878.0\n",
      "25        NaN\n",
      "26        NaN\n",
      "27     1760.0\n",
      "28     1731.0\n",
      "29        NaN\n",
      "        ...  \n",
      "92      258.0\n",
      "93      248.0\n",
      "94      233.0\n",
      "95      236.0\n",
      "96      235.0\n",
      "97      231.0\n",
      "98      226.0\n",
      "99      224.0\n",
      "100       NaN\n",
      "101     218.0\n",
      "102       NaN\n",
      "103       NaN\n",
      "104     208.0\n",
      "105     203.0\n",
      "106     197.0\n",
      "107       NaN\n",
      "108     168.0\n",
      "109     159.0\n",
      "110     158.0\n",
      "111     151.0\n",
      "112     143.0\n",
      "113     127.0\n",
      "114     122.0\n",
      "115     112.0\n",
      "116     112.0\n",
      "117     103.0\n",
      "118      86.0\n",
      "119      86.0\n",
      "120      86.0\n",
      "121      49.0\n",
      "Name: Cases_Guinea, Length: 122, dtype: float64\n"
     ]
    }
   ],
   "source": [
    "print(ebola.Cases_Guinea)"
   ]
  },
  {
   "cell_type": "code",
   "execution_count": 33,
   "metadata": {
    "scrolled": true
   },
   "outputs": [
    {
     "name": "stdout",
     "output_type": "stream",
     "text": [
      "<bound method IndexOpsMixin.value_counts of 0      2776.0\n",
      "1      2775.0\n",
      "2      2769.0\n",
      "3         NaN\n",
      "4      2730.0\n",
      "5      2706.0\n",
      "6      2695.0\n",
      "7      2630.0\n",
      "8      2597.0\n",
      "9      2571.0\n",
      "10        NaN\n",
      "11     2416.0\n",
      "12        NaN\n",
      "13     2292.0\n",
      "14        NaN\n",
      "15     2164.0\n",
      "16        NaN\n",
      "17     2134.0\n",
      "18        NaN\n",
      "19     2047.0\n",
      "20     1971.0\n",
      "21        NaN\n",
      "22     1919.0\n",
      "23        NaN\n",
      "24     1878.0\n",
      "25        NaN\n",
      "26        NaN\n",
      "27     1760.0\n",
      "28     1731.0\n",
      "29        NaN\n",
      "        ...  \n",
      "92      258.0\n",
      "93      248.0\n",
      "94      233.0\n",
      "95      236.0\n",
      "96      235.0\n",
      "97      231.0\n",
      "98      226.0\n",
      "99      224.0\n",
      "100       NaN\n",
      "101     218.0\n",
      "102       NaN\n",
      "103       NaN\n",
      "104     208.0\n",
      "105     203.0\n",
      "106     197.0\n",
      "107       NaN\n",
      "108     168.0\n",
      "109     159.0\n",
      "110     158.0\n",
      "111     151.0\n",
      "112     143.0\n",
      "113     127.0\n",
      "114     122.0\n",
      "115     112.0\n",
      "116     112.0\n",
      "117     103.0\n",
      "118      86.0\n",
      "119      86.0\n",
      "120      86.0\n",
      "121      49.0\n",
      "Name: Cases_Guinea, Length: 122, dtype: float64>\n"
     ]
    }
   ],
   "source": [
    "print(ebola.Cases_Guinea.value_counts)"
   ]
  },
  {
   "cell_type": "code",
   "execution_count": 34,
   "metadata": {},
   "outputs": [
    {
     "name": "stdout",
     "output_type": "stream",
     "text": [
      "NaN       29\n",
      " 86.0      3\n",
      " 495.0     2\n",
      " 112.0     2\n",
      " 390.0     2\n",
      "Name: Cases_Guinea, dtype: int64\n"
     ]
    }
   ],
   "source": [
    "# value_counts 빈도수를 구하는 메서드 \n",
    "# Cases_Guinea의 누락 개수를 구할수 있다. \n",
    "print(ebola.Cases_Guinea.value_counts(dropna=False).head())"
   ]
  },
  {
   "cell_type": "markdown",
   "metadata": {},
   "source": [
    "---"
   ]
  },
  {
   "cell_type": "markdown",
   "metadata": {},
   "source": [
    "## 누락값 처리하기 ― 변경, 삭제\n",
    "- 보통 이미 있는 값으로 대신 값을 대신 채우는 방법 \n",
    "- 임의의 값으로 변경하는 방법 존재\n",
    "\n",
    "- fillna() 처리 해야하는 데이터가 커 **메모리를 효율적으로 다뤄야할때** 사용 "
   ]
  },
  {
   "cell_type": "markdown",
   "metadata": {},
   "source": [
    "### 누락값 변경하기 "
   ]
  },
  {
   "cell_type": "code",
   "execution_count": 35,
   "metadata": {},
   "outputs": [],
   "source": [
    "# 시계열성의 데이터를 이방법을 통해 채울수 있다. "
   ]
  },
  {
   "cell_type": "code",
   "execution_count": 36,
   "metadata": {},
   "outputs": [
    {
     "name": "stdout",
     "output_type": "stream",
     "text": [
      "           Date  Day  Cases_Guinea  Cases_Liberia  Cases_SierraLeone  \\\n",
      "0      1/5/2015  289        2776.0            0.0            10030.0   \n",
      "1      1/4/2015  288        2775.0            0.0             9780.0   \n",
      "2      1/3/2015  287        2769.0         8166.0             9722.0   \n",
      "3      1/2/2015  286           0.0         8157.0                0.0   \n",
      "4    12/31/2014  284        2730.0         8115.0             9633.0   \n",
      "5    12/28/2014  281        2706.0         8018.0             9446.0   \n",
      "6    12/27/2014  280        2695.0            0.0             9409.0   \n",
      "7    12/24/2014  277        2630.0         7977.0             9203.0   \n",
      "8    12/21/2014  273        2597.0            0.0             9004.0   \n",
      "9    12/20/2014  272        2571.0         7862.0             8939.0   \n",
      "10   12/18/2014  271           0.0         7830.0                0.0   \n",
      "11   12/14/2014  267        2416.0            0.0             8356.0   \n",
      "12    12/9/2014  262           0.0         7797.0                0.0   \n",
      "13    12/7/2014  260        2292.0            0.0             7897.0   \n",
      "14    12/3/2014  256           0.0         7719.0                0.0   \n",
      "15   11/30/2014  253        2164.0            0.0             7312.0   \n",
      "16   11/28/2014  251           0.0         7635.0                0.0   \n",
      "17   11/23/2014  246        2134.0            0.0             6599.0   \n",
      "18   11/22/2014  245           0.0         7168.0                0.0   \n",
      "19   11/18/2014  241        2047.0         7082.0             6190.0   \n",
      "20   11/16/2014  239        1971.0            0.0             6073.0   \n",
      "21   11/15/2014  238           0.0         7069.0                0.0   \n",
      "22   11/11/2014  234        1919.0            0.0             5586.0   \n",
      "23   11/10/2014  233           0.0         6878.0                0.0   \n",
      "24    11/9/2014  232        1878.0            0.0             5368.0   \n",
      "25    11/8/2014  231           0.0         6822.0                0.0   \n",
      "26    11/4/2014  227           0.0         6619.0             4862.0   \n",
      "27    11/3/2014  226        1760.0            0.0                0.0   \n",
      "28    11/2/2014  225        1731.0            0.0             4759.0   \n",
      "29   10/31/2014  222           0.0         6525.0                0.0   \n",
      "..          ...  ...           ...            ...                ...   \n",
      "92    5/23/2014   62         258.0           12.0                0.0   \n",
      "93    5/12/2014   51         248.0           12.0                0.0   \n",
      "94    5/10/2014   49         233.0           12.0                0.0   \n",
      "95     5/7/2014   46         236.0           13.0                0.0   \n",
      "96     5/5/2014   44         235.0           13.0                0.0   \n",
      "97     5/3/2014   42         231.0           13.0                0.0   \n",
      "98     5/1/2014   40         226.0           13.0                0.0   \n",
      "99    4/26/2014   35         224.0            0.0                0.0   \n",
      "100   4/24/2014   33           0.0           35.0                0.0   \n",
      "101   4/23/2014   32         218.0            0.0                0.0   \n",
      "102   4/22/2014   31           0.0            0.0                0.0   \n",
      "103   4/21/2014   30           0.0           34.0                0.0   \n",
      "104   4/20/2014   29         208.0            0.0                0.0   \n",
      "105   4/17/2014   26         203.0           27.0                0.0   \n",
      "106   4/16/2014   25         197.0           27.0                0.0   \n",
      "107   4/15/2014   24           0.0            0.0               12.0   \n",
      "108   4/14/2014   23         168.0            0.0                0.0   \n",
      "109   4/11/2014   20         159.0           26.0                2.0   \n",
      "110    4/9/2014   18         158.0           25.0                2.0   \n",
      "111    4/7/2014   16         151.0           21.0                2.0   \n",
      "112    4/4/2014   13         143.0           18.0                2.0   \n",
      "113    4/1/2014   10         127.0            8.0                2.0   \n",
      "114   3/31/2014    9         122.0            8.0                2.0   \n",
      "115   3/29/2014    7         112.0            7.0                0.0   \n",
      "116   3/28/2014    6         112.0            3.0                2.0   \n",
      "117   3/27/2014    5         103.0            8.0                6.0   \n",
      "118   3/26/2014    4          86.0            0.0                0.0   \n",
      "119   3/25/2014    3          86.0            0.0                0.0   \n",
      "120   3/24/2014    2          86.0            0.0                0.0   \n",
      "121   3/22/2014    0          49.0            0.0                0.0   \n",
      "\n",
      "     Cases_Nigeria  Cases_Senegal  Cases_UnitedStates  Cases_Spain  \\\n",
      "0              0.0            0.0                 0.0          0.0   \n",
      "1              0.0            0.0                 0.0          0.0   \n",
      "2              0.0            0.0                 0.0          0.0   \n",
      "3              0.0            0.0                 0.0          0.0   \n",
      "4              0.0            0.0                 0.0          0.0   \n",
      "5              0.0            0.0                 0.0          0.0   \n",
      "6              0.0            0.0                 0.0          0.0   \n",
      "7              0.0            0.0                 0.0          0.0   \n",
      "8              0.0            0.0                 0.0          0.0   \n",
      "9              0.0            0.0                 0.0          0.0   \n",
      "10             0.0            0.0                 0.0          0.0   \n",
      "11             0.0            0.0                 0.0          0.0   \n",
      "12             0.0            0.0                 0.0          0.0   \n",
      "13            20.0            1.0                 4.0          1.0   \n",
      "14             0.0            0.0                 0.0          0.0   \n",
      "15            20.0            1.0                 4.0          1.0   \n",
      "16             0.0            0.0                 0.0          0.0   \n",
      "17            20.0            1.0                 4.0          1.0   \n",
      "18             0.0            0.0                 0.0          0.0   \n",
      "19            20.0            1.0                 4.0          1.0   \n",
      "20            20.0            1.0                 4.0          1.0   \n",
      "21             0.0            0.0                 0.0          0.0   \n",
      "22            20.0            1.0                 4.0          1.0   \n",
      "23             0.0            0.0                 0.0          0.0   \n",
      "24            20.0            1.0                 4.0          1.0   \n",
      "25             0.0            0.0                 0.0          0.0   \n",
      "26            20.0            1.0                 4.0          1.0   \n",
      "27             0.0            0.0                 0.0          0.0   \n",
      "28            20.0            1.0                 4.0          1.0   \n",
      "29             0.0            0.0                 0.0          0.0   \n",
      "..             ...            ...                 ...          ...   \n",
      "92             0.0            0.0                 0.0          0.0   \n",
      "93             0.0            0.0                 0.0          0.0   \n",
      "94             0.0            0.0                 0.0          0.0   \n",
      "95             0.0            0.0                 0.0          0.0   \n",
      "96             0.0            0.0                 0.0          0.0   \n",
      "97             0.0            0.0                 0.0          0.0   \n",
      "98             0.0            0.0                 0.0          0.0   \n",
      "99             0.0            0.0                 0.0          0.0   \n",
      "100            0.0            0.0                 0.0          0.0   \n",
      "101            0.0            0.0                 0.0          0.0   \n",
      "102            0.0            0.0                 0.0          0.0   \n",
      "103            0.0            0.0                 0.0          0.0   \n",
      "104            0.0            0.0                 0.0          0.0   \n",
      "105            0.0            0.0                 0.0          0.0   \n",
      "106            0.0            0.0                 0.0          0.0   \n",
      "107            0.0            0.0                 0.0          0.0   \n",
      "108            0.0            0.0                 0.0          0.0   \n",
      "109            0.0            0.0                 0.0          0.0   \n",
      "110            0.0            0.0                 0.0          0.0   \n",
      "111            0.0            0.0                 0.0          0.0   \n",
      "112            0.0            0.0                 0.0          0.0   \n",
      "113            0.0            0.0                 0.0          0.0   \n",
      "114            0.0            0.0                 0.0          0.0   \n",
      "115            0.0            0.0                 0.0          0.0   \n",
      "116            0.0            0.0                 0.0          0.0   \n",
      "117            0.0            0.0                 0.0          0.0   \n",
      "118            0.0            0.0                 0.0          0.0   \n",
      "119            0.0            0.0                 0.0          0.0   \n",
      "120            0.0            0.0                 0.0          0.0   \n",
      "121            0.0            0.0                 0.0          0.0   \n",
      "\n",
      "     Cases_Mali  Deaths_Guinea  Deaths_Liberia  Deaths_SierraLeone  \\\n",
      "0           0.0         1786.0             0.0              2977.0   \n",
      "1           0.0         1781.0             0.0              2943.0   \n",
      "2           0.0         1767.0          3496.0              2915.0   \n",
      "3           0.0            0.0          3496.0                 0.0   \n",
      "4           0.0         1739.0          3471.0              2827.0   \n",
      "5           0.0         1708.0          3423.0              2758.0   \n",
      "6           0.0         1697.0             0.0              2732.0   \n",
      "7           0.0            0.0          3413.0              2655.0   \n",
      "8           0.0         1607.0             0.0              2582.0   \n",
      "9           0.0         1586.0          3384.0              2556.0   \n",
      "10          0.0            0.0          3376.0                 0.0   \n",
      "11          0.0         1525.0             0.0              2085.0   \n",
      "12          0.0            0.0          3290.0                 0.0   \n",
      "13          7.0         1428.0             0.0              1768.0   \n",
      "14          0.0            0.0          3177.0                 0.0   \n",
      "15          7.0         1327.0             0.0              1583.0   \n",
      "16          0.0            0.0          3145.0                 0.0   \n",
      "17          7.0         1260.0             0.0              1398.0   \n",
      "18          0.0            0.0          3016.0                 0.0   \n",
      "19          6.0         1214.0          2963.0              1267.0   \n",
      "20          5.0         1192.0             0.0              1250.0   \n",
      "21          0.0            0.0          2964.0                 0.0   \n",
      "22          4.0         1166.0             0.0              1187.0   \n",
      "23          0.0            0.0          2812.0                 0.0   \n",
      "24          1.0         1142.0             0.0              1169.0   \n",
      "25          0.0            0.0          2836.0                 0.0   \n",
      "26          1.0            0.0          2766.0              1130.0   \n",
      "27          0.0         1054.0             0.0                 0.0   \n",
      "28          1.0         1041.0             0.0              1070.0   \n",
      "29          0.0            0.0          2697.0                 0.0   \n",
      "..          ...            ...             ...                 ...   \n",
      "92          0.0          174.0            11.0                 0.0   \n",
      "93          0.0          171.0            11.0                 0.0   \n",
      "94          0.0          157.0            11.0                 0.0   \n",
      "95          0.0          158.0            11.0                 0.0   \n",
      "96          0.0          157.0            11.0                 0.0   \n",
      "97          0.0          155.0            11.0                 0.0   \n",
      "98          0.0          149.0            11.0                 0.0   \n",
      "99          0.0          143.0             0.0                 0.0   \n",
      "100         0.0            0.0             0.0                 0.0   \n",
      "101         0.0          141.0             0.0                 0.0   \n",
      "102         0.0            0.0             0.0                 0.0   \n",
      "103         0.0            0.0            11.0                 0.0   \n",
      "104         0.0          136.0             6.0                 0.0   \n",
      "105         0.0          129.0             0.0                 0.0   \n",
      "106         0.0          122.0            13.0                 0.0   \n",
      "107         0.0            0.0             0.0                 0.0   \n",
      "108         0.0          108.0             0.0                 0.0   \n",
      "109         0.0          106.0            13.0                 2.0   \n",
      "110         0.0          101.0            12.0                 2.0   \n",
      "111         0.0           95.0            10.0                 2.0   \n",
      "112         0.0           86.0             7.0                 2.0   \n",
      "113         0.0           83.0             5.0                 2.0   \n",
      "114         0.0           80.0             4.0                 2.0   \n",
      "115         0.0           70.0             2.0                 0.0   \n",
      "116         0.0           70.0             3.0                 2.0   \n",
      "117         0.0           66.0             6.0                 5.0   \n",
      "118         0.0           62.0             0.0                 0.0   \n",
      "119         0.0           60.0             0.0                 0.0   \n",
      "120         0.0           59.0             0.0                 0.0   \n",
      "121         0.0           29.0             0.0                 0.0   \n",
      "\n",
      "     Deaths_Nigeria  Deaths_Senegal  Deaths_UnitedStates  Deaths_Spain  \\\n",
      "0               0.0             0.0                  0.0           0.0   \n",
      "1               0.0             0.0                  0.0           0.0   \n",
      "2               0.0             0.0                  0.0           0.0   \n",
      "3               0.0             0.0                  0.0           0.0   \n",
      "4               0.0             0.0                  0.0           0.0   \n",
      "5               0.0             0.0                  0.0           0.0   \n",
      "6               0.0             0.0                  0.0           0.0   \n",
      "7               0.0             0.0                  0.0           0.0   \n",
      "8               0.0             0.0                  0.0           0.0   \n",
      "9               0.0             0.0                  0.0           0.0   \n",
      "10              0.0             0.0                  0.0           0.0   \n",
      "11              0.0             0.0                  0.0           0.0   \n",
      "12              0.0             0.0                  0.0           0.0   \n",
      "13              8.0             0.0                  1.0           0.0   \n",
      "14              0.0             0.0                  0.0           0.0   \n",
      "15              8.0             0.0                  1.0           0.0   \n",
      "16              0.0             0.0                  0.0           0.0   \n",
      "17              8.0             0.0                  1.0           0.0   \n",
      "18              0.0             0.0                  0.0           0.0   \n",
      "19              8.0             0.0                  1.0           0.0   \n",
      "20              8.0             0.0                  1.0           0.0   \n",
      "21              0.0             0.0                  0.0           0.0   \n",
      "22              8.0             0.0                  1.0           0.0   \n",
      "23              0.0             0.0                  0.0           0.0   \n",
      "24              8.0             0.0                  1.0           0.0   \n",
      "25              0.0             0.0                  0.0           0.0   \n",
      "26              8.0             0.0                  1.0           0.0   \n",
      "27              0.0             0.0                  0.0           0.0   \n",
      "28              8.0             0.0                  1.0           0.0   \n",
      "29              0.0             0.0                  0.0           0.0   \n",
      "..              ...             ...                  ...           ...   \n",
      "92              0.0             0.0                  0.0           0.0   \n",
      "93              0.0             0.0                  0.0           0.0   \n",
      "94              0.0             0.0                  0.0           0.0   \n",
      "95              0.0             0.0                  0.0           0.0   \n",
      "96              0.0             0.0                  0.0           0.0   \n",
      "97              0.0             0.0                  0.0           0.0   \n",
      "98              0.0             0.0                  0.0           0.0   \n",
      "99              0.0             0.0                  0.0           0.0   \n",
      "100             0.0             0.0                  0.0           0.0   \n",
      "101             0.0             0.0                  0.0           0.0   \n",
      "102             0.0             0.0                  0.0           0.0   \n",
      "103             0.0             0.0                  0.0           0.0   \n",
      "104             0.0             0.0                  0.0           0.0   \n",
      "105             0.0             0.0                  0.0           0.0   \n",
      "106             0.0             0.0                  0.0           0.0   \n",
      "107             0.0             0.0                  0.0           0.0   \n",
      "108             0.0             0.0                  0.0           0.0   \n",
      "109             0.0             0.0                  0.0           0.0   \n",
      "110             0.0             0.0                  0.0           0.0   \n",
      "111             0.0             0.0                  0.0           0.0   \n",
      "112             0.0             0.0                  0.0           0.0   \n",
      "113             0.0             0.0                  0.0           0.0   \n",
      "114             0.0             0.0                  0.0           0.0   \n",
      "115             0.0             0.0                  0.0           0.0   \n",
      "116             0.0             0.0                  0.0           0.0   \n",
      "117             0.0             0.0                  0.0           0.0   \n",
      "118             0.0             0.0                  0.0           0.0   \n",
      "119             0.0             0.0                  0.0           0.0   \n",
      "120             0.0             0.0                  0.0           0.0   \n",
      "121             0.0             0.0                  0.0           0.0   \n",
      "\n",
      "     Deaths_Mali  \n",
      "0            0.0  \n",
      "1            0.0  \n",
      "2            0.0  \n",
      "3            0.0  \n",
      "4            0.0  \n",
      "5            0.0  \n",
      "6            0.0  \n",
      "7            0.0  \n",
      "8            0.0  \n",
      "9            0.0  \n",
      "10           0.0  \n",
      "11           0.0  \n",
      "12           0.0  \n",
      "13           6.0  \n",
      "14           0.0  \n",
      "15           6.0  \n",
      "16           0.0  \n",
      "17           6.0  \n",
      "18           0.0  \n",
      "19           6.0  \n",
      "20           5.0  \n",
      "21           0.0  \n",
      "22           3.0  \n",
      "23           0.0  \n",
      "24           1.0  \n",
      "25           0.0  \n",
      "26           1.0  \n",
      "27           0.0  \n",
      "28           1.0  \n",
      "29           0.0  \n",
      "..           ...  \n",
      "92           0.0  \n",
      "93           0.0  \n",
      "94           0.0  \n",
      "95           0.0  \n",
      "96           0.0  \n",
      "97           0.0  \n",
      "98           0.0  \n",
      "99           0.0  \n",
      "100          0.0  \n",
      "101          0.0  \n",
      "102          0.0  \n",
      "103          0.0  \n",
      "104          0.0  \n",
      "105          0.0  \n",
      "106          0.0  \n",
      "107          0.0  \n",
      "108          0.0  \n",
      "109          0.0  \n",
      "110          0.0  \n",
      "111          0.0  \n",
      "112          0.0  \n",
      "113          0.0  \n",
      "114          0.0  \n",
      "115          0.0  \n",
      "116          0.0  \n",
      "117          0.0  \n",
      "118          0.0  \n",
      "119          0.0  \n",
      "120          0.0  \n",
      "121          0.0  \n",
      "\n",
      "[122 rows x 18 columns]\n"
     ]
    }
   ],
   "source": [
    "# 0을 넣으면 누락 값을 0으로 변경 \n",
    "# fillna 처리해야하는 데이터가 커 메모리를 효율적으로 다뤄야할때 사용 \n",
    "print(ebola.fillna(0))"
   ]
  },
  {
   "cell_type": "code",
   "execution_count": 37,
   "metadata": {
    "scrolled": true
   },
   "outputs": [
    {
     "name": "stdout",
     "output_type": "stream",
     "text": [
      "         Date  Day  Cases_Guinea  Cases_Liberia  Cases_SierraLeone\n",
      "0    1/5/2015  289        2776.0            0.0            10030.0\n",
      "1    1/4/2015  288        2775.0            0.0             9780.0\n",
      "2    1/3/2015  287        2769.0         8166.0             9722.0\n",
      "3    1/2/2015  286           0.0         8157.0                0.0\n",
      "4  12/31/2014  284        2730.0         8115.0             9633.0\n",
      "5  12/28/2014  281        2706.0         8018.0             9446.0\n",
      "6  12/27/2014  280        2695.0            0.0             9409.0\n",
      "7  12/24/2014  277        2630.0         7977.0             9203.0\n",
      "8  12/21/2014  273        2597.0            0.0             9004.0\n",
      "9  12/20/2014  272        2571.0         7862.0             8939.0\n"
     ]
    }
   ],
   "source": [
    "# print(ebola.fillna(0).iloc[0:10, : ])\n",
    "print(ebola.fillna(0).iloc[0:10, 0:5])"
   ]
  },
  {
   "cell_type": "code",
   "execution_count": null,
   "metadata": {},
   "outputs": [],
   "source": [
    "# method='ffill' => 누락 값이 나타나기전의 값으로 누락값이 변경 \n",
    "print(ebola.fillna(method='ffill').iloc[0:10, 0:5])"
   ]
  },
  {
   "cell_type": "code",
   "execution_count": null,
   "metadata": {
    "scrolled": true
   },
   "outputs": [],
   "source": [
    "# 누락 값이 나타난 이후의 첫번째 값으로 앞쪽의 누락 값이 모두 변경 \n",
    "# ffill(front) 과 반대인 bfill(back)\n",
    "print(ebola.fillna(method='bfill').iloc[0:10, 0:5])\n",
    "# 마지막 값이 누락인경우는 불가능...;;;"
   ]
  },
  {
   "cell_type": "code",
   "execution_count": null,
   "metadata": {},
   "outputs": [],
   "source": [
    "# interpolate\n",
    "# => 누락값 양쪽에 있는 값을 이용하여 중간값을 구한 다음 누락값을 처리 \n",
    "print(ebola.interpolate().iloc[0:10, 0:5])"
   ]
  },
  {
   "cell_type": "markdown",
   "metadata": {},
   "source": [
    "### 누락값 삭제 \n",
    "- 누락 값이 필요 없는경우 누락값을 삭제해도 무방 \n",
    "- 데이터를 무작정 삭제 => 데이터 가 편향되거나 데이터 개수가 너무 적어질 수 있음 "
   ]
  },
  {
   "cell_type": "code",
   "execution_count": 38,
   "metadata": {},
   "outputs": [
    {
     "name": "stdout",
     "output_type": "stream",
     "text": [
      "(122, 18)\n"
     ]
    }
   ],
   "source": [
    "# 데이터 구조 확인\n",
    "print(ebola.shape)"
   ]
  },
  {
   "cell_type": "code",
   "execution_count": 39,
   "metadata": {},
   "outputs": [
    {
     "name": "stdout",
     "output_type": "stream",
     "text": [
      "(1, 18)\n"
     ]
    }
   ],
   "source": [
    "# 메소드 삭제 dropna()\n",
    "ebola_dropna = ebola.dropna()\n",
    "print(ebola_dropna.shape)"
   ]
  },
  {
   "cell_type": "code",
   "execution_count": 40,
   "metadata": {},
   "outputs": [
    {
     "name": "stdout",
     "output_type": "stream",
     "text": [
      "          Date  Day  Cases_Guinea  Cases_Liberia  Cases_SierraLeone  \\\n",
      "19  11/18/2014  241        2047.0         7082.0             6190.0   \n",
      "\n",
      "    Cases_Nigeria  Cases_Senegal  Cases_UnitedStates  Cases_Spain  Cases_Mali  \\\n",
      "19           20.0            1.0                 4.0          1.0         6.0   \n",
      "\n",
      "    Deaths_Guinea  Deaths_Liberia  Deaths_SierraLeone  Deaths_Nigeria  \\\n",
      "19         1214.0          2963.0              1267.0             8.0   \n",
      "\n",
      "    Deaths_Senegal  Deaths_UnitedStates  Deaths_Spain  Deaths_Mali  \n",
      "19             0.0                  1.0           0.0          6.0  \n"
     ]
    }
   ],
   "source": [
    "print(ebola_dropna)"
   ]
  },
  {
   "cell_type": "markdown",
   "metadata": {},
   "source": [
    "---"
   ]
  },
  {
   "cell_type": "markdown",
   "metadata": {},
   "source": [
    "## 누락값이 포함된 데이터 계산하기"
   ]
  },
  {
   "cell_type": "code",
   "execution_count": 41,
   "metadata": {
    "scrolled": true
   },
   "outputs": [
    {
     "data": {
      "text/plain": [
       "0         NaN\n",
       "1         NaN\n",
       "2      8166.0\n",
       "3      8157.0\n",
       "4      8115.0\n",
       "5      8018.0\n",
       "6         NaN\n",
       "7      7977.0\n",
       "8         NaN\n",
       "9      7862.0\n",
       "10     7830.0\n",
       "11        NaN\n",
       "12     7797.0\n",
       "13        NaN\n",
       "14     7719.0\n",
       "15        NaN\n",
       "16     7635.0\n",
       "17        NaN\n",
       "18     7168.0\n",
       "19     7082.0\n",
       "20        NaN\n",
       "21     7069.0\n",
       "22        NaN\n",
       "23     6878.0\n",
       "24        NaN\n",
       "25     6822.0\n",
       "26     6619.0\n",
       "27        NaN\n",
       "28        NaN\n",
       "29     6525.0\n",
       "        ...  \n",
       "92       12.0\n",
       "93       12.0\n",
       "94       12.0\n",
       "95       13.0\n",
       "96       13.0\n",
       "97       13.0\n",
       "98       13.0\n",
       "99        NaN\n",
       "100      35.0\n",
       "101       NaN\n",
       "102       NaN\n",
       "103      34.0\n",
       "104       NaN\n",
       "105      27.0\n",
       "106      27.0\n",
       "107       NaN\n",
       "108       NaN\n",
       "109      26.0\n",
       "110      25.0\n",
       "111      21.0\n",
       "112      18.0\n",
       "113       8.0\n",
       "114       8.0\n",
       "115       7.0\n",
       "116       3.0\n",
       "117       8.0\n",
       "118       NaN\n",
       "119       NaN\n",
       "120       NaN\n",
       "121       NaN\n",
       "Name: Cases_Liberia, Length: 122, dtype: float64"
      ]
     },
     "execution_count": 41,
     "metadata": {},
     "output_type": "execute_result"
    }
   ],
   "source": [
    "# 데이터 확인 \n",
    "ebola['Cases_Liberia']"
   ]
  },
  {
   "cell_type": "code",
   "execution_count": 42,
   "metadata": {},
   "outputs": [],
   "source": [
    "# 열을 새로 만들기 \n",
    "# 열을 더해서 발병 수의 합을 구함\n",
    "# 어떤 데이터가 존재하는지 확인\n",
    "ebola['Cases_multiple'] = ebola['Cases_Guinea'] + ebola['Cases_Liberia'] + ebola['Cases_SierraLeone']"
   ]
  },
  {
   "cell_type": "code",
   "execution_count": 43,
   "metadata": {
    "scrolled": true
   },
   "outputs": [
    {
     "name": "stdout",
     "output_type": "stream",
     "text": [
      "   Cases_Guinea  Cases_Liberia  Cases_SierraLeone  Cases_multiple\n",
      "0        2776.0            NaN            10030.0             NaN\n",
      "1        2775.0            NaN             9780.0             NaN\n",
      "2        2769.0         8166.0             9722.0         20657.0\n",
      "3           NaN         8157.0                NaN             NaN\n",
      "4        2730.0         8115.0             9633.0         20478.0\n",
      "5        2706.0         8018.0             9446.0         20170.0\n",
      "6        2695.0            NaN             9409.0             NaN\n",
      "7        2630.0         7977.0             9203.0         19810.0\n",
      "8        2597.0            NaN             9004.0             NaN\n",
      "9        2571.0         7862.0             8939.0         19372.0\n"
     ]
    }
   ],
   "source": [
    "# 누락이 하나라도 있는 행이 연산후 누락이 됨을 확인 \n",
    "# 계산 후 더 많은 누락 발생 \n",
    "ebola_subset = ebola.loc[:,['Cases_Guinea', 'Cases_Liberia', 'Cases_SierraLeone', 'Cases_multiple']]\n",
    "print(ebola_subset.head(n=10))"
   ]
  },
  {
   "cell_type": "markdown",
   "metadata": {},
   "source": [
    "#### 누락값 무시하고 계산=>   skipna = True "
   ]
  },
  {
   "cell_type": "code",
   "execution_count": 44,
   "metadata": {},
   "outputs": [
    {
     "name": "stdout",
     "output_type": "stream",
     "text": [
      "84729.0\n"
     ]
    }
   ],
   "source": [
    "# sum  \n",
    "# sum을 그냥 사용하면 누락값을 포함해서 계산 \n",
    "# 누락값 무시하고 계산 하려면  skipna 인자에 True \n",
    "print(ebola.Cases_Guinea.sum(skipna = True))"
   ]
  },
  {
   "cell_type": "code",
   "execution_count": 45,
   "metadata": {},
   "outputs": [
    {
     "name": "stdout",
     "output_type": "stream",
     "text": [
      "nan\n"
     ]
    }
   ],
   "source": [
    "print(ebola.Cases_Guinea.sum(skipna = False))"
   ]
  },
  {
   "cell_type": "markdown",
   "metadata": {},
   "source": [
    "- 누락값 처리능력은 중요 \n",
    "- 의사결정 추론을 하려면 반드시 필요 "
   ]
  },
  {
   "cell_type": "markdown",
   "metadata": {},
   "source": [
    "---"
   ]
  }
 ],
 "metadata": {
  "kernelspec": {
   "display_name": "Python 3",
   "language": "python",
   "name": "python3"
  },
  "language_info": {
   "codemirror_mode": {
    "name": "ipython",
    "version": 3
   },
   "file_extension": ".py",
   "mimetype": "text/x-python",
   "name": "python",
   "nbconvert_exporter": "python",
   "pygments_lexer": "ipython3",
   "version": "3.6.5"
  }
 },
 "nbformat": 4,
 "nbformat_minor": 2
}
