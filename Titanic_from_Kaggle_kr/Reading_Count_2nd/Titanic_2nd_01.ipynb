{
 "cells": [
  {
   "cell_type": "markdown",
   "metadata": {},
   "source": [
    "# Contents\n",
    "\n",
    "## 1. 데이터셋 확인\n",
    "\n",
    "- 1.1 Null data check    \n",
    "- 1.2 Target label 확인    \n",
    "\n",
    "## 2. Exploratory data analysis\n",
    "- 2.1 Pclass    \n",
    "- 2.2 Sex    \n",
    "- 2.3 Both Sex and Pclass   \n",
    "- 2.4 Age      \n",
    "- 2.5 Pclass, Sex, Age   \n",
    "- 2.6 Embarked    \n",
    "- 2.7 Family - SibSp(형제 자매) + Parch(부모, 자녀)    \n",
    "- 2.8 Cabin  \n"
   ]
  },
  {
   "cell_type": "markdown",
   "metadata": {},
   "source": [
    "- 타이타닉은 알다시피, 사상 최대 해난사고로써, 1,500여명의 희생자가 생겼다. \n",
    "- 그래서 이 튜토리얼을 이용하여 타이타닉에 탑승한 사람들의 신상정보를 이용및 활용할 것이다.\n",
    "    - 그정보를 토대로 승선한 사람들의 생존 여부를 예측하는 모델을 생성할 것이다. \n",
    "\n",
    "- 여기서는 여러가지 시각화 도구, 데이터 분석도구, 머신러닝도구를 사용할 것이다. \n",
    "    - 시각화도구 (matplotlib, seaborn, plotly)\n",
    "    - 데이터 분석 도구(pandas, numpy)\n",
    "    - 머신 러닝 도구(sklearn)"
   ]
  },
  {
   "cell_type": "code",
   "execution_count": null,
   "metadata": {},
   "outputs": [],
   "source": [
    "import numpy as np\n",
    "import pandas as pd \n",
    "import matplotlib.pyplot as plt \n",
    "import seaborn as sns\n",
    "\n",
    "# 스타일 \n",
    "plt.style.use('seaborn')\n",
    "sns.set(font_scale=2.5)\n",
    "# matplotlib 의 기본 scheme 말고 seaborn scheme 을 세팅\n",
    "# 일일이 graph 의 font size 를 지정할 필요 없이 seaborn 의 font_scale 을 사용하면 편하다.\n",
    "\n",
    "import missingno as msno\n",
    "\n",
    "# ignore warnings\n",
    "import warnings\n",
    "warnings.filterwarnings('ignore')\n",
    "\n",
    "%matplotlib inline"
   ]
  },
  {
   "cell_type": "markdown",
   "metadata": {},
   "source": [
    "- 앞으로 진행할 프로세스 \n",
    "    - 데이터 셋 확인 \n",
    "        - 대부분의 캐글 데이터들이 잘 정제 되어 있다. \n",
    "        - 하지만 가끔 null data가 존재 \n",
    "             - 이것을 확인하고 수정 \n",
    "    - 탐색적 데이터 분석(exploratory data analysis)\n",
    "        - 여러 feature들을 개별적으로 분석하고, feature들 간의 상관관계를 확인 \n",
    "        - 여러가지 시각화 툴을 사용하여 인사이트를 얻는다.\n",
    "    - feature engineering \n",
    "        - 모델을 세우기에 앞서, 모델의 성능을 높일 수 있도록 feature들을 engineering한다. \n",
    "        - one-hot encoding, class로 나누기, 구간으로 나누기, 텍스트 데이터 처리등등....\n",
    "    - model 만들기 \n",
    "        - sklearn을 사용해 모델을 만든다.\n",
    "        - 파이썬에서 머신러닝을 할 때에는 sklearn 을 사용\n",
    "            - 수많은 알고리즘을 일관된 문법으로 사용가능하다. \n",
    "    - 모델 학습 및 예측 \n",
    "        - train_set을 가지고 모델을 학습시킨 후, test_set을 가지고 예측(prediction)을 진행\n",
    "    - 모델 평가 \n",
    "        - 예측성능이 원하는 수준인지 판단\n",
    "        - 풀려는 문제에 따라 모델을 평가하는 방식도 달라진다. \n",
    "            - 학습된 모델이 어떤것을 학습하였는지 확인이 필요 "
   ]
  },
  {
   "cell_type": "markdown",
   "metadata": {},
   "source": [
    "# 1. Data_set 확인 \n",
    "\n",
    "- 파이썬에서 테이블화 된 데이터를 다루는데 가장 최적화되어 있으며, 많이 쓰는 라이브러리는 pandas\n",
    "- pandas를 사용하여 데이터 셋의 간단한 통계적 분석을 시작으로 복잡한 처리들을 간단한 메소드를 사용하여 해낼 수 있다. \n",
    "- 파이썬으로 데이터 분석을 한다고 하면 반드시 능숙해져야 할 라이브러리이기 때문에 여러 커널을 공부하면서 사용법에 능숙해지도록 반복하기를 권장한다. "
   ]
  },
  {
   "cell_type": "code",
   "execution_count": null,
   "metadata": {},
   "outputs": [],
   "source": [
    "# 캐글에서 데이터 셋은 보통  train, testset로 나누어져 있다. \n",
    "\n",
    "df_train = pd.read_csv('../../input/train.csv')\n",
    "df_test = pd.read_csv('../../input/test.csv')"
   ]
  },
  {
   "cell_type": "code",
   "execution_count": null,
   "metadata": {},
   "outputs": [],
   "source": [
    "df_train.head()"
   ]
  },
  {
   "cell_type": "markdown",
   "metadata": {},
   "source": [
    "### 우리가 다루는 문제에서 feature는  Pclass, Age, SibSp, Parch, Fare \n",
    "### -> 예측하려는 타겟 레이블은 Survived "
   ]
  },
  {
   "cell_type": "markdown",
   "metadata": {},
   "source": [
    "|변수(feature, variable)|정의|설명|타입|\n",
    "|------|---|---|---|\n",
    "|survival|생존여부 |target label 임. 1, 0 으로 표현됨|\tinteger|\n",
    "|Pclass  |티켓의 클래스\t1 = 1st, 2 = 2nd, 3 = 3rd 클래스로 나뉘며 |1 = 1st, 2 = 2nd, 3 = 3rd 클래스로 나뉘며 categorical feature|\tinteger|\n",
    "|sex     |성별     |male, female 로 구분되며 binary\t|string|\n",
    "|Age     |나이     |continuous|integer|\n",
    "|sibSp   |함께 탑승한 형제와 배우자의 수|quantitative|integer|\n",
    "|parch   |함께 탑승한 부모, 아이의 수\t |quantitative|integer|\n",
    "|ticket  |티켓 번호|alphabat + integer  |string|\n",
    "|fare    |탑승료\t|continuous          |float|\n",
    "|cabin   |객실 번호|alphabat + integer  |string|\n",
    "|embared |탑승 항구|C = Cherbourg, Q = Queenstown, S = Southampton|string|\n",
    "\n",
    "---\n",
    "- pandas dataframe 에는 describe() 메소드가 있는 데, 이를 쓰면 각 feature 가 가진 통계치들을 반환"
   ]
  },
  {
   "cell_type": "code",
   "execution_count": null,
   "metadata": {},
   "outputs": [],
   "source": [
    "df_train.describe()"
   ]
  },
  {
   "cell_type": "code",
   "execution_count": null,
   "metadata": {},
   "outputs": [],
   "source": [
    "df_test.describe()"
   ]
  },
  {
   "cell_type": "markdown",
   "metadata": {},
   "source": [
    "- 테이블에서 보다시피  PassenserID 숫자와 다른, 결측치가 존재하는 열을 추측할 수 있다.\n",
    "- 이를 정확하게 확인하기 위해 시각화 해서 살펴 볼게요 "
   ]
  },
  {
   "cell_type": "markdown",
   "metadata": {},
   "source": [
    "# 1.1 결측치 확인 "
   ]
  },
  {
   "cell_type": "code",
   "execution_count": null,
   "metadata": {},
   "outputs": [],
   "source": [
    "for col in df_train.columns:\n",
    "    msg = 'column: {:>10}\\t Percent of NaN value: {:.2f}%'.format(col, 100* (df_train[col].isnull().sum()/ df_train[col].shape[0]))\n",
    "    print(msg)"
   ]
  },
  {
   "cell_type": "code",
   "execution_count": null,
   "metadata": {},
   "outputs": [],
   "source": [
    "# 이해하기 쉽게 정리 \n",
    "for col in df_train.columns:\n",
    "    persent = 100* (df_train[col].isnull().sum()/ df_train[col].shape[0])\n",
    "    msg = 'column: {:>10}\\t Percent of NaN value: {:.2f}%'.format(col, persent)\n",
    "    print(msg)"
   ]
  },
  {
   "cell_type": "code",
   "execution_count": null,
   "metadata": {},
   "outputs": [],
   "source": [
    "for col in df_test.columns:\n",
    "    persent = 100* (df_test[col].isnull().sum()/ df_test[col].shape[0])\n",
    "    msg = 'column: {:>10}\\t Percent of NaN value: {:.2f}%'.format(col, persent)\n",
    "    print(msg)"
   ]
  },
  {
   "cell_type": "markdown",
   "metadata": {},
   "source": [
    "- 학습, 테스트 셋에서 age(둘다20%), cabin(둘다 약 80%),Embarked(Train만 0.22%)\n",
    "    - 결측치가 존재하는것을 알 수 있다. \n",
    "- 결측치를 시각화 하기 위해서 MANO라는 라이브러리를 사용하면 null값을 좀 더 쉽게 확인이 가능하다. "
   ]
  },
  {
   "cell_type": "code",
   "execution_count": null,
   "metadata": {},
   "outputs": [],
   "source": [
    "# msno.matrix(df= df_train, figsize=(8,8), color=(0.8, 0.5, 0.2))"
   ]
  },
  {
   "cell_type": "code",
   "execution_count": null,
   "metadata": {
    "scrolled": false
   },
   "outputs": [],
   "source": [
    "msno.matrix(df= df_train.iloc[:,:],  figsize=(8,8), color=(0.8, 0.5, 0.2))"
   ]
  },
  {
   "cell_type": "code",
   "execution_count": null,
   "metadata": {},
   "outputs": [],
   "source": [
    "# 코드 확인용 \n",
    "msno.matrix(df= df_train.iloc[:,:7],  figsize=(8,8), color=(0.8, 0.5, 0.2))"
   ]
  },
  {
   "cell_type": "code",
   "execution_count": null,
   "metadata": {
    "scrolled": false
   },
   "outputs": [],
   "source": [
    "msno.bar(df=df_train.iloc[:,:], figsize=(8,8), color=(0.8, 0.5, 0.2))"
   ]
  },
  {
   "cell_type": "code",
   "execution_count": null,
   "metadata": {},
   "outputs": [],
   "source": [
    "# 코드 확인용 \n",
    "msno.bar(df=df_train.iloc[:,:5], figsize=(8,8), color=(0.8, 0.5, 0.2))"
   ]
  },
  {
   "cell_type": "markdown",
   "metadata": {},
   "source": [
    "# 1.2 타겟 데이터 확인 \n",
    "\n",
    "- 타겟 레이블이 어떤 분포(distribution)를 가지고 있는지 확인 \n",
    "- 바이너리 분류( binary classification )\n",
    "    - 1과 0의 분포가 어떻게 분포하느냐에 따라 모델의 평가 방법이 달라진다. \n",
    "    "
   ]
  },
  {
   "cell_type": "code",
   "execution_count": null,
   "metadata": {
    "scrolled": false
   },
   "outputs": [],
   "source": [
    "f,ax = plt.subplots(1,2, figsize=(18,8))\n",
    "\n",
    "df_train.Survived.value_counts().plot.pie(explode=[0, 0.1], autopct=\"%1.1f%%\", ax= ax[0] , shadow= True)\n",
    "ax[0].set_title('Pie plot - Survived')\n",
    "ax[0].set_ylabel('')\n",
    "sns.countplot('Survived', data=df_train, ax=ax[1])\n",
    "ax[1].set_title('Count plot - Survived')\n",
    "\n",
    "plt.show()"
   ]
  },
  {
   "cell_type": "code",
   "execution_count": null,
   "metadata": {},
   "outputs": [],
   "source": [
    "df_train.Survived.value_counts()"
   ]
  },
  {
   "cell_type": "code",
   "execution_count": null,
   "metadata": {},
   "outputs": [],
   "source": [
    "f,ax = plt.subplots(1,2, figsize=(18,8))\n",
    "\n",
    "Survived_cunt = df_train.Survived.value_counts()\n",
    "Survived_cunt.plot.pie(explode=[0, 0.1], autopct=\"%1.1f%%\", ax= ax[0])\n",
    "\n",
    "sns.countplot('Survived', data=df_train, ax=ax[1])\n",
    "\n",
    "plt.show()"
   ]
  },
  {
   "cell_type": "markdown",
   "metadata": {},
   "source": [
    "- 죽은 사람이 많다는것을 확인 가능 \n",
    "- 38.4% 가 살아 남았다. \n",
    "\n",
    "- 타겟 레이블의 분포가 제법 균일한것도 확인 \n",
    "- 불균일한 경우 예를들면 100중 1이 99, 0이 1개인 경우에는 만약 모델이 모든것을 1이라고 해도 \n",
    "- 정확도가 99%가 나온다 \n",
    "- 0을 찾는 문제라면 이모델은 원하는 결과를 줄 수 없다. -> 지금은 중요하지 않음  "
   ]
  },
  {
   "cell_type": "markdown",
   "metadata": {},
   "source": [
    "# 2. EDA(Exploratory data analysis)\n",
    "\n",
    "- 본격적인 데이터 분석을 진행 -> 적절한 시각화가 필요\n",
    "- 시각화 라이브러리 matplotlib, seaborn, plotly -> 특정 목적에 맞게 정리해두면 좋다.\n"
   ]
  },
  {
   "cell_type": "markdown",
   "metadata": {},
   "source": [
    "# 2.1 Pclass\n",
    "\n",
    "- Pclass는 ordinal, 서수형 데이터 -> 카테고리인 동시에 순서가 있는 데이터 타입 \n",
    "- 먼저 Pclass에 따른 생존률의 차이를 살펴볼것이다. \n",
    "    - 엑셀의 피벗 차트와 유사한 작업을 한다.\n",
    "    - Pandas dataframe 에서는 groupby 를 사용, 혹은 pivot 이라는 메소드를 이용 \n",
    "\n",
    "- 'Pclass','Survived'를 가지고온 후 Pclass로 묶는다 \n",
    "    - 각 Pclass마다 0,1 이 카운드 되는데 이것을 평균을 내면 각 Pclass별 생존률이 나온다.\n",
    "\n",
    "- 아래와 같이 count()메소드를 이용하면, 각 class에 몇명이 있는지 확인이 가능하다 \n",
    "    - sum()메소드를 이용하면 216 명중 생존한(survived=1)사람의 총합을 얻는다. \n"
   ]
  },
  {
   "cell_type": "code",
   "execution_count": null,
   "metadata": {},
   "outputs": [],
   "source": [
    "check_test = df_train[['Pclass','Survived']].groupby(['Pclass'], as_index=True)\n",
    "check_test"
   ]
  },
  {
   "cell_type": "code",
   "execution_count": null,
   "metadata": {},
   "outputs": [],
   "source": [
    "df_train[['Pclass','Survived']].groupby(['Pclass'], as_index=True).count()"
   ]
  },
  {
   "cell_type": "code",
   "execution_count": null,
   "metadata": {},
   "outputs": [],
   "source": [
    "df_train[['Pclass','Survived']].groupby(['Pclass'], as_index=True).sum()\n",
    "# 뭐가 다른지 확실히 인지해야해"
   ]
  },
  {
   "cell_type": "markdown",
   "metadata": {},
   "source": [
    "# 크로스 탭(교차테이블)\n",
    "\n",
    "크로스 탭\n",
    "- 범주형 변수로 되어있는 요인(factors)별로 교차분석(cross tabulations)\n",
    "- 행, 열 요인 기준 별로 빈도를 세어서 도수분포표(frequency table)\n",
    "    -  행과 열 위치에는 array 형식의 데이터가 들어감 \n",
    "- 교차표(contingency table) 를 만들어준다. \n",
    "\n",
    "\n",
    "```py \n",
    "pandas.crosstab\n",
    "pandas.crosstab(index, columns, values=None, rownames=None, colnames=None, aggfunc=None, margins=False, margins_name: str = 'All', dropna: bool = True, normalize=False) → 'DataFrame'[source]\n",
    "Compute a simple cross tabulation of two (or more) factors. By default computes a frequency table of the factors unless an array of values and an aggregation function are passed.\n",
    "\n",
    "Parameters\n",
    "indexarray-like, Series, or list of arrays/Series\n",
    "Values to group by in the rows.\n",
    "\n",
    "columnsarray-like, Series, or list of arrays/Series\n",
    "Values to group by in the columns.\n",
    "\n",
    "valuesarray-like, optional\n",
    "Array of values to aggregate according to the factors. Requires aggfunc be specified.\n",
    "\n",
    "rownamessequence, default None\n",
    "If passed, must match number of row arrays passed.\n",
    "\n",
    "colnamessequence, default None\n",
    "If passed, must match number of column arrays passed.\n",
    "\n",
    "aggfuncfunction, optional\n",
    "If specified, requires values be specified as well.\n",
    "\n",
    "marginsbool, default False\n",
    "Add row/column margins (subtotals).\n",
    "\n",
    "margins_namestr, default ‘All’\n",
    "Name of the row/column that will contain the totals when margins is True.\n",
    "\n",
    "New in version 0.21.0.\n",
    "\n",
    "dropnabool, default True\n",
    "Do not include columns whose entries are all NaN.\n",
    "\n",
    "normalizebool, {‘all’, ‘index’, ‘columns’}, or {0,1}, default False\n",
    "Normalize by dividing all values by the sum of values.\n",
    "\n",
    "If passed ‘all’ or True, will normalize over all values.\n",
    "\n",
    "If passed ‘index’ will normalize over each row.\n",
    "\n",
    "If passed ‘columns’ will normalize over each column.\n",
    "\n",
    "If margins is True, will also normalize margin values.\n",
    "\n",
    "Returns\n",
    "DataFrame\n",
    "Cross tabulation of the data.\n",
    "\n",
    "```\n",
    "나중에 실습해보기 -> 크로스탭 <https://frhyme.github.io/python-libs/pd_crosstab/>"
   ]
  },
  {
   "cell_type": "code",
   "execution_count": null,
   "metadata": {},
   "outputs": [],
   "source": [
    "df_train[[pd.crosstab(df_train['Pclass'], df_train['Survived'], margins=True).style.background_gradient(cmap='summer_r')"
   ]
  },
  {
   "cell_type": "markdown",
   "metadata": {},
   "source": [
    "- 그룹이 된 객체에 평균을 내면 -> 각 클래스당 생존률을 얻을 수 있다. \n",
    "- 예를 들어 class1 이면 $${80 \\over (80 + 136)} \\approx 0.63$$ "
   ]
  },
  {
   "cell_type": "code",
   "execution_count": null,
   "metadata": {},
   "outputs": [],
   "source": [
    "# 평균 낸거 \n",
    "df_train[['Pclass','Survived']].groupby(['Pclass'], as_index=True).mean()"
   ]
  },
  {
   "cell_type": "code",
   "execution_count": null,
   "metadata": {},
   "outputs": [],
   "source": [
    "# 한눈에 확인하려고 변수에 담았다.\n",
    "pclass_mean= df_train[['Pclass','Survived']].groupby(['Pclass'], as_index=True).mean()\n",
    "\n",
    "pclass_mean.sort_values(by='Survived', ascending=False)\n",
    "pclass_mean.sort_values(by='Survived', ascending=False).plot.bar()"
   ]
  },
  {
   "cell_type": "markdown",
   "metadata": {},
   "source": [
    "- Pcalss가 좋을수록 생존률이 높은것을 확인 가능하다. \n",
    "- 시본의 카운트 폴렛을 이용하여 특정 레이블에 따른 개수를 확인해보자 "
   ]
  },
  {
   "cell_type": "code",
   "execution_count": null,
   "metadata": {},
   "outputs": [],
   "source": [
    "# y_position = 1.02\n",
    "f, ax = plt.subplots(1, 2, figsize=(18, 8)) # 틀 \n",
    "pcalss = df_train['Pclass'].value_counts()\n",
    "pcalss.plot.bar(color=['#CD7F32','#FFDF00','#D3D3D3'], ax=ax[0])\n",
    "ax[0].set_title('Number of Passengers By Pclass', y=y_position)\n",
    "ax[0].set_ylabel('Count')\n",
    "# 시본을 이용해 그림 \n",
    "sns.countplot('Pclass', hue='Survived', data=df_train, ax=ax[1])\n",
    "ax[1].set_title('Pclass: Survived vs Dead', y=y_position)\n",
    "plt.show()"
   ]
  },
  {
   "cell_type": "markdown",
   "metadata": {},
   "source": [
    "- 클래스가 높을수록, 생존 확률이 높은것을 확인 가능하다. \n",
    "    - pclass 1,2,3 순서대로 63%, 48%, 25% \n",
    "- 이후 생존에 pcalss가 어떠한 큰영향을 준다고 생각해 볼수 있다. \n",
    "    - 모델을 빌드할때 이 feature를 사용하는것이 좋을것이라 판단 할수 있다.  "
   ]
  },
  {
   "cell_type": "markdown",
   "metadata": {},
   "source": [
    "# 2.2 성별(Sex)\n",
    "\n",
    "- 이번에는 성별로 생존률이 어떻게 달라지는지 확인 해보고자 한다. \n",
    "- 이전과 마찬가지로 pandas groupby 와 seaborn countplot 을 사용"
   ]
  },
  {
   "cell_type": "code",
   "execution_count": null,
   "metadata": {},
   "outputs": [],
   "source": [
    "f, ax = plt.subplots(1, 2, figsize=(18, 8))\n",
    "Sex_mean= df_train[['Sex','Survived']].groupby(['Sex'], as_index=True).mean()\n",
    "# ax[0]\n",
    "Sex_mean.sort_values(by='Survived', ascending=False).plot.bar(ax=ax[0])\n",
    "ax[0].set_title('Survived vs Sex')\n",
    "# ax[1]\n",
    "sns.countplot('Sex', hue='Survived', data=df_train, ax=ax[1])\n",
    "ax[1].set_title('Sex: Survived vs Sex', y=1.02)\n",
    "\n",
    "plt.show()"
   ]
  },
  {
   "cell_type": "markdown",
   "metadata": {},
   "source": [
    "- 여자의 생존률이 높은것을 확인 "
   ]
  },
  {
   "cell_type": "code",
   "execution_count": null,
   "metadata": {},
   "outputs": [],
   "source": [
    "Sex_mean= df_train[['Sex','Survived']].groupby(['Sex'], as_index=False).mean()\n",
    "Sex_mean"
   ]
  },
  {
   "cell_type": "code",
   "execution_count": null,
   "metadata": {},
   "outputs": [],
   "source": [
    "Sex_mean.sort_values(by='Survived', ascending=False)"
   ]
  },
  {
   "cell_type": "code",
   "execution_count": null,
   "metadata": {},
   "outputs": [],
   "source": [
    "# 크로스 탭 \n",
    "pd.crosstab(df_train['Sex'], df_train['Survived'], margins=True).style.background_gradient(cmap='summer_r')"
   ]
  },
  {
   "cell_type": "markdown",
   "metadata": {},
   "source": [
    "- Pclass 와 마찬가지로, Sex 도 예측 모델에 쓰일 중요한 feature라는 것을 확인 "
   ]
  },
  {
   "cell_type": "markdown",
   "metadata": {},
   "source": [
    "# 2.3 성별과 클래스(Both Sex and Pclass)\n",
    "\n",
    "- Sex, Pclass 두가지에 관하여 생존이 어떻게 달라지는 지 확인할것임 "
   ]
  },
  {
   "cell_type": "code",
   "execution_count": null,
   "metadata": {},
   "outputs": [],
   "source": []
  },
  {
   "cell_type": "code",
   "execution_count": null,
   "metadata": {},
   "outputs": [],
   "source": []
  },
  {
   "cell_type": "code",
   "execution_count": null,
   "metadata": {},
   "outputs": [],
   "source": []
  },
  {
   "cell_type": "code",
   "execution_count": null,
   "metadata": {},
   "outputs": [],
   "source": []
  }
 ],
 "metadata": {
  "kernelspec": {
   "display_name": "Python 3",
   "language": "python",
   "name": "python3"
  },
  "language_info": {
   "codemirror_mode": {
    "name": "ipython",
    "version": 3
   },
   "file_extension": ".py",
   "mimetype": "text/x-python",
   "name": "python",
   "nbconvert_exporter": "python",
   "pygments_lexer": "ipython3",
   "version": "3.6.5"
  }
 },
 "nbformat": 4,
 "nbformat_minor": 4
}
