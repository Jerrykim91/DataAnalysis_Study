{
 "cells": [
  {
   "cell_type": "markdown",
   "metadata": {},
   "source": [
    "# Titanic_02 : 타이타닉 \n",
    "---\n",
    "- 타이타닉에 탑승한 사람들의 신상정보를 활용\n",
    "- 승선한 사람들의 생존여부를 예측하는 모델을 생성\n",
    "    - 여러 시각화 도구(matplotlib, seaborn, plotly), 데이터 분석 도구(pandas, numpy), 머신 러닝 도구(sklearn)을 사용\n"
   ]
  },
  {
   "cell_type": "markdown",
   "metadata": {},
   "source": [
    "## 가설\n",
    "---\n",
    "1. Pclass :  좋은 객실을 사용한 승객이 더 많이 살아남았을 것이라는 가설 \n",
    "2. Age : 젊은사람일수록 에너지가 있으니까 더 많이 살아 남았을거라는 가설 \n",
    "3. Fare : 탑승료에 따른 생존률, 근데 이거는 pclass와 겹치거나 할것같음\n",
    "4. sex : 여성이 더 많이 살아 남았을것이라는 가설 "
   ]
  },
  {
   "cell_type": "code",
   "execution_count": 1,
   "metadata": {},
   "outputs": [
    {
     "data": {
      "text/html": [
       "        <script type=\"text/javascript\">\n",
       "        window.PlotlyConfig = {MathJaxConfig: 'local'};\n",
       "        if (window.MathJax) {MathJax.Hub.Config({SVG: {font: \"STIX-Web\"}});}\n",
       "        if (typeof require !== 'undefined') {\n",
       "        require.undef(\"plotly\");\n",
       "        requirejs.config({\n",
       "            paths: {\n",
       "                'plotly': ['https://cdn.plot.ly/plotly-latest.min']\n",
       "            }\n",
       "        });\n",
       "        require(['plotly'], function(Plotly) {\n",
       "            window._Plotly = Plotly;\n",
       "        });\n",
       "        }\n",
       "        </script>\n",
       "        "
      ]
     },
     "metadata": {},
     "output_type": "display_data"
    }
   ],
   "source": [
    "# import\n",
    "import numpy as np    # 넘파이\n",
    "import pandas as pd   # 판다스 \n",
    "import pandas as Series # 판다스 시리즈 임포트 \n",
    "\n",
    "#  그래프 \n",
    "import matplotlib.pyplot as plt   # 맷폴렛- 그래프\n",
    "%matplotlib inline\n",
    "import seaborn as sns      # 시본 - 그래프 \n",
    "import missingno as msno   # missingno =>  missingno 패키지를 사용하면 누락데이터에 대한 시각화\n",
    "\n",
    "plt.style.use('seaborn')\n",
    "sns.set(font_scale=2.5)\n",
    "# matplotlib 의 기본 scheme 말고 seaborn scheme 을 세팅하고, \n",
    "# 일일이 graph 의 font size 를 지정할 필요 없이 seaborn 의 font_scale 을 사용하면 편합니다.\n",
    "\n",
    "\n",
    "# ?? \n",
    "import plotly.offline as py\n",
    "py.init_notebook_mode(connected=True)\n",
    "import plotly.graph_objs as go \n",
    "import plotly.tools as tls \n",
    "\n",
    "\n",
    "# ignore warnings\n",
    "import warnings    # 워닝 방지\n",
    "warnings.filterwarnings('ignore')\n",
    "\n"
   ]
  },
  {
   "cell_type": "code",
   "execution_count": 2,
   "metadata": {},
   "outputs": [],
   "source": [
    "# ! pip install plotly"
   ]
  },
  {
   "cell_type": "code",
   "execution_count": 3,
   "metadata": {},
   "outputs": [],
   "source": [
    "df_train = pd.read_csv('../input/train.csv')\n",
    "df_test = pd.read_csv('../input/test.csv')"
   ]
  },
  {
   "cell_type": "code",
   "execution_count": 4,
   "metadata": {},
   "outputs": [],
   "source": [
    "# Titanic_01에서 진행한 내용 추가 "
   ]
  },
  {
   "cell_type": "code",
   "execution_count": 5,
   "metadata": {},
   "outputs": [],
   "source": [
    "# FamilySize -> 학습, 테스트 모두 적용\n",
    "# 자기자신을 포함해야하기 때문에 1을 더한다\n",
    "df_train['FamilySize'] = df_train['SibSp'] + df_train['Parch'] + 1 \n",
    "df_test['FamilySize'] = df_test['SibSp'] + df_test['Parch'] + 1 "
   ]
  },
  {
   "cell_type": "code",
   "execution_count": 6,
   "metadata": {},
   "outputs": [],
   "source": [
    "df_test.loc[df_test.Fare.isnull(),'Fare'] = df_test['Fare'].mean()"
   ]
  },
  {
   "cell_type": "code",
   "execution_count": 7,
   "metadata": {},
   "outputs": [],
   "source": [
    "df_train['Fare'] = df_train['Fare'].map(lambda i :np.log(i) if i > 0 else 0)\n",
    "df_test['Fare'] = df_test['Fare'].map(lambda i :np.log(i) if i > 0 else 0)"
   ]
  },
  {
   "cell_type": "markdown",
   "metadata": {},
   "source": [
    "# 3.Feature engineering\n",
    "--- \n",
    "\n",
    "- 본격적인 Feature engineering 시작 \n",
    "- 가장 먼저 데이터셋에 존재하는 결측값을 채울것이다.     \n",
    "\n",
    "- 의미없는 숫자로 채울 수는 없고, 결측데이터를 포함하는 feature의 statistics(통계)를 참고하거나, 다른 아이디어를 생각해내서 채울 수 있다.     \n",
    "- 결측 데이터를 어떻게 채우는지에 따라 모델의 성능이 좌지우지될 수 있기 때문에, 신경써줘야할 부분이다.\n",
    "\n",
    "- Feature engineering은 실제 모델의 학습에 쓰려고 하는것 \n",
    "- 학습, 테스트 모두 똑같이 적용해줘야한다!!!!!"
   ]
  },
  {
   "cell_type": "markdown",
   "metadata": {},
   "source": [
    "## 결측치 채우기(Fill Null)\n",
    "---"
   ]
  },
  {
   "cell_type": "markdown",
   "metadata": {},
   "source": [
    "### 네임타이틀과 나이를 이용해 결측치 채우기 : Fill Null in Age using title\n",
    "\n",
    "- 나이에는 177개의 결측치가 있다.\n",
    "- 결측치를 채울 수 있는 여러가지 아이디어중 title + statistics를 사용 \n",
    "- 영어에서는 Miss, Mrr, Mrs 같은 title이 존재\n",
    "    - 각 승객의 이름에는 꼭 타이틀네임이 붙는다.\n",
    "    - 이를 이용해서 진행 \n",
    "    \n",
    "- 판다스의 시리즈를 이용 \n",
    "    - data -> string으로 바꾸어주는  str method가 존재 \n",
    "    - 추가로 정규 표현식을 적용하게 해주는 extract method 존재 \n",
    "    - 위 메소드로 쉽게 타이틀을 추출 가능 -> 타이틀을 Initial column에 저장\n",
    "    "
   ]
  },
  {
   "cell_type": "code",
   "execution_count": 8,
   "metadata": {},
   "outputs": [
    {
     "data": {
      "text/plain": [
       "0                                Braund, Mr. Owen Harris\n",
       "1      Cumings, Mrs. John Bradley (Florence Briggs Th...\n",
       "2                                 Heikkinen, Miss. Laina\n",
       "3           Futrelle, Mrs. Jacques Heath (Lily May Peel)\n",
       "4                               Allen, Mr. William Henry\n",
       "                             ...                        \n",
       "886                                Montvila, Rev. Juozas\n",
       "887                         Graham, Miss. Margaret Edith\n",
       "888             Johnston, Miss. Catherine Helen \"Carrie\"\n",
       "889                                Behr, Mr. Karl Howell\n",
       "890                                  Dooley, Mr. Patrick\n",
       "Name: Name, Length: 891, dtype: object"
      ]
     },
     "execution_count": 8,
     "metadata": {},
     "output_type": "execute_result"
    }
   ],
   "source": [
    "# 문자열 추가 \n",
    "df_train.Name"
   ]
  },
  {
   "cell_type": "code",
   "execution_count": 9,
   "metadata": {},
   "outputs": [],
   "source": [
    "# 이름 컬럼안에 있는 네임 타이틀을 가져온다.\n",
    "# . 앞에 있는 글자를 가져온다 \n",
    "df_train['Initial'] = df_train.Name.str.extract('([A-Za-z]+)\\.')\n",
    "df_test['Initial'] = df_test.Name.str.extract('([A-Za-z]+)\\.')"
   ]
  },
  {
   "cell_type": "code",
   "execution_count": 10,
   "metadata": {
    "scrolled": true
   },
   "outputs": [
    {
     "data": {
      "text/plain": [
       "Mr          517\n",
       "Miss        182\n",
       "Mrs         125\n",
       "Master       40\n",
       "Dr            7\n",
       "Rev           6\n",
       "Major         2\n",
       "Mlle          2\n",
       "Col           2\n",
       "Capt          1\n",
       "Don           1\n",
       "Countess      1\n",
       "Sir           1\n",
       "Ms            1\n",
       "Jonkheer      1\n",
       "Lady          1\n",
       "Mme           1\n",
       "Name: Initial, dtype: int64"
      ]
     },
     "execution_count": 10,
     "metadata": {},
     "output_type": "execute_result"
    }
   ],
   "source": [
    "df_train.Initial.value_counts()"
   ]
  },
  {
   "cell_type": "code",
   "execution_count": 11,
   "metadata": {},
   "outputs": [
    {
     "data": {
      "text/plain": [
       "Mr        240\n",
       "Miss       78\n",
       "Mrs        72\n",
       "Master     21\n",
       "Col         2\n",
       "Rev         2\n",
       "Dona        1\n",
       "Ms          1\n",
       "Dr          1\n",
       "Name: Initial, dtype: int64"
      ]
     },
     "execution_count": 11,
     "metadata": {},
     "output_type": "execute_result"
    }
   ],
   "source": [
    "df_test.Initial.value_counts()"
   ]
  },
  {
   "cell_type": "code",
   "execution_count": 12,
   "metadata": {
    "scrolled": true
   },
   "outputs": [
    {
     "data": {
      "text/html": [
       "<style  type=\"text/css\" >\n",
       "    #T_248928b6_70fd_11ea_a13e_d0c637a7cf50row0_col0 {\n",
       "            background-color:  #ffff66;\n",
       "            color:  #000000;\n",
       "        }    #T_248928b6_70fd_11ea_a13e_d0c637a7cf50row0_col1 {\n",
       "            background-color:  #ffff66;\n",
       "            color:  #000000;\n",
       "        }    #T_248928b6_70fd_11ea_a13e_d0c637a7cf50row0_col2 {\n",
       "            background-color:  #008066;\n",
       "            color:  #f1f1f1;\n",
       "        }    #T_248928b6_70fd_11ea_a13e_d0c637a7cf50row0_col3 {\n",
       "            background-color:  #ffff66;\n",
       "            color:  #000000;\n",
       "        }    #T_248928b6_70fd_11ea_a13e_d0c637a7cf50row0_col4 {\n",
       "            background-color:  #ffff66;\n",
       "            color:  #000000;\n",
       "        }    #T_248928b6_70fd_11ea_a13e_d0c637a7cf50row0_col5 {\n",
       "            background-color:  #ffff66;\n",
       "            color:  #000000;\n",
       "        }    #T_248928b6_70fd_11ea_a13e_d0c637a7cf50row0_col6 {\n",
       "            background-color:  #008066;\n",
       "            color:  #f1f1f1;\n",
       "        }    #T_248928b6_70fd_11ea_a13e_d0c637a7cf50row0_col7 {\n",
       "            background-color:  #ffff66;\n",
       "            color:  #000000;\n",
       "        }    #T_248928b6_70fd_11ea_a13e_d0c637a7cf50row0_col8 {\n",
       "            background-color:  #ffff66;\n",
       "            color:  #000000;\n",
       "        }    #T_248928b6_70fd_11ea_a13e_d0c637a7cf50row0_col9 {\n",
       "            background-color:  #008066;\n",
       "            color:  #f1f1f1;\n",
       "        }    #T_248928b6_70fd_11ea_a13e_d0c637a7cf50row0_col10 {\n",
       "            background-color:  #008066;\n",
       "            color:  #f1f1f1;\n",
       "        }    #T_248928b6_70fd_11ea_a13e_d0c637a7cf50row0_col11 {\n",
       "            background-color:  #008066;\n",
       "            color:  #f1f1f1;\n",
       "        }    #T_248928b6_70fd_11ea_a13e_d0c637a7cf50row0_col12 {\n",
       "            background-color:  #ffff66;\n",
       "            color:  #000000;\n",
       "        }    #T_248928b6_70fd_11ea_a13e_d0c637a7cf50row0_col13 {\n",
       "            background-color:  #008066;\n",
       "            color:  #f1f1f1;\n",
       "        }    #T_248928b6_70fd_11ea_a13e_d0c637a7cf50row0_col14 {\n",
       "            background-color:  #008066;\n",
       "            color:  #f1f1f1;\n",
       "        }    #T_248928b6_70fd_11ea_a13e_d0c637a7cf50row0_col15 {\n",
       "            background-color:  #ffff66;\n",
       "            color:  #000000;\n",
       "        }    #T_248928b6_70fd_11ea_a13e_d0c637a7cf50row0_col16 {\n",
       "            background-color:  #ffff66;\n",
       "            color:  #000000;\n",
       "        }    #T_248928b6_70fd_11ea_a13e_d0c637a7cf50row1_col0 {\n",
       "            background-color:  #008066;\n",
       "            color:  #f1f1f1;\n",
       "        }    #T_248928b6_70fd_11ea_a13e_d0c637a7cf50row1_col1 {\n",
       "            background-color:  #008066;\n",
       "            color:  #f1f1f1;\n",
       "        }    #T_248928b6_70fd_11ea_a13e_d0c637a7cf50row1_col2 {\n",
       "            background-color:  #ffff66;\n",
       "            color:  #000000;\n",
       "        }    #T_248928b6_70fd_11ea_a13e_d0c637a7cf50row1_col3 {\n",
       "            background-color:  #008066;\n",
       "            color:  #f1f1f1;\n",
       "        }    #T_248928b6_70fd_11ea_a13e_d0c637a7cf50row1_col4 {\n",
       "            background-color:  #008066;\n",
       "            color:  #f1f1f1;\n",
       "        }    #T_248928b6_70fd_11ea_a13e_d0c637a7cf50row1_col5 {\n",
       "            background-color:  #008066;\n",
       "            color:  #f1f1f1;\n",
       "        }    #T_248928b6_70fd_11ea_a13e_d0c637a7cf50row1_col6 {\n",
       "            background-color:  #ffff66;\n",
       "            color:  #000000;\n",
       "        }    #T_248928b6_70fd_11ea_a13e_d0c637a7cf50row1_col7 {\n",
       "            background-color:  #008066;\n",
       "            color:  #f1f1f1;\n",
       "        }    #T_248928b6_70fd_11ea_a13e_d0c637a7cf50row1_col8 {\n",
       "            background-color:  #008066;\n",
       "            color:  #f1f1f1;\n",
       "        }    #T_248928b6_70fd_11ea_a13e_d0c637a7cf50row1_col9 {\n",
       "            background-color:  #ffff66;\n",
       "            color:  #000000;\n",
       "        }    #T_248928b6_70fd_11ea_a13e_d0c637a7cf50row1_col10 {\n",
       "            background-color:  #ffff66;\n",
       "            color:  #000000;\n",
       "        }    #T_248928b6_70fd_11ea_a13e_d0c637a7cf50row1_col11 {\n",
       "            background-color:  #ffff66;\n",
       "            color:  #000000;\n",
       "        }    #T_248928b6_70fd_11ea_a13e_d0c637a7cf50row1_col12 {\n",
       "            background-color:  #008066;\n",
       "            color:  #f1f1f1;\n",
       "        }    #T_248928b6_70fd_11ea_a13e_d0c637a7cf50row1_col13 {\n",
       "            background-color:  #ffff66;\n",
       "            color:  #000000;\n",
       "        }    #T_248928b6_70fd_11ea_a13e_d0c637a7cf50row1_col14 {\n",
       "            background-color:  #ffff66;\n",
       "            color:  #000000;\n",
       "        }    #T_248928b6_70fd_11ea_a13e_d0c637a7cf50row1_col15 {\n",
       "            background-color:  #008066;\n",
       "            color:  #f1f1f1;\n",
       "        }    #T_248928b6_70fd_11ea_a13e_d0c637a7cf50row1_col16 {\n",
       "            background-color:  #008066;\n",
       "            color:  #f1f1f1;\n",
       "        }</style><table id=\"T_248928b6_70fd_11ea_a13e_d0c637a7cf50\" ><thead>    <tr>        <th class=\"index_name level0\" >Initial</th>        <th class=\"col_heading level0 col0\" >Capt</th>        <th class=\"col_heading level0 col1\" >Col</th>        <th class=\"col_heading level0 col2\" >Countess</th>        <th class=\"col_heading level0 col3\" >Don</th>        <th class=\"col_heading level0 col4\" >Dr</th>        <th class=\"col_heading level0 col5\" >Jonkheer</th>        <th class=\"col_heading level0 col6\" >Lady</th>        <th class=\"col_heading level0 col7\" >Major</th>        <th class=\"col_heading level0 col8\" >Master</th>        <th class=\"col_heading level0 col9\" >Miss</th>        <th class=\"col_heading level0 col10\" >Mlle</th>        <th class=\"col_heading level0 col11\" >Mme</th>        <th class=\"col_heading level0 col12\" >Mr</th>        <th class=\"col_heading level0 col13\" >Mrs</th>        <th class=\"col_heading level0 col14\" >Ms</th>        <th class=\"col_heading level0 col15\" >Rev</th>        <th class=\"col_heading level0 col16\" >Sir</th>    </tr>    <tr>        <th class=\"index_name level0\" >Sex</th>        <th class=\"blank\" ></th>        <th class=\"blank\" ></th>        <th class=\"blank\" ></th>        <th class=\"blank\" ></th>        <th class=\"blank\" ></th>        <th class=\"blank\" ></th>        <th class=\"blank\" ></th>        <th class=\"blank\" ></th>        <th class=\"blank\" ></th>        <th class=\"blank\" ></th>        <th class=\"blank\" ></th>        <th class=\"blank\" ></th>        <th class=\"blank\" ></th>        <th class=\"blank\" ></th>        <th class=\"blank\" ></th>        <th class=\"blank\" ></th>        <th class=\"blank\" ></th>    </tr></thead><tbody>\n",
       "                <tr>\n",
       "                        <th id=\"T_248928b6_70fd_11ea_a13e_d0c637a7cf50level0_row0\" class=\"row_heading level0 row0\" >female</th>\n",
       "                        <td id=\"T_248928b6_70fd_11ea_a13e_d0c637a7cf50row0_col0\" class=\"data row0 col0\" >0</td>\n",
       "                        <td id=\"T_248928b6_70fd_11ea_a13e_d0c637a7cf50row0_col1\" class=\"data row0 col1\" >0</td>\n",
       "                        <td id=\"T_248928b6_70fd_11ea_a13e_d0c637a7cf50row0_col2\" class=\"data row0 col2\" >1</td>\n",
       "                        <td id=\"T_248928b6_70fd_11ea_a13e_d0c637a7cf50row0_col3\" class=\"data row0 col3\" >0</td>\n",
       "                        <td id=\"T_248928b6_70fd_11ea_a13e_d0c637a7cf50row0_col4\" class=\"data row0 col4\" >1</td>\n",
       "                        <td id=\"T_248928b6_70fd_11ea_a13e_d0c637a7cf50row0_col5\" class=\"data row0 col5\" >0</td>\n",
       "                        <td id=\"T_248928b6_70fd_11ea_a13e_d0c637a7cf50row0_col6\" class=\"data row0 col6\" >1</td>\n",
       "                        <td id=\"T_248928b6_70fd_11ea_a13e_d0c637a7cf50row0_col7\" class=\"data row0 col7\" >0</td>\n",
       "                        <td id=\"T_248928b6_70fd_11ea_a13e_d0c637a7cf50row0_col8\" class=\"data row0 col8\" >0</td>\n",
       "                        <td id=\"T_248928b6_70fd_11ea_a13e_d0c637a7cf50row0_col9\" class=\"data row0 col9\" >182</td>\n",
       "                        <td id=\"T_248928b6_70fd_11ea_a13e_d0c637a7cf50row0_col10\" class=\"data row0 col10\" >2</td>\n",
       "                        <td id=\"T_248928b6_70fd_11ea_a13e_d0c637a7cf50row0_col11\" class=\"data row0 col11\" >1</td>\n",
       "                        <td id=\"T_248928b6_70fd_11ea_a13e_d0c637a7cf50row0_col12\" class=\"data row0 col12\" >0</td>\n",
       "                        <td id=\"T_248928b6_70fd_11ea_a13e_d0c637a7cf50row0_col13\" class=\"data row0 col13\" >125</td>\n",
       "                        <td id=\"T_248928b6_70fd_11ea_a13e_d0c637a7cf50row0_col14\" class=\"data row0 col14\" >1</td>\n",
       "                        <td id=\"T_248928b6_70fd_11ea_a13e_d0c637a7cf50row0_col15\" class=\"data row0 col15\" >0</td>\n",
       "                        <td id=\"T_248928b6_70fd_11ea_a13e_d0c637a7cf50row0_col16\" class=\"data row0 col16\" >0</td>\n",
       "            </tr>\n",
       "            <tr>\n",
       "                        <th id=\"T_248928b6_70fd_11ea_a13e_d0c637a7cf50level0_row1\" class=\"row_heading level0 row1\" >male</th>\n",
       "                        <td id=\"T_248928b6_70fd_11ea_a13e_d0c637a7cf50row1_col0\" class=\"data row1 col0\" >1</td>\n",
       "                        <td id=\"T_248928b6_70fd_11ea_a13e_d0c637a7cf50row1_col1\" class=\"data row1 col1\" >2</td>\n",
       "                        <td id=\"T_248928b6_70fd_11ea_a13e_d0c637a7cf50row1_col2\" class=\"data row1 col2\" >0</td>\n",
       "                        <td id=\"T_248928b6_70fd_11ea_a13e_d0c637a7cf50row1_col3\" class=\"data row1 col3\" >1</td>\n",
       "                        <td id=\"T_248928b6_70fd_11ea_a13e_d0c637a7cf50row1_col4\" class=\"data row1 col4\" >6</td>\n",
       "                        <td id=\"T_248928b6_70fd_11ea_a13e_d0c637a7cf50row1_col5\" class=\"data row1 col5\" >1</td>\n",
       "                        <td id=\"T_248928b6_70fd_11ea_a13e_d0c637a7cf50row1_col6\" class=\"data row1 col6\" >0</td>\n",
       "                        <td id=\"T_248928b6_70fd_11ea_a13e_d0c637a7cf50row1_col7\" class=\"data row1 col7\" >2</td>\n",
       "                        <td id=\"T_248928b6_70fd_11ea_a13e_d0c637a7cf50row1_col8\" class=\"data row1 col8\" >40</td>\n",
       "                        <td id=\"T_248928b6_70fd_11ea_a13e_d0c637a7cf50row1_col9\" class=\"data row1 col9\" >0</td>\n",
       "                        <td id=\"T_248928b6_70fd_11ea_a13e_d0c637a7cf50row1_col10\" class=\"data row1 col10\" >0</td>\n",
       "                        <td id=\"T_248928b6_70fd_11ea_a13e_d0c637a7cf50row1_col11\" class=\"data row1 col11\" >0</td>\n",
       "                        <td id=\"T_248928b6_70fd_11ea_a13e_d0c637a7cf50row1_col12\" class=\"data row1 col12\" >517</td>\n",
       "                        <td id=\"T_248928b6_70fd_11ea_a13e_d0c637a7cf50row1_col13\" class=\"data row1 col13\" >0</td>\n",
       "                        <td id=\"T_248928b6_70fd_11ea_a13e_d0c637a7cf50row1_col14\" class=\"data row1 col14\" >0</td>\n",
       "                        <td id=\"T_248928b6_70fd_11ea_a13e_d0c637a7cf50row1_col15\" class=\"data row1 col15\" >6</td>\n",
       "                        <td id=\"T_248928b6_70fd_11ea_a13e_d0c637a7cf50row1_col16\" class=\"data row1 col16\" >1</td>\n",
       "            </tr>\n",
       "    </tbody></table>"
      ],
      "text/plain": [
       "<pandas.io.formats.style.Styler at 0x1ecf0f84888>"
      ]
     },
     "execution_count": 12,
     "metadata": {},
     "output_type": "execute_result"
    }
   ],
   "source": [
    "# pandas 의 crosstab 을 이용하여 우리가 추출한 Initial 과 Sex 간의 count확인 \n",
    "# train\n",
    "pd.crosstab(df_train['Initial'], df_train['Sex']).T.style.background_gradient(cmap = 'summer_r')"
   ]
  },
  {
   "cell_type": "code",
   "execution_count": 13,
   "metadata": {},
   "outputs": [
    {
     "data": {
      "text/html": [
       "<style  type=\"text/css\" >\n",
       "    #T_2493c67a_70fd_11ea_878f_d0c637a7cf50row0_col0 {\n",
       "            background-color:  #ffff66;\n",
       "            color:  #000000;\n",
       "        }    #T_2493c67a_70fd_11ea_878f_d0c637a7cf50row0_col1 {\n",
       "            background-color:  #008066;\n",
       "            color:  #f1f1f1;\n",
       "        }    #T_2493c67a_70fd_11ea_878f_d0c637a7cf50row0_col2 {\n",
       "            background-color:  #ffff66;\n",
       "            color:  #000000;\n",
       "        }    #T_2493c67a_70fd_11ea_878f_d0c637a7cf50row0_col3 {\n",
       "            background-color:  #ffff66;\n",
       "            color:  #000000;\n",
       "        }    #T_2493c67a_70fd_11ea_878f_d0c637a7cf50row0_col4 {\n",
       "            background-color:  #008066;\n",
       "            color:  #f1f1f1;\n",
       "        }    #T_2493c67a_70fd_11ea_878f_d0c637a7cf50row0_col5 {\n",
       "            background-color:  #ffff66;\n",
       "            color:  #000000;\n",
       "        }    #T_2493c67a_70fd_11ea_878f_d0c637a7cf50row0_col6 {\n",
       "            background-color:  #008066;\n",
       "            color:  #f1f1f1;\n",
       "        }    #T_2493c67a_70fd_11ea_878f_d0c637a7cf50row0_col7 {\n",
       "            background-color:  #008066;\n",
       "            color:  #f1f1f1;\n",
       "        }    #T_2493c67a_70fd_11ea_878f_d0c637a7cf50row0_col8 {\n",
       "            background-color:  #ffff66;\n",
       "            color:  #000000;\n",
       "        }    #T_2493c67a_70fd_11ea_878f_d0c637a7cf50row1_col0 {\n",
       "            background-color:  #008066;\n",
       "            color:  #f1f1f1;\n",
       "        }    #T_2493c67a_70fd_11ea_878f_d0c637a7cf50row1_col1 {\n",
       "            background-color:  #ffff66;\n",
       "            color:  #000000;\n",
       "        }    #T_2493c67a_70fd_11ea_878f_d0c637a7cf50row1_col2 {\n",
       "            background-color:  #008066;\n",
       "            color:  #f1f1f1;\n",
       "        }    #T_2493c67a_70fd_11ea_878f_d0c637a7cf50row1_col3 {\n",
       "            background-color:  #008066;\n",
       "            color:  #f1f1f1;\n",
       "        }    #T_2493c67a_70fd_11ea_878f_d0c637a7cf50row1_col4 {\n",
       "            background-color:  #ffff66;\n",
       "            color:  #000000;\n",
       "        }    #T_2493c67a_70fd_11ea_878f_d0c637a7cf50row1_col5 {\n",
       "            background-color:  #008066;\n",
       "            color:  #f1f1f1;\n",
       "        }    #T_2493c67a_70fd_11ea_878f_d0c637a7cf50row1_col6 {\n",
       "            background-color:  #ffff66;\n",
       "            color:  #000000;\n",
       "        }    #T_2493c67a_70fd_11ea_878f_d0c637a7cf50row1_col7 {\n",
       "            background-color:  #ffff66;\n",
       "            color:  #000000;\n",
       "        }    #T_2493c67a_70fd_11ea_878f_d0c637a7cf50row1_col8 {\n",
       "            background-color:  #008066;\n",
       "            color:  #f1f1f1;\n",
       "        }</style><table id=\"T_2493c67a_70fd_11ea_878f_d0c637a7cf50\" ><thead>    <tr>        <th class=\"index_name level0\" >Initial</th>        <th class=\"col_heading level0 col0\" >Col</th>        <th class=\"col_heading level0 col1\" >Dona</th>        <th class=\"col_heading level0 col2\" >Dr</th>        <th class=\"col_heading level0 col3\" >Master</th>        <th class=\"col_heading level0 col4\" >Miss</th>        <th class=\"col_heading level0 col5\" >Mr</th>        <th class=\"col_heading level0 col6\" >Mrs</th>        <th class=\"col_heading level0 col7\" >Ms</th>        <th class=\"col_heading level0 col8\" >Rev</th>    </tr>    <tr>        <th class=\"index_name level0\" >Sex</th>        <th class=\"blank\" ></th>        <th class=\"blank\" ></th>        <th class=\"blank\" ></th>        <th class=\"blank\" ></th>        <th class=\"blank\" ></th>        <th class=\"blank\" ></th>        <th class=\"blank\" ></th>        <th class=\"blank\" ></th>        <th class=\"blank\" ></th>    </tr></thead><tbody>\n",
       "                <tr>\n",
       "                        <th id=\"T_2493c67a_70fd_11ea_878f_d0c637a7cf50level0_row0\" class=\"row_heading level0 row0\" >female</th>\n",
       "                        <td id=\"T_2493c67a_70fd_11ea_878f_d0c637a7cf50row0_col0\" class=\"data row0 col0\" >0</td>\n",
       "                        <td id=\"T_2493c67a_70fd_11ea_878f_d0c637a7cf50row0_col1\" class=\"data row0 col1\" >1</td>\n",
       "                        <td id=\"T_2493c67a_70fd_11ea_878f_d0c637a7cf50row0_col2\" class=\"data row0 col2\" >0</td>\n",
       "                        <td id=\"T_2493c67a_70fd_11ea_878f_d0c637a7cf50row0_col3\" class=\"data row0 col3\" >0</td>\n",
       "                        <td id=\"T_2493c67a_70fd_11ea_878f_d0c637a7cf50row0_col4\" class=\"data row0 col4\" >78</td>\n",
       "                        <td id=\"T_2493c67a_70fd_11ea_878f_d0c637a7cf50row0_col5\" class=\"data row0 col5\" >0</td>\n",
       "                        <td id=\"T_2493c67a_70fd_11ea_878f_d0c637a7cf50row0_col6\" class=\"data row0 col6\" >72</td>\n",
       "                        <td id=\"T_2493c67a_70fd_11ea_878f_d0c637a7cf50row0_col7\" class=\"data row0 col7\" >1</td>\n",
       "                        <td id=\"T_2493c67a_70fd_11ea_878f_d0c637a7cf50row0_col8\" class=\"data row0 col8\" >0</td>\n",
       "            </tr>\n",
       "            <tr>\n",
       "                        <th id=\"T_2493c67a_70fd_11ea_878f_d0c637a7cf50level0_row1\" class=\"row_heading level0 row1\" >male</th>\n",
       "                        <td id=\"T_2493c67a_70fd_11ea_878f_d0c637a7cf50row1_col0\" class=\"data row1 col0\" >2</td>\n",
       "                        <td id=\"T_2493c67a_70fd_11ea_878f_d0c637a7cf50row1_col1\" class=\"data row1 col1\" >0</td>\n",
       "                        <td id=\"T_2493c67a_70fd_11ea_878f_d0c637a7cf50row1_col2\" class=\"data row1 col2\" >1</td>\n",
       "                        <td id=\"T_2493c67a_70fd_11ea_878f_d0c637a7cf50row1_col3\" class=\"data row1 col3\" >21</td>\n",
       "                        <td id=\"T_2493c67a_70fd_11ea_878f_d0c637a7cf50row1_col4\" class=\"data row1 col4\" >0</td>\n",
       "                        <td id=\"T_2493c67a_70fd_11ea_878f_d0c637a7cf50row1_col5\" class=\"data row1 col5\" >240</td>\n",
       "                        <td id=\"T_2493c67a_70fd_11ea_878f_d0c637a7cf50row1_col6\" class=\"data row1 col6\" >0</td>\n",
       "                        <td id=\"T_2493c67a_70fd_11ea_878f_d0c637a7cf50row1_col7\" class=\"data row1 col7\" >0</td>\n",
       "                        <td id=\"T_2493c67a_70fd_11ea_878f_d0c637a7cf50row1_col8\" class=\"data row1 col8\" >2</td>\n",
       "            </tr>\n",
       "    </tbody></table>"
      ],
      "text/plain": [
       "<pandas.io.formats.style.Styler at 0x1ecf110b048>"
      ]
     },
     "execution_count": 13,
     "metadata": {},
     "output_type": "execute_result"
    }
   ],
   "source": [
    "# pandas 의 crosstab 을 이용하여 우리가 추출한 Initial 과 Sex 간의 count확인 \n",
    "# test\n",
    "pd.crosstab(df_test['Initial'], df_test['Sex']).T.style.background_gradient(cmap = 'summer_r')"
   ]
  },
  {
   "cell_type": "code",
   "execution_count": 14,
   "metadata": {},
   "outputs": [
    {
     "name": "stdout",
     "output_type": "stream",
     "text": [
      "old_title =  ['Mlle', 'Mme', 'Ms', 'Dr', 'Major', 'Lady', 'Countess', 'Jonkheer', 'Col', 'Rev', 'Capt', 'Sir', 'Don', 'Dona'] \n",
      " new_title = ['Miss', 'Miss', 'Miss', 'Mr', 'Mr', 'Mrs', 'Mrs', 'Other', 'Other', 'Other', 'Mr', 'Mr', 'Mr', 'Mr']\n"
     ]
    }
   ],
   "source": [
    "# 이름 표준화 \n",
    "old_title = ['Mlle','Mme','Ms','Dr','Major','Lady','Countess','Jonkheer','Col','Rev','Capt','Sir','Don', 'Dona']\n",
    "new_title = ['Miss','Miss','Miss','Mr','Mr','Mrs','Mrs','Other','Other','Other','Mr','Mr','Mr', 'Mr']\n",
    "\n",
    "print('old_title = ',old_title,'\\n','new_title =',new_title)"
   ]
  },
  {
   "cell_type": "code",
   "execution_count": 15,
   "metadata": {},
   "outputs": [],
   "source": [
    "# 크로스테이블을 참고해서 남자, 여자가 쓰는 initial을 구분 \n",
    "# replace를 사용해서 특정 데이터 값을 원하는 값으로 치환 \n",
    "\n",
    "df_train['Initial'].replace(old_title,new_title,inplace=True)\n",
    "df_test['Initial'].replace(old_title,new_title,inplace=True)"
   ]
  },
  {
   "cell_type": "code",
   "execution_count": 16,
   "metadata": {},
   "outputs": [
    {
     "data": {
      "text/plain": [
       "Mr        529\n",
       "Miss      186\n",
       "Mrs       127\n",
       "Master     40\n",
       "Other       9\n",
       "Name: Initial, dtype: int64"
      ]
     },
     "execution_count": 16,
     "metadata": {},
     "output_type": "execute_result"
    }
   ],
   "source": [
    "# 네이밍변경이 잘도\n",
    "df_train.Initial.value_counts()"
   ]
  },
  {
   "cell_type": "code",
   "execution_count": 17,
   "metadata": {},
   "outputs": [
    {
     "data": {
      "text/plain": [
       "Mr        242\n",
       "Miss       79\n",
       "Mrs        72\n",
       "Master     21\n",
       "Other       4\n",
       "Name: Initial, dtype: int64"
      ]
     },
     "execution_count": 17,
     "metadata": {},
     "output_type": "execute_result"
    }
   ],
   "source": [
    "df_test.Initial.value_counts()"
   ]
  },
  {
   "cell_type": "code",
   "execution_count": null,
   "metadata": {},
   "outputs": [],
   "source": []
  },
  {
   "cell_type": "code",
   "execution_count": null,
   "metadata": {},
   "outputs": [],
   "source": []
  },
  {
   "cell_type": "code",
   "execution_count": null,
   "metadata": {},
   "outputs": [],
   "source": []
  }
 ],
 "metadata": {
  "kernelspec": {
   "display_name": "Python 3",
   "language": "python",
   "name": "python3"
  },
  "language_info": {
   "codemirror_mode": {
    "name": "ipython",
    "version": 3
   },
   "file_extension": ".py",
   "mimetype": "text/x-python",
   "name": "python",
   "nbconvert_exporter": "python",
   "pygments_lexer": "ipython3",
   "version": "3.7.4"
  }
 },
 "nbformat": 4,
 "nbformat_minor": 2
}
