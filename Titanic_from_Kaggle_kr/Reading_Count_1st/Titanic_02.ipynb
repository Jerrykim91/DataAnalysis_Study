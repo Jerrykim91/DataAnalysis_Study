{
 "cells": [
  {
   "cell_type": "markdown",
   "metadata": {},
   "source": [
    "# Titanic_02 : 타이타닉 \n",
    "---\n",
    "- 타이타닉에 탑승한 사람들의 신상정보를 활용\n",
    "- 승선한 사람들의 생존여부를 예측하는 모델을 생성\n",
    "    - 여러 시각화 도구(matplotlib, seaborn, plotly), 데이터 분석 도구(pandas, numpy), 머신 러닝 도구(sklearn)을 사용\n"
   ]
  },
  {
   "cell_type": "markdown",
   "metadata": {},
   "source": [
    "## 가설\n",
    "---\n",
    "1. Pclass :  좋은 객실을 사용한 승객이 더 많이 살아남았을 것이라는 가설 \n",
    "2. Age : 젊은사람일수록 에너지가 있으니까 더 많이 살아 남았을거라는 가설 \n",
    "3. Fare : 탑승료에 따른 생존률, 근데 이거는 pclass와 겹치거나 할것같음\n",
    "4. sex : 여성이 더 많이 살아 남았을것이라는 가설 "
   ]
  },
  {
   "cell_type": "code",
   "execution_count": 1,
   "metadata": {},
   "outputs": [
    {
     "data": {
      "text/html": [
       "        <script type=\"text/javascript\">\n",
       "        window.PlotlyConfig = {MathJaxConfig: 'local'};\n",
       "        if (window.MathJax) {MathJax.Hub.Config({SVG: {font: \"STIX-Web\"}});}\n",
       "        if (typeof require !== 'undefined') {\n",
       "        require.undef(\"plotly\");\n",
       "        requirejs.config({\n",
       "            paths: {\n",
       "                'plotly': ['https://cdn.plot.ly/plotly-latest.min']\n",
       "            }\n",
       "        });\n",
       "        require(['plotly'], function(Plotly) {\n",
       "            window._Plotly = Plotly;\n",
       "        });\n",
       "        }\n",
       "        </script>\n",
       "        "
      ]
     },
     "metadata": {},
     "output_type": "display_data"
    }
   ],
   "source": [
    "# import\n",
    "import numpy as np    # 넘파이\n",
    "import pandas as pd   # 판다스 \n",
    "import pandas as Series # 판다스 시리즈 임포트 \n",
    "\n",
    "#  그래프 \n",
    "import matplotlib.pyplot as plt   # 맷폴렛- 그래프\n",
    "%matplotlib inline\n",
    "import seaborn as sns      # 시본 - 그래프 \n",
    "import missingno as msno   # missingno =>  missingno 패키지를 사용하면 누락데이터에 대한 시각화\n",
    "\n",
    "plt.style.use('seaborn')\n",
    "sns.set(font_scale=2.5)\n",
    "# matplotlib 의 기본 scheme 말고 seaborn scheme 을 세팅하고, \n",
    "# 일일이 graph 의 font size 를 지정할 필요 없이 seaborn 의 font_scale 을 사용하면 편합니다.\n",
    "\n",
    "\n",
    "# ?? \n",
    "import plotly.offline as py\n",
    "py.init_notebook_mode(connected=True)\n",
    "import plotly.graph_objs as go \n",
    "import plotly.tools as tls \n",
    "\n",
    "\n",
    "# ignore warnings\n",
    "import warnings    # 워닝 방지\n",
    "warnings.filterwarnings('ignore')\n",
    "\n"
   ]
  },
  {
   "cell_type": "code",
   "execution_count": 2,
   "metadata": {},
   "outputs": [],
   "source": [
    "# ! pip install plotly"
   ]
  },
  {
   "cell_type": "code",
   "execution_count": 3,
   "metadata": {},
   "outputs": [],
   "source": [
    "def search_path(dir_name = 'help'):\n",
    "    import os\n",
    "    \n",
    "# dirname = '../../input'\n",
    "    txt_err = '''\n",
    "    - 여기 참고!\n",
    "    ex) 만약 input => C:\\input\\train.csv에 위치한다면,\n",
    "    1.  ->  '/'    -> 가장 최상의 디렉토리로 이동\n",
    "        => / : root('C:')\n",
    "    2.  ->  './'   -> 파일이 현재 디렉토리를 의미    \n",
    "        => ./ : now_dir -> 내위치(=train.csv) -> train.csv\n",
    "    3.  -> '../'   -> 상위 디렉토리로 이동\n",
    "        => ../ : now_dir의 상단 폴더  -> input\n",
    "    - 두단계 상위 디렉토리로 이동하려면 =>  '../../' 이렇게 사용\n",
    "    '''\n",
    "    if dir_name == 'help':\n",
    "        print(txt_err)\n",
    "    else:\n",
    "        for dirname, _, filenames in os.walk(dir_name):\n",
    "            \n",
    "        #     print(dirname, _, filenames)\n",
    "            for filename in filenames:\n",
    "#                 print(filename)\n",
    "                print(os.path.join(dirname, filename))\n",
    "    \n",
    "search_path('')"
   ]
  },
  {
   "cell_type": "code",
   "execution_count": 4,
   "metadata": {},
   "outputs": [],
   "source": [
    "path = '../../input/%s.csv' \n",
    "\n",
    "df_train = pd.read_csv(path %'train')\n",
    "df_test  = pd.read_csv(path % 'test')\n"
   ]
  },
  {
   "cell_type": "code",
   "execution_count": 5,
   "metadata": {},
   "outputs": [],
   "source": [
    "# Titanic_01에서 진행한 내용 추가 "
   ]
  },
  {
   "cell_type": "code",
   "execution_count": 6,
   "metadata": {},
   "outputs": [],
   "source": [
    "# FamilySize -> 학습, 테스트 모두 적용\n",
    "# 자기자신을 포함해야하기 때문에 1을 더한다\n",
    "df_train['FamilySize'] = df_train['SibSp'] + df_train['Parch'] + 1 \n",
    "df_test['FamilySize'] = df_test['SibSp'] + df_test['Parch'] + 1 "
   ]
  },
  {
   "cell_type": "code",
   "execution_count": 7,
   "metadata": {},
   "outputs": [],
   "source": [
    "df_test.loc[df_test.Fare.isnull(),'Fare'] = df_test['Fare'].mean()"
   ]
  },
  {
   "cell_type": "code",
   "execution_count": 8,
   "metadata": {},
   "outputs": [],
   "source": [
    "df_train['Fare'] = df_train['Fare'].map(lambda i :np.log(i) if i > 0 else 0)\n",
    "df_test['Fare'] = df_test['Fare'].map(lambda i :np.log(i) if i > 0 else 0)"
   ]
  },
  {
   "cell_type": "markdown",
   "metadata": {},
   "source": [
    "# 3.Feature engineering\n",
    "--- \n",
    "\n",
    "- 본격적인 Feature engineering 시작 \n",
    "- 가장 먼저 데이터셋에 존재하는 결측값을 채울것이다.     \n",
    "\n",
    "- 의미없는 숫자로 채울 수는 없고, 결측데이터를 포함하는 feature의 statistics(통계)를 참고하거나, 다른 아이디어를 생각해내서 채울 수 있다.     \n",
    "- 결측 데이터를 어떻게 채우는지에 따라 모델의 성능이 좌지우지될 수 있기 때문에, 신경써줘야할 부분이다.\n",
    "\n",
    "- Feature engineering은 실제 모델의 학습에 쓰려고 하는것 \n",
    "- 학습, 테스트 모두 똑같이 적용해줘야한다!!!!!"
   ]
  },
  {
   "cell_type": "markdown",
   "metadata": {},
   "source": [
    "## 결측치 채우기(Fill Null)\n",
    "---"
   ]
  },
  {
   "cell_type": "markdown",
   "metadata": {},
   "source": [
    "### 네임타이틀과 나이를 이용해 결측치 채우기 : Fill Null in Age using title\n",
    "\n",
    "- 나이에는 177개의 결측치가 있다.\n",
    "- 결측치를 채울 수 있는 여러가지 아이디어중 title + statistics를 사용 \n",
    "- 영어에서는 Miss, Mrr, Mrs 같은 title이 존재\n",
    "    - 각 승객의 이름에는 꼭 타이틀네임이 붙는다.\n",
    "    - 이를 이용해서 진행 \n",
    "    \n",
    "- 판다스의 시리즈를 이용 \n",
    "    - data -> string으로 바꾸어주는  str method가 존재 \n",
    "    - 추가로 정규 표현식을 적용하게 해주는 extract method 존재 \n",
    "    - 위 메소드로 쉽게 타이틀을 추출 가능 -> 타이틀을 Initial column에 저장\n",
    "    "
   ]
  },
  {
   "cell_type": "code",
   "execution_count": 9,
   "metadata": {},
   "outputs": [
    {
     "data": {
      "text/plain": [
       "0                                Braund, Mr. Owen Harris\n",
       "1      Cumings, Mrs. John Bradley (Florence Briggs Th...\n",
       "2                                 Heikkinen, Miss. Laina\n",
       "3           Futrelle, Mrs. Jacques Heath (Lily May Peel)\n",
       "4                               Allen, Mr. William Henry\n",
       "                             ...                        \n",
       "886                                Montvila, Rev. Juozas\n",
       "887                         Graham, Miss. Margaret Edith\n",
       "888             Johnston, Miss. Catherine Helen \"Carrie\"\n",
       "889                                Behr, Mr. Karl Howell\n",
       "890                                  Dooley, Mr. Patrick\n",
       "Name: Name, Length: 891, dtype: object"
      ]
     },
     "execution_count": 9,
     "metadata": {},
     "output_type": "execute_result"
    }
   ],
   "source": [
    "# 문자열 추가 \n",
    "df_train.Name"
   ]
  },
  {
   "cell_type": "code",
   "execution_count": 10,
   "metadata": {},
   "outputs": [],
   "source": [
    "# 이름 컬럼안에 있는 네임 타이틀을 가져온다.\n",
    "# . 앞에 있는 글자를 가져온다 \n",
    "df_train['Initial'] = df_train.Name.str.extract('([A-Za-z]+)\\.')\n",
    "df_test['Initial'] = df_test.Name.str.extract('([A-Za-z]+)\\.')"
   ]
  },
  {
   "cell_type": "code",
   "execution_count": 11,
   "metadata": {
    "scrolled": true
   },
   "outputs": [
    {
     "data": {
      "text/plain": [
       "Mr          517\n",
       "Miss        182\n",
       "Mrs         125\n",
       "Master       40\n",
       "Dr            7\n",
       "Rev           6\n",
       "Mlle          2\n",
       "Col           2\n",
       "Major         2\n",
       "Sir           1\n",
       "Capt          1\n",
       "Don           1\n",
       "Jonkheer      1\n",
       "Lady          1\n",
       "Countess      1\n",
       "Mme           1\n",
       "Ms            1\n",
       "Name: Initial, dtype: int64"
      ]
     },
     "execution_count": 11,
     "metadata": {},
     "output_type": "execute_result"
    }
   ],
   "source": [
    "df_train.Initial.value_counts()"
   ]
  },
  {
   "cell_type": "code",
   "execution_count": 12,
   "metadata": {},
   "outputs": [
    {
     "data": {
      "text/plain": [
       "Mr        240\n",
       "Miss       78\n",
       "Mrs        72\n",
       "Master     21\n",
       "Rev         2\n",
       "Col         2\n",
       "Dona        1\n",
       "Dr          1\n",
       "Ms          1\n",
       "Name: Initial, dtype: int64"
      ]
     },
     "execution_count": 12,
     "metadata": {},
     "output_type": "execute_result"
    }
   ],
   "source": [
    "df_test.Initial.value_counts()"
   ]
  },
  {
   "cell_type": "code",
   "execution_count": 13,
   "metadata": {
    "scrolled": true
   },
   "outputs": [
    {
     "data": {
      "text/html": [
       "<style  type=\"text/css\" >\n",
       "    #T_cec6fff6_77ed_11ea_bd53_d0c637a7cf50row0_col0 {\n",
       "            background-color:  #ffff66;\n",
       "            color:  #000000;\n",
       "        }    #T_cec6fff6_77ed_11ea_bd53_d0c637a7cf50row0_col1 {\n",
       "            background-color:  #ffff66;\n",
       "            color:  #000000;\n",
       "        }    #T_cec6fff6_77ed_11ea_bd53_d0c637a7cf50row0_col2 {\n",
       "            background-color:  #008066;\n",
       "            color:  #f1f1f1;\n",
       "        }    #T_cec6fff6_77ed_11ea_bd53_d0c637a7cf50row0_col3 {\n",
       "            background-color:  #ffff66;\n",
       "            color:  #000000;\n",
       "        }    #T_cec6fff6_77ed_11ea_bd53_d0c637a7cf50row0_col4 {\n",
       "            background-color:  #ffff66;\n",
       "            color:  #000000;\n",
       "        }    #T_cec6fff6_77ed_11ea_bd53_d0c637a7cf50row0_col5 {\n",
       "            background-color:  #ffff66;\n",
       "            color:  #000000;\n",
       "        }    #T_cec6fff6_77ed_11ea_bd53_d0c637a7cf50row0_col6 {\n",
       "            background-color:  #008066;\n",
       "            color:  #f1f1f1;\n",
       "        }    #T_cec6fff6_77ed_11ea_bd53_d0c637a7cf50row0_col7 {\n",
       "            background-color:  #ffff66;\n",
       "            color:  #000000;\n",
       "        }    #T_cec6fff6_77ed_11ea_bd53_d0c637a7cf50row0_col8 {\n",
       "            background-color:  #ffff66;\n",
       "            color:  #000000;\n",
       "        }    #T_cec6fff6_77ed_11ea_bd53_d0c637a7cf50row0_col9 {\n",
       "            background-color:  #008066;\n",
       "            color:  #f1f1f1;\n",
       "        }    #T_cec6fff6_77ed_11ea_bd53_d0c637a7cf50row0_col10 {\n",
       "            background-color:  #008066;\n",
       "            color:  #f1f1f1;\n",
       "        }    #T_cec6fff6_77ed_11ea_bd53_d0c637a7cf50row0_col11 {\n",
       "            background-color:  #008066;\n",
       "            color:  #f1f1f1;\n",
       "        }    #T_cec6fff6_77ed_11ea_bd53_d0c637a7cf50row0_col12 {\n",
       "            background-color:  #ffff66;\n",
       "            color:  #000000;\n",
       "        }    #T_cec6fff6_77ed_11ea_bd53_d0c637a7cf50row0_col13 {\n",
       "            background-color:  #008066;\n",
       "            color:  #f1f1f1;\n",
       "        }    #T_cec6fff6_77ed_11ea_bd53_d0c637a7cf50row0_col14 {\n",
       "            background-color:  #008066;\n",
       "            color:  #f1f1f1;\n",
       "        }    #T_cec6fff6_77ed_11ea_bd53_d0c637a7cf50row0_col15 {\n",
       "            background-color:  #ffff66;\n",
       "            color:  #000000;\n",
       "        }    #T_cec6fff6_77ed_11ea_bd53_d0c637a7cf50row0_col16 {\n",
       "            background-color:  #ffff66;\n",
       "            color:  #000000;\n",
       "        }    #T_cec6fff6_77ed_11ea_bd53_d0c637a7cf50row1_col0 {\n",
       "            background-color:  #008066;\n",
       "            color:  #f1f1f1;\n",
       "        }    #T_cec6fff6_77ed_11ea_bd53_d0c637a7cf50row1_col1 {\n",
       "            background-color:  #008066;\n",
       "            color:  #f1f1f1;\n",
       "        }    #T_cec6fff6_77ed_11ea_bd53_d0c637a7cf50row1_col2 {\n",
       "            background-color:  #ffff66;\n",
       "            color:  #000000;\n",
       "        }    #T_cec6fff6_77ed_11ea_bd53_d0c637a7cf50row1_col3 {\n",
       "            background-color:  #008066;\n",
       "            color:  #f1f1f1;\n",
       "        }    #T_cec6fff6_77ed_11ea_bd53_d0c637a7cf50row1_col4 {\n",
       "            background-color:  #008066;\n",
       "            color:  #f1f1f1;\n",
       "        }    #T_cec6fff6_77ed_11ea_bd53_d0c637a7cf50row1_col5 {\n",
       "            background-color:  #008066;\n",
       "            color:  #f1f1f1;\n",
       "        }    #T_cec6fff6_77ed_11ea_bd53_d0c637a7cf50row1_col6 {\n",
       "            background-color:  #ffff66;\n",
       "            color:  #000000;\n",
       "        }    #T_cec6fff6_77ed_11ea_bd53_d0c637a7cf50row1_col7 {\n",
       "            background-color:  #008066;\n",
       "            color:  #f1f1f1;\n",
       "        }    #T_cec6fff6_77ed_11ea_bd53_d0c637a7cf50row1_col8 {\n",
       "            background-color:  #008066;\n",
       "            color:  #f1f1f1;\n",
       "        }    #T_cec6fff6_77ed_11ea_bd53_d0c637a7cf50row1_col9 {\n",
       "            background-color:  #ffff66;\n",
       "            color:  #000000;\n",
       "        }    #T_cec6fff6_77ed_11ea_bd53_d0c637a7cf50row1_col10 {\n",
       "            background-color:  #ffff66;\n",
       "            color:  #000000;\n",
       "        }    #T_cec6fff6_77ed_11ea_bd53_d0c637a7cf50row1_col11 {\n",
       "            background-color:  #ffff66;\n",
       "            color:  #000000;\n",
       "        }    #T_cec6fff6_77ed_11ea_bd53_d0c637a7cf50row1_col12 {\n",
       "            background-color:  #008066;\n",
       "            color:  #f1f1f1;\n",
       "        }    #T_cec6fff6_77ed_11ea_bd53_d0c637a7cf50row1_col13 {\n",
       "            background-color:  #ffff66;\n",
       "            color:  #000000;\n",
       "        }    #T_cec6fff6_77ed_11ea_bd53_d0c637a7cf50row1_col14 {\n",
       "            background-color:  #ffff66;\n",
       "            color:  #000000;\n",
       "        }    #T_cec6fff6_77ed_11ea_bd53_d0c637a7cf50row1_col15 {\n",
       "            background-color:  #008066;\n",
       "            color:  #f1f1f1;\n",
       "        }    #T_cec6fff6_77ed_11ea_bd53_d0c637a7cf50row1_col16 {\n",
       "            background-color:  #008066;\n",
       "            color:  #f1f1f1;\n",
       "        }</style><table id=\"T_cec6fff6_77ed_11ea_bd53_d0c637a7cf50\" ><thead>    <tr>        <th class=\"index_name level0\" >Initial</th>        <th class=\"col_heading level0 col0\" >Capt</th>        <th class=\"col_heading level0 col1\" >Col</th>        <th class=\"col_heading level0 col2\" >Countess</th>        <th class=\"col_heading level0 col3\" >Don</th>        <th class=\"col_heading level0 col4\" >Dr</th>        <th class=\"col_heading level0 col5\" >Jonkheer</th>        <th class=\"col_heading level0 col6\" >Lady</th>        <th class=\"col_heading level0 col7\" >Major</th>        <th class=\"col_heading level0 col8\" >Master</th>        <th class=\"col_heading level0 col9\" >Miss</th>        <th class=\"col_heading level0 col10\" >Mlle</th>        <th class=\"col_heading level0 col11\" >Mme</th>        <th class=\"col_heading level0 col12\" >Mr</th>        <th class=\"col_heading level0 col13\" >Mrs</th>        <th class=\"col_heading level0 col14\" >Ms</th>        <th class=\"col_heading level0 col15\" >Rev</th>        <th class=\"col_heading level0 col16\" >Sir</th>    </tr>    <tr>        <th class=\"index_name level0\" >Sex</th>        <th class=\"blank\" ></th>        <th class=\"blank\" ></th>        <th class=\"blank\" ></th>        <th class=\"blank\" ></th>        <th class=\"blank\" ></th>        <th class=\"blank\" ></th>        <th class=\"blank\" ></th>        <th class=\"blank\" ></th>        <th class=\"blank\" ></th>        <th class=\"blank\" ></th>        <th class=\"blank\" ></th>        <th class=\"blank\" ></th>        <th class=\"blank\" ></th>        <th class=\"blank\" ></th>        <th class=\"blank\" ></th>        <th class=\"blank\" ></th>        <th class=\"blank\" ></th>    </tr></thead><tbody>\n",
       "                <tr>\n",
       "                        <th id=\"T_cec6fff6_77ed_11ea_bd53_d0c637a7cf50level0_row0\" class=\"row_heading level0 row0\" >female</th>\n",
       "                        <td id=\"T_cec6fff6_77ed_11ea_bd53_d0c637a7cf50row0_col0\" class=\"data row0 col0\" >0</td>\n",
       "                        <td id=\"T_cec6fff6_77ed_11ea_bd53_d0c637a7cf50row0_col1\" class=\"data row0 col1\" >0</td>\n",
       "                        <td id=\"T_cec6fff6_77ed_11ea_bd53_d0c637a7cf50row0_col2\" class=\"data row0 col2\" >1</td>\n",
       "                        <td id=\"T_cec6fff6_77ed_11ea_bd53_d0c637a7cf50row0_col3\" class=\"data row0 col3\" >0</td>\n",
       "                        <td id=\"T_cec6fff6_77ed_11ea_bd53_d0c637a7cf50row0_col4\" class=\"data row0 col4\" >1</td>\n",
       "                        <td id=\"T_cec6fff6_77ed_11ea_bd53_d0c637a7cf50row0_col5\" class=\"data row0 col5\" >0</td>\n",
       "                        <td id=\"T_cec6fff6_77ed_11ea_bd53_d0c637a7cf50row0_col6\" class=\"data row0 col6\" >1</td>\n",
       "                        <td id=\"T_cec6fff6_77ed_11ea_bd53_d0c637a7cf50row0_col7\" class=\"data row0 col7\" >0</td>\n",
       "                        <td id=\"T_cec6fff6_77ed_11ea_bd53_d0c637a7cf50row0_col8\" class=\"data row0 col8\" >0</td>\n",
       "                        <td id=\"T_cec6fff6_77ed_11ea_bd53_d0c637a7cf50row0_col9\" class=\"data row0 col9\" >182</td>\n",
       "                        <td id=\"T_cec6fff6_77ed_11ea_bd53_d0c637a7cf50row0_col10\" class=\"data row0 col10\" >2</td>\n",
       "                        <td id=\"T_cec6fff6_77ed_11ea_bd53_d0c637a7cf50row0_col11\" class=\"data row0 col11\" >1</td>\n",
       "                        <td id=\"T_cec6fff6_77ed_11ea_bd53_d0c637a7cf50row0_col12\" class=\"data row0 col12\" >0</td>\n",
       "                        <td id=\"T_cec6fff6_77ed_11ea_bd53_d0c637a7cf50row0_col13\" class=\"data row0 col13\" >125</td>\n",
       "                        <td id=\"T_cec6fff6_77ed_11ea_bd53_d0c637a7cf50row0_col14\" class=\"data row0 col14\" >1</td>\n",
       "                        <td id=\"T_cec6fff6_77ed_11ea_bd53_d0c637a7cf50row0_col15\" class=\"data row0 col15\" >0</td>\n",
       "                        <td id=\"T_cec6fff6_77ed_11ea_bd53_d0c637a7cf50row0_col16\" class=\"data row0 col16\" >0</td>\n",
       "            </tr>\n",
       "            <tr>\n",
       "                        <th id=\"T_cec6fff6_77ed_11ea_bd53_d0c637a7cf50level0_row1\" class=\"row_heading level0 row1\" >male</th>\n",
       "                        <td id=\"T_cec6fff6_77ed_11ea_bd53_d0c637a7cf50row1_col0\" class=\"data row1 col0\" >1</td>\n",
       "                        <td id=\"T_cec6fff6_77ed_11ea_bd53_d0c637a7cf50row1_col1\" class=\"data row1 col1\" >2</td>\n",
       "                        <td id=\"T_cec6fff6_77ed_11ea_bd53_d0c637a7cf50row1_col2\" class=\"data row1 col2\" >0</td>\n",
       "                        <td id=\"T_cec6fff6_77ed_11ea_bd53_d0c637a7cf50row1_col3\" class=\"data row1 col3\" >1</td>\n",
       "                        <td id=\"T_cec6fff6_77ed_11ea_bd53_d0c637a7cf50row1_col4\" class=\"data row1 col4\" >6</td>\n",
       "                        <td id=\"T_cec6fff6_77ed_11ea_bd53_d0c637a7cf50row1_col5\" class=\"data row1 col5\" >1</td>\n",
       "                        <td id=\"T_cec6fff6_77ed_11ea_bd53_d0c637a7cf50row1_col6\" class=\"data row1 col6\" >0</td>\n",
       "                        <td id=\"T_cec6fff6_77ed_11ea_bd53_d0c637a7cf50row1_col7\" class=\"data row1 col7\" >2</td>\n",
       "                        <td id=\"T_cec6fff6_77ed_11ea_bd53_d0c637a7cf50row1_col8\" class=\"data row1 col8\" >40</td>\n",
       "                        <td id=\"T_cec6fff6_77ed_11ea_bd53_d0c637a7cf50row1_col9\" class=\"data row1 col9\" >0</td>\n",
       "                        <td id=\"T_cec6fff6_77ed_11ea_bd53_d0c637a7cf50row1_col10\" class=\"data row1 col10\" >0</td>\n",
       "                        <td id=\"T_cec6fff6_77ed_11ea_bd53_d0c637a7cf50row1_col11\" class=\"data row1 col11\" >0</td>\n",
       "                        <td id=\"T_cec6fff6_77ed_11ea_bd53_d0c637a7cf50row1_col12\" class=\"data row1 col12\" >517</td>\n",
       "                        <td id=\"T_cec6fff6_77ed_11ea_bd53_d0c637a7cf50row1_col13\" class=\"data row1 col13\" >0</td>\n",
       "                        <td id=\"T_cec6fff6_77ed_11ea_bd53_d0c637a7cf50row1_col14\" class=\"data row1 col14\" >0</td>\n",
       "                        <td id=\"T_cec6fff6_77ed_11ea_bd53_d0c637a7cf50row1_col15\" class=\"data row1 col15\" >6</td>\n",
       "                        <td id=\"T_cec6fff6_77ed_11ea_bd53_d0c637a7cf50row1_col16\" class=\"data row1 col16\" >1</td>\n",
       "            </tr>\n",
       "    </tbody></table>"
      ],
      "text/plain": [
       "<pandas.io.formats.style.Styler at 0x28e75897d08>"
      ]
     },
     "execution_count": 13,
     "metadata": {},
     "output_type": "execute_result"
    }
   ],
   "source": [
    "# pandas 의 crosstab 을 이용하여 우리가 추출한 Initial 과 Sex 간의 count확인 \n",
    "# train\n",
    "pd.crosstab(df_train['Initial'], df_train['Sex']).T.style.background_gradient(cmap = 'summer_r')"
   ]
  },
  {
   "cell_type": "code",
   "execution_count": 14,
   "metadata": {},
   "outputs": [
    {
     "data": {
      "text/html": [
       "<style  type=\"text/css\" >\n",
       "    #T_ced29f76_77ed_11ea_be6a_d0c637a7cf50row0_col0 {\n",
       "            background-color:  #ffff66;\n",
       "            color:  #000000;\n",
       "        }    #T_ced29f76_77ed_11ea_be6a_d0c637a7cf50row0_col1 {\n",
       "            background-color:  #008066;\n",
       "            color:  #f1f1f1;\n",
       "        }    #T_ced29f76_77ed_11ea_be6a_d0c637a7cf50row0_col2 {\n",
       "            background-color:  #ffff66;\n",
       "            color:  #000000;\n",
       "        }    #T_ced29f76_77ed_11ea_be6a_d0c637a7cf50row0_col3 {\n",
       "            background-color:  #ffff66;\n",
       "            color:  #000000;\n",
       "        }    #T_ced29f76_77ed_11ea_be6a_d0c637a7cf50row0_col4 {\n",
       "            background-color:  #008066;\n",
       "            color:  #f1f1f1;\n",
       "        }    #T_ced29f76_77ed_11ea_be6a_d0c637a7cf50row0_col5 {\n",
       "            background-color:  #ffff66;\n",
       "            color:  #000000;\n",
       "        }    #T_ced29f76_77ed_11ea_be6a_d0c637a7cf50row0_col6 {\n",
       "            background-color:  #008066;\n",
       "            color:  #f1f1f1;\n",
       "        }    #T_ced29f76_77ed_11ea_be6a_d0c637a7cf50row0_col7 {\n",
       "            background-color:  #008066;\n",
       "            color:  #f1f1f1;\n",
       "        }    #T_ced29f76_77ed_11ea_be6a_d0c637a7cf50row0_col8 {\n",
       "            background-color:  #ffff66;\n",
       "            color:  #000000;\n",
       "        }    #T_ced29f76_77ed_11ea_be6a_d0c637a7cf50row1_col0 {\n",
       "            background-color:  #008066;\n",
       "            color:  #f1f1f1;\n",
       "        }    #T_ced29f76_77ed_11ea_be6a_d0c637a7cf50row1_col1 {\n",
       "            background-color:  #ffff66;\n",
       "            color:  #000000;\n",
       "        }    #T_ced29f76_77ed_11ea_be6a_d0c637a7cf50row1_col2 {\n",
       "            background-color:  #008066;\n",
       "            color:  #f1f1f1;\n",
       "        }    #T_ced29f76_77ed_11ea_be6a_d0c637a7cf50row1_col3 {\n",
       "            background-color:  #008066;\n",
       "            color:  #f1f1f1;\n",
       "        }    #T_ced29f76_77ed_11ea_be6a_d0c637a7cf50row1_col4 {\n",
       "            background-color:  #ffff66;\n",
       "            color:  #000000;\n",
       "        }    #T_ced29f76_77ed_11ea_be6a_d0c637a7cf50row1_col5 {\n",
       "            background-color:  #008066;\n",
       "            color:  #f1f1f1;\n",
       "        }    #T_ced29f76_77ed_11ea_be6a_d0c637a7cf50row1_col6 {\n",
       "            background-color:  #ffff66;\n",
       "            color:  #000000;\n",
       "        }    #T_ced29f76_77ed_11ea_be6a_d0c637a7cf50row1_col7 {\n",
       "            background-color:  #ffff66;\n",
       "            color:  #000000;\n",
       "        }    #T_ced29f76_77ed_11ea_be6a_d0c637a7cf50row1_col8 {\n",
       "            background-color:  #008066;\n",
       "            color:  #f1f1f1;\n",
       "        }</style><table id=\"T_ced29f76_77ed_11ea_be6a_d0c637a7cf50\" ><thead>    <tr>        <th class=\"index_name level0\" >Initial</th>        <th class=\"col_heading level0 col0\" >Col</th>        <th class=\"col_heading level0 col1\" >Dona</th>        <th class=\"col_heading level0 col2\" >Dr</th>        <th class=\"col_heading level0 col3\" >Master</th>        <th class=\"col_heading level0 col4\" >Miss</th>        <th class=\"col_heading level0 col5\" >Mr</th>        <th class=\"col_heading level0 col6\" >Mrs</th>        <th class=\"col_heading level0 col7\" >Ms</th>        <th class=\"col_heading level0 col8\" >Rev</th>    </tr>    <tr>        <th class=\"index_name level0\" >Sex</th>        <th class=\"blank\" ></th>        <th class=\"blank\" ></th>        <th class=\"blank\" ></th>        <th class=\"blank\" ></th>        <th class=\"blank\" ></th>        <th class=\"blank\" ></th>        <th class=\"blank\" ></th>        <th class=\"blank\" ></th>        <th class=\"blank\" ></th>    </tr></thead><tbody>\n",
       "                <tr>\n",
       "                        <th id=\"T_ced29f76_77ed_11ea_be6a_d0c637a7cf50level0_row0\" class=\"row_heading level0 row0\" >female</th>\n",
       "                        <td id=\"T_ced29f76_77ed_11ea_be6a_d0c637a7cf50row0_col0\" class=\"data row0 col0\" >0</td>\n",
       "                        <td id=\"T_ced29f76_77ed_11ea_be6a_d0c637a7cf50row0_col1\" class=\"data row0 col1\" >1</td>\n",
       "                        <td id=\"T_ced29f76_77ed_11ea_be6a_d0c637a7cf50row0_col2\" class=\"data row0 col2\" >0</td>\n",
       "                        <td id=\"T_ced29f76_77ed_11ea_be6a_d0c637a7cf50row0_col3\" class=\"data row0 col3\" >0</td>\n",
       "                        <td id=\"T_ced29f76_77ed_11ea_be6a_d0c637a7cf50row0_col4\" class=\"data row0 col4\" >78</td>\n",
       "                        <td id=\"T_ced29f76_77ed_11ea_be6a_d0c637a7cf50row0_col5\" class=\"data row0 col5\" >0</td>\n",
       "                        <td id=\"T_ced29f76_77ed_11ea_be6a_d0c637a7cf50row0_col6\" class=\"data row0 col6\" >72</td>\n",
       "                        <td id=\"T_ced29f76_77ed_11ea_be6a_d0c637a7cf50row0_col7\" class=\"data row0 col7\" >1</td>\n",
       "                        <td id=\"T_ced29f76_77ed_11ea_be6a_d0c637a7cf50row0_col8\" class=\"data row0 col8\" >0</td>\n",
       "            </tr>\n",
       "            <tr>\n",
       "                        <th id=\"T_ced29f76_77ed_11ea_be6a_d0c637a7cf50level0_row1\" class=\"row_heading level0 row1\" >male</th>\n",
       "                        <td id=\"T_ced29f76_77ed_11ea_be6a_d0c637a7cf50row1_col0\" class=\"data row1 col0\" >2</td>\n",
       "                        <td id=\"T_ced29f76_77ed_11ea_be6a_d0c637a7cf50row1_col1\" class=\"data row1 col1\" >0</td>\n",
       "                        <td id=\"T_ced29f76_77ed_11ea_be6a_d0c637a7cf50row1_col2\" class=\"data row1 col2\" >1</td>\n",
       "                        <td id=\"T_ced29f76_77ed_11ea_be6a_d0c637a7cf50row1_col3\" class=\"data row1 col3\" >21</td>\n",
       "                        <td id=\"T_ced29f76_77ed_11ea_be6a_d0c637a7cf50row1_col4\" class=\"data row1 col4\" >0</td>\n",
       "                        <td id=\"T_ced29f76_77ed_11ea_be6a_d0c637a7cf50row1_col5\" class=\"data row1 col5\" >240</td>\n",
       "                        <td id=\"T_ced29f76_77ed_11ea_be6a_d0c637a7cf50row1_col6\" class=\"data row1 col6\" >0</td>\n",
       "                        <td id=\"T_ced29f76_77ed_11ea_be6a_d0c637a7cf50row1_col7\" class=\"data row1 col7\" >0</td>\n",
       "                        <td id=\"T_ced29f76_77ed_11ea_be6a_d0c637a7cf50row1_col8\" class=\"data row1 col8\" >2</td>\n",
       "            </tr>\n",
       "    </tbody></table>"
      ],
      "text/plain": [
       "<pandas.io.formats.style.Styler at 0x28e758a81c8>"
      ]
     },
     "execution_count": 14,
     "metadata": {},
     "output_type": "execute_result"
    }
   ],
   "source": [
    "# pandas 의 crosstab 을 이용하여 우리가 추출한 Initial 과 Sex 간의 count확인 \n",
    "# test\n",
    "pd.crosstab(df_test['Initial'], df_test['Sex']).T.style.background_gradient(cmap = 'summer_r')"
   ]
  },
  {
   "cell_type": "code",
   "execution_count": 15,
   "metadata": {},
   "outputs": [
    {
     "name": "stdout",
     "output_type": "stream",
     "text": [
      "old_title =  ['Mlle', 'Mme', 'Ms', 'Dr', 'Major', 'Lady', 'Countess', 'Jonkheer', 'Col', 'Rev', 'Capt', 'Sir', 'Don', 'Dona'] \n",
      " new_title = ['Miss', 'Miss', 'Miss', 'Mr', 'Mr', 'Mrs', 'Mrs', 'Other', 'Other', 'Other', 'Mr', 'Mr', 'Mr', 'Mr']\n"
     ]
    }
   ],
   "source": [
    "# 이름 표준화 \n",
    "old_title = ['Mlle','Mme','Ms','Dr','Major','Lady','Countess','Jonkheer','Col','Rev','Capt','Sir','Don', 'Dona']\n",
    "new_title = ['Miss','Miss','Miss','Mr','Mr','Mrs','Mrs','Other','Other','Other','Mr','Mr','Mr', 'Mr']\n",
    "\n",
    "print('old_title = ',old_title,'\\n','new_title =',new_title)"
   ]
  },
  {
   "cell_type": "code",
   "execution_count": 16,
   "metadata": {},
   "outputs": [],
   "source": [
    "# 크로스테이블을 참고해서 남자, 여자가 쓰는 initial을 구분 \n",
    "# replace를 사용해서 특정 데이터 값을 원하는 값으로 치환 \n",
    "\n",
    "df_train['Initial'].replace(old_title,new_title,inplace=True)\n",
    "df_test['Initial'].replace(old_title,new_title,inplace=True)"
   ]
  },
  {
   "cell_type": "code",
   "execution_count": 17,
   "metadata": {},
   "outputs": [
    {
     "data": {
      "text/plain": [
       "Mr        529\n",
       "Miss      186\n",
       "Mrs       127\n",
       "Master     40\n",
       "Other       9\n",
       "Name: Initial, dtype: int64"
      ]
     },
     "execution_count": 17,
     "metadata": {},
     "output_type": "execute_result"
    }
   ],
   "source": [
    "# 네이밍변경이 잘되었는지 확인 \n",
    "df_train.Initial.value_counts()"
   ]
  },
  {
   "cell_type": "code",
   "execution_count": 18,
   "metadata": {},
   "outputs": [
    {
     "data": {
      "text/plain": [
       "Mr        242\n",
       "Miss       79\n",
       "Mrs        72\n",
       "Master     21\n",
       "Other       4\n",
       "Name: Initial, dtype: int64"
      ]
     },
     "execution_count": 18,
     "metadata": {},
     "output_type": "execute_result"
    }
   ],
   "source": [
    "df_test.Initial.value_counts()"
   ]
  },
  {
   "cell_type": "markdown",
   "metadata": {},
   "source": [
    "![groupby정의](https://t1.daumcdn.net/cfile/tistory/9978503F5B8264490F)[참고](https://rfriend.tistory.com/383)"
   ]
  },
  {
   "cell_type": "code",
   "execution_count": 19,
   "metadata": {
    "scrolled": true
   },
   "outputs": [
    {
     "data": {
      "text/html": [
       "<div>\n",
       "<style scoped>\n",
       "    .dataframe tbody tr th:only-of-type {\n",
       "        vertical-align: middle;\n",
       "    }\n",
       "\n",
       "    .dataframe tbody tr th {\n",
       "        vertical-align: top;\n",
       "    }\n",
       "\n",
       "    .dataframe thead th {\n",
       "        text-align: right;\n",
       "    }\n",
       "</style>\n",
       "<table border=\"1\" class=\"dataframe\">\n",
       "  <thead>\n",
       "    <tr style=\"text-align: right;\">\n",
       "      <th></th>\n",
       "      <th>PassengerId</th>\n",
       "      <th>Survived</th>\n",
       "      <th>Pclass</th>\n",
       "      <th>Age</th>\n",
       "      <th>SibSp</th>\n",
       "      <th>Parch</th>\n",
       "      <th>Fare</th>\n",
       "      <th>FamilySize</th>\n",
       "    </tr>\n",
       "    <tr>\n",
       "      <th>Initial</th>\n",
       "      <th></th>\n",
       "      <th></th>\n",
       "      <th></th>\n",
       "      <th></th>\n",
       "      <th></th>\n",
       "      <th></th>\n",
       "      <th></th>\n",
       "      <th></th>\n",
       "    </tr>\n",
       "  </thead>\n",
       "  <tbody>\n",
       "    <tr>\n",
       "      <td>Master</td>\n",
       "      <td>414.975000</td>\n",
       "      <td>0.575000</td>\n",
       "      <td>2.625000</td>\n",
       "      <td>4.574167</td>\n",
       "      <td>2.300000</td>\n",
       "      <td>1.375000</td>\n",
       "      <td>3.340710</td>\n",
       "      <td>4.675000</td>\n",
       "    </tr>\n",
       "    <tr>\n",
       "      <td>Miss</td>\n",
       "      <td>411.741935</td>\n",
       "      <td>0.704301</td>\n",
       "      <td>2.284946</td>\n",
       "      <td>21.860000</td>\n",
       "      <td>0.698925</td>\n",
       "      <td>0.537634</td>\n",
       "      <td>3.123713</td>\n",
       "      <td>2.236559</td>\n",
       "    </tr>\n",
       "    <tr>\n",
       "      <td>Mr</td>\n",
       "      <td>455.880907</td>\n",
       "      <td>0.162571</td>\n",
       "      <td>2.381853</td>\n",
       "      <td>32.739609</td>\n",
       "      <td>0.293006</td>\n",
       "      <td>0.151229</td>\n",
       "      <td>2.651507</td>\n",
       "      <td>1.444234</td>\n",
       "    </tr>\n",
       "    <tr>\n",
       "      <td>Mrs</td>\n",
       "      <td>456.393701</td>\n",
       "      <td>0.795276</td>\n",
       "      <td>1.984252</td>\n",
       "      <td>35.981818</td>\n",
       "      <td>0.692913</td>\n",
       "      <td>0.818898</td>\n",
       "      <td>3.443751</td>\n",
       "      <td>2.511811</td>\n",
       "    </tr>\n",
       "    <tr>\n",
       "      <td>Other</td>\n",
       "      <td>564.444444</td>\n",
       "      <td>0.111111</td>\n",
       "      <td>1.666667</td>\n",
       "      <td>45.888889</td>\n",
       "      <td>0.111111</td>\n",
       "      <td>0.111111</td>\n",
       "      <td>2.641605</td>\n",
       "      <td>1.222222</td>\n",
       "    </tr>\n",
       "  </tbody>\n",
       "</table>\n",
       "</div>"
      ],
      "text/plain": [
       "         PassengerId  Survived    Pclass        Age     SibSp     Parch  \\\n",
       "Initial                                                                   \n",
       "Master    414.975000  0.575000  2.625000   4.574167  2.300000  1.375000   \n",
       "Miss      411.741935  0.704301  2.284946  21.860000  0.698925  0.537634   \n",
       "Mr        455.880907  0.162571  2.381853  32.739609  0.293006  0.151229   \n",
       "Mrs       456.393701  0.795276  1.984252  35.981818  0.692913  0.818898   \n",
       "Other     564.444444  0.111111  1.666667  45.888889  0.111111  0.111111   \n",
       "\n",
       "             Fare  FamilySize  \n",
       "Initial                        \n",
       "Master   3.340710    4.675000  \n",
       "Miss     3.123713    2.236559  \n",
       "Mr       2.651507    1.444234  \n",
       "Mrs      3.443751    2.511811  \n",
       "Other    2.641605    1.222222  "
      ]
     },
     "execution_count": 19,
     "metadata": {},
     "output_type": "execute_result"
    }
   ],
   "source": [
    "# 선택 컬럼의 중복 인덱스 기준으로 스플릿 \n",
    "# 그리고 동일한 인덱스를 가진 데이터를 병합한다. 그런 다음 다시 재정렬한다. \n",
    "df_train.groupby('Initial').mean()"
   ]
  },
  {
   "cell_type": "markdown",
   "metadata": {},
   "source": [
    "- 여성과 관계있는  Miss, Mr, Mrs 가 생존률이 높은 것을 확인가능!!"
   ]
  },
  {
   "cell_type": "code",
   "execution_count": 20,
   "metadata": {},
   "outputs": [
    {
     "data": {
      "text/plain": [
       "Initial\n",
       "Master    0.575000\n",
       "Miss      0.704301\n",
       "Mr        0.162571\n",
       "Mrs       0.795276\n",
       "Other     0.111111\n",
       "Name: Survived, dtype: float64"
      ]
     },
     "execution_count": 20,
     "metadata": {},
     "output_type": "execute_result"
    }
   ],
   "source": [
    "df_train.groupby('Initial').Survived.mean()"
   ]
  },
  {
   "cell_type": "code",
   "execution_count": 21,
   "metadata": {
    "scrolled": true
   },
   "outputs": [
    {
     "data": {
      "text/plain": [
       "<matplotlib.axes._subplots.AxesSubplot at 0x28e75a06888>"
      ]
     },
     "execution_count": 21,
     "metadata": {},
     "output_type": "execute_result"
    },
    {
     "data": {
      "image/png": "[encoded data removed]",
      "text/plain": [
       "<Figure size 432x288 with 1 Axes>"
      ]
     },
     "metadata": {
      "needs_background": "light"
     },
     "output_type": "display_data"
    }
   ],
   "source": [
    "# 그래프로 그려보자 - plot \n",
    "# 좀 더 명확해야한다. -> 눈에 확띠는 !! \n",
    "df_train.groupby('Initial').Survived.mean().plot()"
   ]
  },
  {
   "cell_type": "code",
   "execution_count": 22,
   "metadata": {},
   "outputs": [
    {
     "data": {
      "text/plain": [
       "<matplotlib.axes._subplots.AxesSubplot at 0x28e75d31a08>"
      ]
     },
     "execution_count": 22,
     "metadata": {},
     "output_type": "execute_result"
    },
    {
     "data": {
      "image/png": "[encoded data removed]",
      "text/plain": [
       "<Figure size 432x288 with 1 Axes>"
      ]
     },
     "metadata": {
      "needs_background": "light"
     },
     "output_type": "display_data"
    }
   ],
   "source": [
    "# 그래프로 표현 - bar : \n",
    "df_train.groupby('Initial').Survived.mean().plot.bar()"
   ]
  },
  {
   "cell_type": "markdown",
   "metadata": {},
   "source": [
    "---"
   ]
  },
  {
   "cell_type": "markdown",
   "metadata": {},
   "source": [
    "### 본격적인 결측값 채우기 \n",
    "\n",
    "- 여러가지 방법이 존재 \n",
    "    - statistics 를 활용 => 이거 사용 \n",
    "    - null_data가 없는 데이터를 기반으로 새로운 머신러닝 알고리즘을 만들어 예측해서 채워 넣는 방식\n",
    "    \n",
    "- statistics(통계) 는 train data 의 것을 의미\n",
    "- test 를 unseen 으로 둔 상태로 유지 \n",
    "- train 에서 얻은 statistics 를 기반으로 test 의 null_data 를 채워줘야 한다."
   ]
  },
  {
   "cell_type": "code",
   "execution_count": 23,
   "metadata": {},
   "outputs": [
    {
     "data": {
      "text/html": [
       "<div>\n",
       "<style scoped>\n",
       "    .dataframe tbody tr th:only-of-type {\n",
       "        vertical-align: middle;\n",
       "    }\n",
       "\n",
       "    .dataframe tbody tr th {\n",
       "        vertical-align: top;\n",
       "    }\n",
       "\n",
       "    .dataframe thead th {\n",
       "        text-align: right;\n",
       "    }\n",
       "</style>\n",
       "<table border=\"1\" class=\"dataframe\">\n",
       "  <thead>\n",
       "    <tr style=\"text-align: right;\">\n",
       "      <th></th>\n",
       "      <th>PassengerId</th>\n",
       "      <th>Survived</th>\n",
       "      <th>Pclass</th>\n",
       "      <th>Age</th>\n",
       "      <th>SibSp</th>\n",
       "      <th>Parch</th>\n",
       "      <th>Fare</th>\n",
       "      <th>FamilySize</th>\n",
       "    </tr>\n",
       "    <tr>\n",
       "      <th>Initial</th>\n",
       "      <th></th>\n",
       "      <th></th>\n",
       "      <th></th>\n",
       "      <th></th>\n",
       "      <th></th>\n",
       "      <th></th>\n",
       "      <th></th>\n",
       "      <th></th>\n",
       "    </tr>\n",
       "  </thead>\n",
       "  <tbody>\n",
       "    <tr>\n",
       "      <td>Master</td>\n",
       "      <td>414.975000</td>\n",
       "      <td>0.575000</td>\n",
       "      <td>2.625000</td>\n",
       "      <td>4.574167</td>\n",
       "      <td>2.300000</td>\n",
       "      <td>1.375000</td>\n",
       "      <td>3.340710</td>\n",
       "      <td>4.675000</td>\n",
       "    </tr>\n",
       "    <tr>\n",
       "      <td>Miss</td>\n",
       "      <td>411.741935</td>\n",
       "      <td>0.704301</td>\n",
       "      <td>2.284946</td>\n",
       "      <td>21.860000</td>\n",
       "      <td>0.698925</td>\n",
       "      <td>0.537634</td>\n",
       "      <td>3.123713</td>\n",
       "      <td>2.236559</td>\n",
       "    </tr>\n",
       "    <tr>\n",
       "      <td>Mr</td>\n",
       "      <td>455.880907</td>\n",
       "      <td>0.162571</td>\n",
       "      <td>2.381853</td>\n",
       "      <td>32.739609</td>\n",
       "      <td>0.293006</td>\n",
       "      <td>0.151229</td>\n",
       "      <td>2.651507</td>\n",
       "      <td>1.444234</td>\n",
       "    </tr>\n",
       "    <tr>\n",
       "      <td>Mrs</td>\n",
       "      <td>456.393701</td>\n",
       "      <td>0.795276</td>\n",
       "      <td>1.984252</td>\n",
       "      <td>35.981818</td>\n",
       "      <td>0.692913</td>\n",
       "      <td>0.818898</td>\n",
       "      <td>3.443751</td>\n",
       "      <td>2.511811</td>\n",
       "    </tr>\n",
       "    <tr>\n",
       "      <td>Other</td>\n",
       "      <td>564.444444</td>\n",
       "      <td>0.111111</td>\n",
       "      <td>1.666667</td>\n",
       "      <td>45.888889</td>\n",
       "      <td>0.111111</td>\n",
       "      <td>0.111111</td>\n",
       "      <td>2.641605</td>\n",
       "      <td>1.222222</td>\n",
       "    </tr>\n",
       "  </tbody>\n",
       "</table>\n",
       "</div>"
      ],
      "text/plain": [
       "         PassengerId  Survived    Pclass        Age     SibSp     Parch  \\\n",
       "Initial                                                                   \n",
       "Master    414.975000  0.575000  2.625000   4.574167  2.300000  1.375000   \n",
       "Miss      411.741935  0.704301  2.284946  21.860000  0.698925  0.537634   \n",
       "Mr        455.880907  0.162571  2.381853  32.739609  0.293006  0.151229   \n",
       "Mrs       456.393701  0.795276  1.984252  35.981818  0.692913  0.818898   \n",
       "Other     564.444444  0.111111  1.666667  45.888889  0.111111  0.111111   \n",
       "\n",
       "             Fare  FamilySize  \n",
       "Initial                        \n",
       "Master   3.340710    4.675000  \n",
       "Miss     3.123713    2.236559  \n",
       "Mr       2.651507    1.444234  \n",
       "Mrs      3.443751    2.511811  \n",
       "Other    2.641605    1.222222  "
      ]
     },
     "execution_count": 23,
     "metadata": {},
     "output_type": "execute_result"
    }
   ],
   "source": [
    "df_train.groupby('Initial').mean()"
   ]
  },
  {
   "cell_type": "markdown",
   "metadata": {},
   "source": [
    "### Initial(머리글자) 기준\n",
    " \n",
    " - 나이의 평균을 이용해서 결측 값을 채울것 \n",
    " - 판다스의 데이터 프레임을 다룰때에는 불린 어레이를 이용해 인덱싱이 수월하다.\n",
    " - isnull()이면서 Initial 이 Mr 인 조건을 만족하는 row(탑승객) 의 'Age' 의 값을 33으로 치환\n",
    " - **loc + boolean + column 을 사용해 값을 치환하는 방법은 자주 쓰이므로 꼭 익숙**"
   ]
  },
  {
   "cell_type": "code",
   "execution_count": 24,
   "metadata": {
    "scrolled": true
   },
   "outputs": [
    {
     "data": {
      "text/plain": [
       "0      False\n",
       "1      False\n",
       "2      False\n",
       "3      False\n",
       "4      False\n",
       "       ...  \n",
       "886    False\n",
       "887    False\n",
       "888     True\n",
       "889    False\n",
       "890    False\n",
       "Name: Age, Length: 891, dtype: bool"
      ]
     },
     "execution_count": 24,
     "metadata": {},
     "output_type": "execute_result"
    }
   ],
   "source": [
    "df_train.Age.isnull()"
   ]
  },
  {
   "cell_type": "code",
   "execution_count": 25,
   "metadata": {},
   "outputs": [
    {
     "data": {
      "text/plain": [
       "0       True\n",
       "1      False\n",
       "2      False\n",
       "3      False\n",
       "4       True\n",
       "       ...  \n",
       "886    False\n",
       "887    False\n",
       "888    False\n",
       "889     True\n",
       "890     True\n",
       "Name: Initial, Length: 891, dtype: bool"
      ]
     },
     "execution_count": 25,
     "metadata": {},
     "output_type": "execute_result"
    }
   ],
   "source": [
    "df_train.Initial == 'Mr'"
   ]
  },
  {
   "cell_type": "code",
   "execution_count": 26,
   "metadata": {},
   "outputs": [],
   "source": [
    "# isnull()이면서 동시에 Initial 이 Mr 인 조건을 만족하는 row(탑승객) 의 'Age' 의 값을 33으로 치환\n",
    "df_train.loc[(df_train.Age.isnull())&(df_train.Initial == 'Mr'),'Age'] = 33"
   ]
  },
  {
   "cell_type": "code",
   "execution_count": 27,
   "metadata": {},
   "outputs": [
    {
     "data": {
      "text/plain": [
       "Series([], Name: Age, dtype: float64)"
      ]
     },
     "execution_count": 27,
     "metadata": {},
     "output_type": "execute_result"
    }
   ],
   "source": [
    "df_train.loc[(df_train.Age.isnull())&(df_train.Initial == 'Mr'),'Age']"
   ]
  },
  {
   "cell_type": "markdown",
   "metadata": {},
   "source": [
    "[loc와 iloc의 차이](https://lemontia.tistory.com/886)"
   ]
  },
  {
   "cell_type": "code",
   "execution_count": 28,
   "metadata": {},
   "outputs": [
    {
     "name": "stdout",
     "output_type": "stream",
     "text": [
      "['Mr' 'Mrs' 'Miss' 'Master' 'Other'] Other 5\n"
     ]
    }
   ],
   "source": [
    "# np에서 중복값 추출 \n",
    "# df_train.Initial.unique()\n",
    "tmp = df_train.Initial.unique()\n",
    "print(tmp, tmp[4],len(tmp))"
   ]
  },
  {
   "cell_type": "code",
   "execution_count": 29,
   "metadata": {},
   "outputs": [
    {
     "data": {
      "text/plain": [
       "Initial\n",
       "Master     4.574167\n",
       "Miss      21.860000\n",
       "Mr        32.798677\n",
       "Mrs       35.981818\n",
       "Other     45.888889\n",
       "Name: Age, dtype: float64"
      ]
     },
     "execution_count": 29,
     "metadata": {},
     "output_type": "execute_result"
    }
   ],
   "source": [
    "df_train.groupby('Initial')['Age'].mean()"
   ]
  },
  {
   "cell_type": "code",
   "execution_count": 30,
   "metadata": {
    "scrolled": true
   },
   "outputs": [
    {
     "data": {
      "text/plain": [
       "Initial\n",
       "Master     4.574167\n",
       "Miss      21.860000\n",
       "Mr        32.798677\n",
       "Mrs       35.981818\n",
       "Other     45.888889\n",
       "Name: Age, dtype: float64"
      ]
     },
     "execution_count": 30,
     "metadata": {},
     "output_type": "execute_result"
    }
   ],
   "source": [
    "df_train.groupby('Initial')['Age'].mean()"
   ]
  },
  {
   "cell_type": "code",
   "execution_count": 31,
   "metadata": {},
   "outputs": [
    {
     "data": {
      "text/plain": [
       "5.0"
      ]
     },
     "execution_count": 31,
     "metadata": {},
     "output_type": "execute_result"
    }
   ],
   "source": [
    "test = df_train.groupby('Initial')['Age'].mean().unique()\n",
    "test\n",
    "\n",
    "# math 함수를 이용해 반올림 \n",
    "# import math \n",
    "round(test[0])"
   ]
  },
  {
   "cell_type": "code",
   "execution_count": 32,
   "metadata": {},
   "outputs": [
    {
     "data": {
      "text/plain": [
       "False    834\n",
       "True      57\n",
       "Name: Age, dtype: int64"
      ]
     },
     "execution_count": 32,
     "metadata": {},
     "output_type": "execute_result"
    }
   ],
   "source": [
    "df_train.Age.isnull().value_counts()"
   ]
  },
  {
   "cell_type": "code",
   "execution_count": 33,
   "metadata": {},
   "outputs": [],
   "source": [
    "# # 위와 같은 방법으로 다른 결측값도 진행 -> 각 initial 별로 -> 5회\n",
    "\n",
    "# df_train.loc[(df_train.Age.isnull())&(df_train.Initial == 'Mrs'),'Age'] = 36\n",
    "# df_train.loc[(df_train.Age.isnull())&(df_train.Initial == 'Master'),'Age'] = 5\n",
    "# df_train.loc[(df_train.Age.isnull())&(df_train.Initial == 'Miss'),'Age'] = 22\n",
    "# df_train.loc[(df_train.Age.isnull())&(df_train.Initial == 'Other'),'Age'] = 46"
   ]
  },
  {
   "cell_type": "code",
   "execution_count": 34,
   "metadata": {},
   "outputs": [
    {
     "name": "stdout",
     "output_type": "stream",
     "text": [
      "------------------------------\n",
      "check_logs =  Mr\n",
      "\n",
      " False    834\n",
      "True      57\n",
      "Name: Age, dtype: int64\n",
      "------------------------------\n",
      "------------------------------\n",
      "check_logs =  Mrs\n",
      "\n",
      " False    851\n",
      "True      40\n",
      "Name: Age, dtype: int64\n",
      "------------------------------\n",
      "------------------------------\n",
      "check_logs =  Miss\n",
      "\n",
      " False    887\n",
      "True       4\n",
      "Name: Age, dtype: int64\n",
      "------------------------------\n",
      "------------------------------\n",
      "check_logs =  Master\n",
      "\n",
      " False    891\n",
      "Name: Age, dtype: int64\n",
      "------------------------------\n",
      "------------------------------\n",
      "check_logs =  Other\n",
      "\n",
      " False    891\n",
      "Name: Age, dtype: int64\n",
      "------------------------------\n"
     ]
    }
   ],
   "source": [
    "head_name = df_train.Initial.unique()\n",
    "\n",
    "for i in range(len(head_name)):\n",
    "    age_null = df_train.Age.isnull()\n",
    "    add_avg= df_train.groupby('Initial')['Age'].mean().unique()\n",
    "    print('-'*30)\n",
    "    print('check_logs = ',head_name[i])\n",
    "#     print(round(add_avg[i]))\n",
    "    df_train.loc[(age_null)&(df_train.Initial == head_name[i] ),'Age'] = round(add_avg[i])\n",
    "#     print(i)\n",
    "    check_logs = df_train.Age.isnull().value_counts()\n",
    "    print('\\n',check_logs)\n",
    "    print('-'*30)"
   ]
  },
  {
   "cell_type": "code",
   "execution_count": 35,
   "metadata": {
    "scrolled": true
   },
   "outputs": [
    {
     "data": {
      "text/plain": [
       "False    891\n",
       "Name: Age, dtype: int64"
      ]
     },
     "execution_count": 35,
     "metadata": {},
     "output_type": "execute_result"
    }
   ],
   "source": [
    "df_train.Age.isnull().value_counts()"
   ]
  },
  {
   "cell_type": "code",
   "execution_count": 36,
   "metadata": {
    "scrolled": true
   },
   "outputs": [
    {
     "data": {
      "text/plain": [
       "False    332\n",
       "True      86\n",
       "Name: Age, dtype: int64"
      ]
     },
     "execution_count": 36,
     "metadata": {},
     "output_type": "execute_result"
    }
   ],
   "source": [
    "df_test.Age.isnull().value_counts()"
   ]
  },
  {
   "cell_type": "code",
   "execution_count": 37,
   "metadata": {},
   "outputs": [],
   "source": [
    "# # # test도 마찬가지로 진행 \n",
    "# df_test.loc[(df_test.Age.isnull())&(df_test.Initial=='Mr'),'Age'] = 33\n",
    "# df_test.loc[(df_test.Age.isnull())&(df_test.Initial=='Mrs'),'Age'] = 36\n",
    "# df_test.loc[(df_test.Age.isnull())&(df_test.Initial=='Master'),'Age'] = 5\n",
    "# df_test.loc[(df_test.Age.isnull())&(df_test.Initial=='Miss'),'Age'] = 22\n",
    "# df_test.loc[(df_test.Age.isnull())&(df_test.Initial=='Other'),'Age'] = 46"
   ]
  },
  {
   "cell_type": "code",
   "execution_count": 38,
   "metadata": {},
   "outputs": [
    {
     "name": "stdout",
     "output_type": "stream",
     "text": [
      "------------------------------\n",
      "check_logs =  Mr\n",
      "\n",
      " False    389\n",
      "True      29\n",
      "Name: Age, dtype: int64\n",
      "------------------------------\n",
      "------------------------------\n",
      "check_logs =  Mrs\n",
      "\n",
      " False    399\n",
      "True      19\n",
      "Name: Age, dtype: int64\n",
      "------------------------------\n",
      "------------------------------\n",
      "check_logs =  Miss\n",
      "\n",
      " False    414\n",
      "True       4\n",
      "Name: Age, dtype: int64\n",
      "------------------------------\n",
      "------------------------------\n",
      "check_logs =  Master\n",
      "\n",
      " False    418\n",
      "Name: Age, dtype: int64\n",
      "------------------------------\n",
      "------------------------------\n",
      "check_logs =  Other\n",
      "\n",
      " False    418\n",
      "Name: Age, dtype: int64\n",
      "------------------------------\n"
     ]
    }
   ],
   "source": [
    "test_head = df_test.Initial.unique()\n",
    "\n",
    "for i in range(len(test_head)):\n",
    "    age_null = df_test.Age.isnull()\n",
    "    add_avg= df_test.groupby('Initial')['Age'].mean().unique()\n",
    "    print('-'*30)\n",
    "    print('check_logs = ',test_head[i])\n",
    "#     print(round(add_avg[i]))\n",
    "    df_test.loc[(age_null)&(df_test.Initial == test_head[i] ),'Age'] = round(add_avg[i])\n",
    "#     print(i)\n",
    "    check_logs = df_test.Age.isnull().value_counts()\n",
    "    print('\\n',check_logs) \n",
    "    print('-'*30)"
   ]
  },
  {
   "cell_type": "code",
   "execution_count": 39,
   "metadata": {
    "scrolled": true
   },
   "outputs": [
    {
     "data": {
      "text/plain": [
       "False    418\n",
       "Name: Age, dtype: int64"
      ]
     },
     "execution_count": 39,
     "metadata": {},
     "output_type": "execute_result"
    }
   ],
   "source": [
    "df_test.Age.isnull().value_counts()"
   ]
  },
  {
   "cell_type": "markdown",
   "metadata": {},
   "source": [
    " - 간단한 방법으로 null값을 채움 \n",
    " - 자세히 공부하고자하면 [클릭](https://www.kaggle.com/yassineghouzam/titanic-top-4-with-ensemble-modeling)"
   ]
  },
  {
   "cell_type": "markdown",
   "metadata": {},
   "source": [
    "### 탑승항구 데이터 결측값 채우기: Fill Null in Embarked \n",
    "---\n",
    "- 탑승항구 \n",
    "    - 결측값이 2개, S에서 가장 많이 탑승 -> S의 값으로 널값을 채우겠다.\n",
    "    - 데이터 프레임의 fillna를 이용하면 쉽게 채울 수 있다. \n",
    "        - inplace = Ture하면 df_train 에 fillna 를 실제로 적용"
   ]
  },
  {
   "cell_type": "code",
   "execution_count": 40,
   "metadata": {
    "scrolled": true
   },
   "outputs": [
    {
     "name": "stdout",
     "output_type": "stream",
     "text": [
      "Embarked has 2  Null values.\n"
     ]
    }
   ],
   "source": [
    "Embarked_null = sum(df_train.Embarked.isnull())\n",
    "# print(Embarked_null)\n",
    "print(f'Embarked has {Embarked_null}  Null values.')"
   ]
  },
  {
   "cell_type": "code",
   "execution_count": 41,
   "metadata": {},
   "outputs": [],
   "source": [
    "df_train['Embarked'].fillna('S', inplace= True)"
   ]
  },
  {
   "cell_type": "code",
   "execution_count": 42,
   "metadata": {},
   "outputs": [
    {
     "name": "stdout",
     "output_type": "stream",
     "text": [
      "Embarked has 0  Null values.\n"
     ]
    }
   ],
   "source": [
    "Embarked_null = sum(df_test.Embarked.isnull())\n",
    "# print(Embarked_null)\n",
    "print(f'Embarked has {Embarked_null}  Null values.')"
   ]
  },
  {
   "cell_type": "markdown",
   "metadata": {},
   "source": [
    "### 나이 변경 : Change Age\n",
    "- 연속적인 범주형(continuous to categorical)\n",
    "---\n",
    "\n",
    "- 나이는 연속적이 범주이다. \n",
    "- 이대로 사용은 가능하지만 그룹으로 구분하여 나이를 카테고리화가 가능하다.\n",
    "- 이방법은 조금 위험성을 내포하고있다.\n",
    "    - 잘못하면 정보 손실이 발생할 수 있다.\n",
    "    - 지금은 최대한 경험하는 것이 목적이기 때문에 진행\n",
    "    \n",
    "- 방법은 여러가지가 있다. \n",
    "    - 데이터프레임의 인덱싱의 loc를 사용해서 직접해 줄 수 있다.\n",
    "        - loc : 자주 사용하니 최대한 익숙해지는 것 목표\n",
    "        - 나이 간격은 10살 간격으로 나누겠다.\n",
    "    - apply를 사용해 함수를 넣어줄 수 도 있다.\n",
    "        - 간단한 함수를 만들어 apply 메소드에 넣어주는 방법\n",
    "        - loc 방법 보다 쉽다."
   ]
  },
  {
   "cell_type": "code",
   "execution_count": 43,
   "metadata": {},
   "outputs": [
    {
     "data": {
      "text/plain": [
       "803     0.42\n",
       "755     0.67\n",
       "469     0.75\n",
       "644     0.75\n",
       "831     0.83\n",
       "       ...  \n",
       "116    70.50\n",
       "493    71.00\n",
       "96     71.00\n",
       "851    74.00\n",
       "630    80.00\n",
       "Name: Age, Length: 891, dtype: float64"
      ]
     },
     "execution_count": 43,
     "metadata": {},
     "output_type": "execute_result"
    }
   ],
   "source": [
    "# 데이터 확인  -> 0.42 세에서 80세까지  \n",
    "df_train.Age.sort_values()"
   ]
  },
  {
   "cell_type": "code",
   "execution_count": 44,
   "metadata": {},
   "outputs": [
    {
     "name": "stdout",
     "output_type": "stream",
     "text": [
      "over_svn = 7, over_egh = 1\n"
     ]
    }
   ],
   "source": [
    "# 70 세이상, 80세 이상 몇 개인지 확인 \n",
    "# 트레인만 하는 이유는 트레인이랑 테스트랑 같아야 하기때문 \n",
    "over_svn = len(df_train['Age'][df_train['Age']>= 70])\n",
    "over_egh = len(df_train['Age'][df_train['Age']>= 80].shape)\n",
    "\n",
    "print(f'over_svn = {over_svn}, over_egh = {over_egh}') \n",
    "# 70~79 , 80~89 카테고리를 만들기에는 데이터가 너무 적다 \n",
    "# 그래서 70~79 와 80~89 합해서 70세 이상으로 정하겠다.\n",
    "# -> 0.42 세에서 80세까지 분포 범위는 0 ~ 7까지 "
   ]
  },
  {
   "cell_type": "code",
   "execution_count": 45,
   "metadata": {},
   "outputs": [],
   "source": [
    "# 컬럼은 생성한다. \n",
    "# 기본값 =  0 세팅 \n",
    "df_train['Age_cat'] = 0\n",
    "df_test['Age_cat'] = 0\n",
    "# print(df_train['Age_cat'], len(df_train['Age_cat']) ) # 데이터 확인 "
   ]
  },
  {
   "cell_type": "code",
   "execution_count": 46,
   "metadata": {},
   "outputs": [
    {
     "name": "stdout",
     "output_type": "stream",
     "text": [
      "[2 3 5 0 1 4 6 7] 8\n"
     ]
    }
   ],
   "source": [
    "# 데이터 할당 - train\n",
    "df_train.loc[df_train['Age'] < 10, 'Age_cat'] = 0\n",
    "df_train.loc[(10 <= df_train['Age'])&(df_train['Age'] < 20), 'Age_cat'] = 1\n",
    "df_train.loc[(20 <= df_train['Age'])&(df_train['Age'] < 30), 'Age_cat'] = 2\n",
    "df_train.loc[(30 <= df_train['Age'])&(df_train['Age'] < 40), 'Age_cat'] = 3\n",
    "df_train.loc[(40 <= df_train['Age'])&(df_train['Age'] < 50), 'Age_cat'] = 4\n",
    "df_train.loc[(50 <= df_train['Age'])&(df_train['Age'] < 60), 'Age_cat'] = 5\n",
    "df_train.loc[(60 <= df_train['Age'])&(df_train['Age'] < 70), 'Age_cat'] = 6\n",
    "df_train.loc[(70 <= df_train['Age']), 'Age_cat'] = 7\n",
    "print(df_train['Age_cat'].unique(), len(df_train['Age_cat'].unique()))"
   ]
  },
  {
   "cell_type": "code",
   "execution_count": 47,
   "metadata": {},
   "outputs": [
    {
     "name": "stdout",
     "output_type": "stream",
     "text": [
      "[3 4 6 2 1 0 5 7] 8\n"
     ]
    }
   ],
   "source": [
    "# 데이터 할당 -test\n",
    "df_test.loc[df_test['Age'] < 10, 'Age_cat'] = 0\n",
    "df_test.loc[(10 <= df_test['Age'])&(df_test['Age'] < 20), 'Age_cat'] = 1\n",
    "df_test.loc[(20 <= df_test['Age'])&(df_test['Age'] < 30), 'Age_cat'] = 2\n",
    "df_test.loc[(30 <= df_test['Age'])&(df_test['Age'] < 40), 'Age_cat'] = 3\n",
    "df_test.loc[(40 <= df_test['Age'])&(df_test['Age'] < 50), 'Age_cat'] = 4\n",
    "df_test.loc[(50 <= df_test['Age'])&(df_test['Age'] < 60), 'Age_cat'] = 5\n",
    "df_test.loc[(60 <= df_test['Age'])&(df_test['Age'] < 70), 'Age_cat'] = 6\n",
    "df_test.loc[(70 <= df_test['Age']), 'Age_cat'] = 7\n",
    "print(df_test['Age_cat'].unique(), len(df_test['Age_cat'].unique()))"
   ]
  },
  {
   "cell_type": "code",
   "execution_count": 48,
   "metadata": {},
   "outputs": [],
   "source": [
    "def category_age(x):\n",
    "    if x < 10:\n",
    "        return 0\n",
    "    elif x < 20:\n",
    "        return 1\n",
    "    elif x < 30:\n",
    "        return 2\n",
    "    elif x < 40:\n",
    "        return 3\n",
    "    elif x < 50:\n",
    "        return 4\n",
    "    elif x < 60:\n",
    "        return 5\n",
    "    elif x < 70:\n",
    "        return 6\n",
    "    else:\n",
    "        return 7"
   ]
  },
  {
   "cell_type": "code",
   "execution_count": 49,
   "metadata": {
    "scrolled": true
   },
   "outputs": [
    {
     "name": "stdout",
     "output_type": "stream",
     "text": [
      "0\n",
      "0\n",
      "=====\n",
      "0\n",
      "1\n",
      "=====\n",
      "0\n",
      "2\n",
      "=====\n",
      "0\n",
      "3\n",
      "=====\n",
      "0\n",
      "4\n",
      "=====\n",
      "0\n",
      "5\n",
      "=====\n",
      "0\n",
      "6\n",
      "=====\n",
      "0\n",
      "7\n",
      "=====\n",
      "0\n",
      "8\n",
      "=====\n",
      "0\n",
      "9\n",
      "=====\n",
      "1\n",
      "10\n",
      "=====\n",
      "1\n",
      "11\n",
      "=====\n",
      "1\n",
      "12\n",
      "=====\n",
      "1\n",
      "13\n",
      "=====\n",
      "1\n",
      "14\n",
      "=====\n"
     ]
    }
   ],
   "source": [
    "num = int(15)\n",
    "test_li = list(range(num))\n",
    "\n",
    "for i in test_li:\n",
    "    print(category_age(i))\n",
    "    print(i)\n",
    "    print('='*5)"
   ]
  },
  {
   "cell_type": "code",
   "execution_count": 50,
   "metadata": {},
   "outputs": [],
   "source": [
    "# age의 각 인덱스가 함수에 할당되면서 연산 \n",
    "df_train['Age_cat_2'] = df_train['Age'].apply(category_age)"
   ]
  },
  {
   "cell_type": "markdown",
   "metadata": {},
   "source": [
    "- 두가지 방법이 잘 적용됬다면, 둘다 같은 결과여야한다.\n",
    "- 확인하기 위해서 시리즈간 블린으로 비교\n",
    "    - all()을 이용\n",
    "        - 모든 값이 True -> True \n",
    "        - 모든 값이 False -> False \n",
    "        \n",
    "    \n",
    "- 두 데이터가 동일 한것을 확인 \n",
    "    - 중복되는 Age_cat 컬럼과 원래 컬럼을 제거 "
   ]
  },
  {
   "cell_type": "code",
   "execution_count": 51,
   "metadata": {},
   "outputs": [
    {
     "name": "stdout",
     "output_type": "stream",
     "text": [
      "1번 방법, 2번 방법 둘다 같은 결과를 내면 True 줘야함 ->  True\n"
     ]
    }
   ],
   "source": [
    "# 비교 \n",
    "print('1번 방법, 2번 방법 둘다 같은 결과를 내면 True 줘야함 -> ', (df_train['Age_cat'] == df_train['Age_cat_2']).all())"
   ]
  },
  {
   "cell_type": "code",
   "execution_count": 52,
   "metadata": {},
   "outputs": [],
   "source": [
    "df_train.drop(['Age', 'Age_cat_2'], axis=1, inplace=True)\n",
    "df_test.drop(['Age'], axis=1, inplace=True)"
   ]
  },
  {
   "cell_type": "markdown",
   "metadata": {},
   "source": [
    "### 데이터 변경 네임헤드, 탑승항구, 성별 : Change Initial, Embarked and Sex \n",
    "\n",
    "- 문자열에서 숫자로 (string to numerical)\n",
    "\n",
    "---"
   ]
  },
  {
   "cell_type": "markdown",
   "metadata": {},
   "source": [
    "### Initial \n",
    "- 총 Mr, Mrs, Miss, Master, Other로  5개이다.\n",
    "\n",
    "- 카테고리로 표현되어져 있는 데이터를 모델에 인풋으로 넣어줄 때 \n",
    "    - 우리가 해야할 것은 먼저 컴퓨터가 인식할 수 있도록 수치화 해야한다.  \n",
    "        - 문자열 -> 수치화\n",
    "        - map()을 이용하면 보다 간단하게 작업이 가능하다. \n",
    "        - 사전 순서대로 정리해서 mapping 작업을 진행 \n",
    "        "
   ]
  },
  {
   "cell_type": "code",
   "execution_count": 53,
   "metadata": {},
   "outputs": [],
   "source": [
    "Initial_cat= {'Master': 0, 'Miss': 1, 'Mr': 2, 'Mrs': 3, 'Other': 4}\n",
    "df_train['Initial'] = df_train['Initial'].map(Initial_cat)\n",
    "df_test['Initial'] = df_test['Initial'].map(Initial_cat)"
   ]
  },
  {
   "cell_type": "code",
   "execution_count": 54,
   "metadata": {},
   "outputs": [
    {
     "data": {
      "text/plain": [
       "(0      2\n",
       " 1      3\n",
       " 2      1\n",
       " 3      3\n",
       " 4      2\n",
       "       ..\n",
       " 886    4\n",
       " 887    1\n",
       " 888    1\n",
       " 889    2\n",
       " 890    2\n",
       " Name: Initial, Length: 891, dtype: int64, 0      2\n",
       " 1      3\n",
       " 2      2\n",
       " 3      2\n",
       " 4      3\n",
       "       ..\n",
       " 413    2\n",
       " 414    2\n",
       " 415    2\n",
       " 416    2\n",
       " 417    0\n",
       " Name: Initial, Length: 418, dtype: int64)"
      ]
     },
     "execution_count": 54,
     "metadata": {},
     "output_type": "execute_result"
    }
   ],
   "source": [
    "df_train['Initial'], df_test['Initial']"
   ]
  },
  {
   "cell_type": "markdown",
   "metadata": {},
   "source": [
    "### Embarked \n",
    "- C, Q, S로 이루어져 있다. \n",
    "- map 을 이용해서 변경\n",
    "\n",
    "\n",
    "- 특정 컬럼에 어떤 값이 존재하는지 확인 \n",
    "    - 아래 내용 참조[-> 클릭](https://rfriend.tistory.com/267)\n",
    "    - 간단하게 unique메소드()를 사용\n",
    "    - value_counts()를 써서 count까지 확인 가능\n",
    "    ![유일값, 유일값 카운드](https://t1.daumcdn.net/cfile/tistory/2665EA4A584EB4D515)"
   ]
  },
  {
   "cell_type": "code",
   "execution_count": 55,
   "metadata": {},
   "outputs": [
    {
     "data": {
      "text/plain": [
       "array(['S', 'C', 'Q'], dtype=object)"
      ]
     },
     "execution_count": 55,
     "metadata": {},
     "output_type": "execute_result"
    }
   ],
   "source": [
    "# Embarked가 S, C, Q 3개임을 확인 \n",
    "df_train['Embarked'].unique()"
   ]
  },
  {
   "cell_type": "code",
   "execution_count": 56,
   "metadata": {},
   "outputs": [
    {
     "data": {
      "text/plain": [
       "S    646\n",
       "C    168\n",
       "Q     77\n",
       "Name: Embarked, dtype: int64"
      ]
     },
     "execution_count": 56,
     "metadata": {},
     "output_type": "execute_result"
    }
   ],
   "source": [
    "df_train['Embarked'].value_counts()"
   ]
  },
  {
   "cell_type": "code",
   "execution_count": 57,
   "metadata": {},
   "outputs": [],
   "source": [
    "Embarked_cat = {'C': 0, 'Q': 1, 'S': 2}\n",
    "df_train['Embarked'] = df_train['Embarked'].map(Embarked_cat)\n",
    "df_test['Embarked'] = df_test['Embarked'].map(Embarked_cat)"
   ]
  },
  {
   "cell_type": "code",
   "execution_count": 58,
   "metadata": {},
   "outputs": [
    {
     "data": {
      "text/plain": [
       "(0      2\n",
       " 1      0\n",
       " 2      2\n",
       " 3      2\n",
       " 4      2\n",
       "       ..\n",
       " 886    2\n",
       " 887    2\n",
       " 888    2\n",
       " 889    0\n",
       " 890    1\n",
       " Name: Embarked, Length: 891, dtype: int64, 0      1\n",
       " 1      2\n",
       " 2      1\n",
       " 3      2\n",
       " 4      2\n",
       "       ..\n",
       " 413    2\n",
       " 414    0\n",
       " 415    2\n",
       " 416    2\n",
       " 417    0\n",
       " Name: Embarked, Length: 418, dtype: int64)"
      ]
     },
     "execution_count": 58,
     "metadata": {},
     "output_type": "execute_result"
    }
   ],
   "source": [
    "# 확인 \n",
    "df_train['Embarked'],df_test['Embarked']"
   ]
  },
  {
   "cell_type": "markdown",
   "metadata": {},
   "source": [
    "### Null 여부 확인\n",
    "\n",
    "- Embarked 컬럼만 가져온 것은 하나의 판다스 시리즈 객체다. \n",
    "- isnull() 메소드를 사용\n",
    "    - Series의 값들이 null 인지 아닌지에 대한 boolean 값을 얻을 수 있다.\n",
    "    - 여기서 any() 를 사용 \n",
    "        - True 가 **단 하나**라도 있을 시(Null이 한개라도 있을 시) True 를 반환\n",
    "        \n",
    "- 위에서 Null을 S로 다 바꿔주었다 -> 그래서 False"
   ]
  },
  {
   "cell_type": "code",
   "execution_count": 59,
   "metadata": {},
   "outputs": [
    {
     "data": {
      "text/plain": [
       "False"
      ]
     },
     "execution_count": 59,
     "metadata": {},
     "output_type": "execute_result"
    }
   ],
   "source": [
    "df_train['Embarked'].isnull().any()"
   ]
  },
  {
   "cell_type": "markdown",
   "metadata": {},
   "source": [
    "### Sex \n",
    "\n",
    "- Female, male \n",
    "- map 을 이용 -> 카테고리화"
   ]
  },
  {
   "cell_type": "code",
   "execution_count": 60,
   "metadata": {},
   "outputs": [],
   "source": [
    "Sex_cat = {'female': 0, 'male': 1}\n",
    "df_train['Sex'] = df_train['Sex'].map(Sex_cat)\n",
    "df_test['Sex'] = df_test['Sex'].map(Sex_cat)"
   ]
  },
  {
   "cell_type": "markdown",
   "metadata": {},
   "source": [
    "### feature 간의 상관관계를 확인\n",
    "\n",
    "- 두 변수간의 Pearson correlation 을 구하면 (-1, 1) 사이의 값을 얻을 수 있다.\n",
    "    - -1로 갈수록 음의 상관관계를 의미 \n",
    "    -  1로 갈수록 양의 상관관계를 의미\n",
    "    -  0은 상관관계가 없다는 것을 의미\n",
    "\n",
    "**$$r_{xy} = \\frac{Cov(x,y)}{S_{x}S_{y}} = \\frac{\\frac{1}{n-1}\\sum_{i=1}^n(x_{i}-\\bar x)(y_{i}-\\bar y)}{S_{x}S_{y}}$$**\n",
    "\n",
    "-  여러 feature을 하나의 maxtrix 형태 만드는 것 => heatmap plot \n",
    "- dataframe 의 corr() 메소드와 seaborn 을 가지고 그릴 수 있다."
   ]
  },
  {
   "cell_type": "code",
   "execution_count": 61,
   "metadata": {},
   "outputs": [
    {
     "data": {
      "text/plain": [
       "14"
      ]
     },
     "execution_count": 61,
     "metadata": {},
     "output_type": "execute_result"
    }
   ],
   "source": [
    "len(df_train.columns)"
   ]
  },
  {
   "cell_type": "code",
   "execution_count": 62,
   "metadata": {},
   "outputs": [
    {
     "data": {
      "image/png": "[encoded data removed]",
      "text/plain": [
       "<Figure size 1152x1152 with 2 Axes>"
      ]
     },
     "metadata": {
      "needs_background": "light"
     },
     "output_type": "display_data"
    }
   ],
   "source": [
    "# 필요 특징만 꺼내서 진행 \n",
    "heatmap_data = df_train[['Survived', 'Pclass', 'Sex', 'Fare', 'Embarked', 'FamilySize', 'Initial', 'Age_cat']] \n",
    "\n",
    "colormap = plt.cm.RdBu\n",
    "plt.figure(figsize=(16, 16))\n",
    "plt.title('Pearson Correlation of Features', y=1.1, size=20)\n",
    "\n",
    "sns.heatmap(heatmap_data.astype(float).corr(), linewidths=0.1, vmax=1.0,\n",
    "           square=True, cmap=colormap, linecolor='white', annot=True, annot_kws={\"size\": 15})\n",
    "\n",
    "# print(heatmap_data)\n",
    "#  왜 삭제 하는 거지 ? \n",
    "del heatmap_data\n",
    "# 왜 짤리는거지 ?"
   ]
  },
  {
   "cell_type": "markdown",
   "metadata": {},
   "source": [
    "- EDA에서 확인 한바와 같이 Sex 와 Pclass 가 Survived 에 상관관계가 어느 정도 있음을 확인했다.\n",
    "- 생각보다 fare 와 Embarked 도 상관관계가 있다는 것을 확인 되었다.\n",
    "- 우리가 여기서 얻을 수 있는 정보는 서로 강한 상관관계를 가지는 feature들이 없다는 것...\n",
    "    - 이말은 모델을 학습시킬 때\n",
    "        - 불필요한(redundant, superfluous) feature 가 없다는 것을 의미\n",
    "        - 1 또는 -1 의 상관관계를 가진 feature A, B 가 있다면, 우리가 얻을 수 있는 정보는 사실 하나\n",
    "\n",
    "- 모델을 학습전 data preprocessing (전처리)을 진행하겠다."
   ]
  },
  {
   "cell_type": "markdown",
   "metadata": {},
   "source": [
    "---"
   ]
  },
  {
   "cell_type": "markdown",
   "metadata": {},
   "source": [
    "#  Initial and Embarked를 원-핫 인코딩 \n",
    "    - One-hot encoding on Initial and Embarked\n",
    "\n",
    "- 수치화시킨 카테고리 데이터를 넣어도 된다. 하지만  모델의 성능을 높이기 위해 one-hot encoding을 해줄 것이다.\n",
    "- 수치화는 간단히 Master == 0, Miss == 1, Mr == 2, Mrs == 3, Other == 4 이런식으로 매핑 해주는 것을 말한다. \n",
    "- one-hot encoding은 Master == 0, Miss == 1, Mr == 2, Mrs == 3, Other == 4 같이 (0,1)로 이루어진 5차원의 백터를 나타내는 것을 말한다. \n",
    "\n",
    "---\n",
    "\n",
    "|  |Initial_Master|Initial_Miss|Initial_Mr|Initial_Mrs|Initial_Other|\n",
    "|------|---|---|---|---|---|\n",
    "|Master|1|0|0|0|0|\n",
    "|Miss  |0|1|0|0|0|\n",
    "|Mr    |0|0|1|0|0|\n",
    "|Mrs   |0|0|0|1|0|\n",
    "|Other |0|0|0|0|1|\n",
    "\n",
    "---\n",
    "\n",
    "- 위와 같은 작업을 직접 코딩 할 수도 있지만, pandas 의 get_dummies 를 사용하여 쉽게 해결 가능하다.\n",
    "- 총 5개의 카테고리 -> one-hot encoding 을 하고 나면 새로운 5개의 column 이 생긴다. \n",
    "- Initial 을 prefix로 두어서 구분이 쉽게 만들어 준다.\n",
    "\n",
    "---\n",
    "\n",
    "#### One-Hot-Encoding(원-핫-인코딩)\n",
    "- dummy variable(가변수)을 만들어 factor형 변수를 0 또는 1 의 값을 가진 하나 이상의 새로운 특성으로 바꾼다.\n",
    "- 따라서 특성당 0, 1의 값이 들어있기 때문에 binary classifier algorithm(이진 분류 알고리즘) 적용 가능하다.\n"
   ]
  },
  {
   "cell_type": "markdown",
   "metadata": {},
   "source": [
    "---"
   ]
  },
  {
   "cell_type": "markdown",
   "metadata": {},
   "source": [
    "### get_dummies() -> 문자열 특성만 인코딩되며 숫자 특성은 바뀌지 않는다.\n",
    "\n",
    "- get_dummies()는 \n",
    "    - 가변수(dummy var)를 만들 수 있다.\n",
    "    - 적용 할 때 columns를 직접 입력 해야한다.\n",
    "- prefix 옵션을 사용하면 가변수에 공통으로 접두사를 추가 가능하다.\n",
    "- drop_first=True 옵션을 설정\n",
    "     - 가변수의 첫번째 변수를 자동으로 삭제를 해주며, 가변수 함정(dummy trap)을 피할 수 있게 해준다.\n",
    "\n",
    "- get_dummies()는 숫자 특성은 모두 연속형이라 생각해서 가변수를 만들지 않는다.\n",
    "- 어떤 열이 연속형인지 범주형인지를 저장할 수 있는 scikit-learn의 OneHotEncoder를 사용 가능 \n",
    "    - 추가로 DataFrame에 있는 숫자로 된 열을 문자열로 바꿀 수도 있음\n",
    "\n",
    "[참조](https://woolulu.tistory.com/54)"
   ]
  },
  {
   "cell_type": "code",
   "execution_count": 65,
   "metadata": {},
   "outputs": [
    {
     "data": {
      "text/plain": [
       "0      2\n",
       "1      3\n",
       "2      1\n",
       "3      3\n",
       "4      2\n",
       "      ..\n",
       "886    4\n",
       "887    1\n",
       "888    1\n",
       "889    2\n",
       "890    2\n",
       "Name: Initial, Length: 891, dtype: int64"
      ]
     },
     "execution_count": 65,
     "metadata": {},
     "output_type": "execute_result"
    }
   ],
   "source": [
    "df_train.Initial"
   ]
  },
  {
   "cell_type": "code",
   "execution_count": 66,
   "metadata": {
    "scrolled": true
   },
   "outputs": [
    {
     "data": {
      "text/html": [
       "<div>\n",
       "<style scoped>\n",
       "    .dataframe tbody tr th:only-of-type {\n",
       "        vertical-align: middle;\n",
       "    }\n",
       "\n",
       "    .dataframe tbody tr th {\n",
       "        vertical-align: top;\n",
       "    }\n",
       "\n",
       "    .dataframe thead th {\n",
       "        text-align: right;\n",
       "    }\n",
       "</style>\n",
       "<table border=\"1\" class=\"dataframe\">\n",
       "  <thead>\n",
       "    <tr style=\"text-align: right;\">\n",
       "      <th></th>\n",
       "      <th>PassengerId</th>\n",
       "      <th>Survived</th>\n",
       "      <th>Pclass</th>\n",
       "      <th>Name</th>\n",
       "      <th>Sex</th>\n",
       "      <th>SibSp</th>\n",
       "      <th>Parch</th>\n",
       "      <th>Ticket</th>\n",
       "      <th>Fare</th>\n",
       "      <th>Cabin</th>\n",
       "      <th>Embarked</th>\n",
       "      <th>FamilySize</th>\n",
       "      <th>Age_cat</th>\n",
       "      <th>Initial_0</th>\n",
       "      <th>Initial_1</th>\n",
       "      <th>Initial_2</th>\n",
       "      <th>Initial_3</th>\n",
       "      <th>Initial_4</th>\n",
       "    </tr>\n",
       "  </thead>\n",
       "  <tbody>\n",
       "    <tr>\n",
       "      <td>0</td>\n",
       "      <td>1</td>\n",
       "      <td>0</td>\n",
       "      <td>3</td>\n",
       "      <td>Braund, Mr. Owen Harris</td>\n",
       "      <td>1</td>\n",
       "      <td>1</td>\n",
       "      <td>0</td>\n",
       "      <td>A/5 21171</td>\n",
       "      <td>1.981001</td>\n",
       "      <td>NaN</td>\n",
       "      <td>2</td>\n",
       "      <td>2</td>\n",
       "      <td>2</td>\n",
       "      <td>0</td>\n",
       "      <td>0</td>\n",
       "      <td>1</td>\n",
       "      <td>0</td>\n",
       "      <td>0</td>\n",
       "    </tr>\n",
       "    <tr>\n",
       "      <td>1</td>\n",
       "      <td>2</td>\n",
       "      <td>1</td>\n",
       "      <td>1</td>\n",
       "      <td>Cumings, Mrs. John Bradley (Florence Briggs Th...</td>\n",
       "      <td>0</td>\n",
       "      <td>1</td>\n",
       "      <td>0</td>\n",
       "      <td>PC 17599</td>\n",
       "      <td>4.266662</td>\n",
       "      <td>C85</td>\n",
       "      <td>0</td>\n",
       "      <td>2</td>\n",
       "      <td>3</td>\n",
       "      <td>0</td>\n",
       "      <td>0</td>\n",
       "      <td>0</td>\n",
       "      <td>1</td>\n",
       "      <td>0</td>\n",
       "    </tr>\n",
       "    <tr>\n",
       "      <td>2</td>\n",
       "      <td>3</td>\n",
       "      <td>1</td>\n",
       "      <td>3</td>\n",
       "      <td>Heikkinen, Miss. Laina</td>\n",
       "      <td>0</td>\n",
       "      <td>0</td>\n",
       "      <td>0</td>\n",
       "      <td>STON/O2. 3101282</td>\n",
       "      <td>2.070022</td>\n",
       "      <td>NaN</td>\n",
       "      <td>2</td>\n",
       "      <td>1</td>\n",
       "      <td>2</td>\n",
       "      <td>0</td>\n",
       "      <td>1</td>\n",
       "      <td>0</td>\n",
       "      <td>0</td>\n",
       "      <td>0</td>\n",
       "    </tr>\n",
       "    <tr>\n",
       "      <td>3</td>\n",
       "      <td>4</td>\n",
       "      <td>1</td>\n",
       "      <td>1</td>\n",
       "      <td>Futrelle, Mrs. Jacques Heath (Lily May Peel)</td>\n",
       "      <td>0</td>\n",
       "      <td>1</td>\n",
       "      <td>0</td>\n",
       "      <td>113803</td>\n",
       "      <td>3.972177</td>\n",
       "      <td>C123</td>\n",
       "      <td>2</td>\n",
       "      <td>2</td>\n",
       "      <td>3</td>\n",
       "      <td>0</td>\n",
       "      <td>0</td>\n",
       "      <td>0</td>\n",
       "      <td>1</td>\n",
       "      <td>0</td>\n",
       "    </tr>\n",
       "    <tr>\n",
       "      <td>4</td>\n",
       "      <td>5</td>\n",
       "      <td>0</td>\n",
       "      <td>3</td>\n",
       "      <td>Allen, Mr. William Henry</td>\n",
       "      <td>1</td>\n",
       "      <td>0</td>\n",
       "      <td>0</td>\n",
       "      <td>373450</td>\n",
       "      <td>2.085672</td>\n",
       "      <td>NaN</td>\n",
       "      <td>2</td>\n",
       "      <td>1</td>\n",
       "      <td>3</td>\n",
       "      <td>0</td>\n",
       "      <td>0</td>\n",
       "      <td>1</td>\n",
       "      <td>0</td>\n",
       "      <td>0</td>\n",
       "    </tr>\n",
       "  </tbody>\n",
       "</table>\n",
       "</div>"
      ],
      "text/plain": [
       "   PassengerId  Survived  Pclass  \\\n",
       "0            1         0       3   \n",
       "1            2         1       1   \n",
       "2            3         1       3   \n",
       "3            4         1       1   \n",
       "4            5         0       3   \n",
       "\n",
       "                                                Name  Sex  SibSp  Parch  \\\n",
       "0                            Braund, Mr. Owen Harris    1      1      0   \n",
       "1  Cumings, Mrs. John Bradley (Florence Briggs Th...    0      1      0   \n",
       "2                             Heikkinen, Miss. Laina    0      0      0   \n",
       "3       Futrelle, Mrs. Jacques Heath (Lily May Peel)    0      1      0   \n",
       "4                           Allen, Mr. William Henry    1      0      0   \n",
       "\n",
       "             Ticket      Fare Cabin  Embarked  FamilySize  Age_cat  Initial_0  \\\n",
       "0         A/5 21171  1.981001   NaN         2           2        2          0   \n",
       "1          PC 17599  4.266662   C85         0           2        3          0   \n",
       "2  STON/O2. 3101282  2.070022   NaN         2           1        2          0   \n",
       "3            113803  3.972177  C123         2           2        3          0   \n",
       "4            373450  2.085672   NaN         2           1        3          0   \n",
       "\n",
       "   Initial_1  Initial_2  Initial_3  Initial_4  \n",
       "0          0          1          0          0  \n",
       "1          0          0          1          0  \n",
       "2          1          0          0          0  \n",
       "3          0          0          1          0  \n",
       "4          0          1          0          0  "
      ]
     },
     "execution_count": 66,
     "metadata": {},
     "output_type": "execute_result"
    }
   ],
   "source": [
    "# get_dummies()\n",
    "# 가변수(dummy var)\n",
    "\n",
    "test = pd.get_dummies(df_train, columns=['Initial'], prefix='Initial')\n",
    "test.head()"
   ]
  },
  {
   "cell_type": "code",
   "execution_count": 67,
   "metadata": {},
   "outputs": [
    {
     "data": {
      "text/html": [
       "<div>\n",
       "<style scoped>\n",
       "    .dataframe tbody tr th:only-of-type {\n",
       "        vertical-align: middle;\n",
       "    }\n",
       "\n",
       "    .dataframe tbody tr th {\n",
       "        vertical-align: top;\n",
       "    }\n",
       "\n",
       "    .dataframe thead th {\n",
       "        text-align: right;\n",
       "    }\n",
       "</style>\n",
       "<table border=\"1\" class=\"dataframe\">\n",
       "  <thead>\n",
       "    <tr style=\"text-align: right;\">\n",
       "      <th></th>\n",
       "      <th>PassengerId</th>\n",
       "      <th>Survived</th>\n",
       "      <th>Pclass</th>\n",
       "      <th>Name</th>\n",
       "      <th>Sex</th>\n",
       "      <th>SibSp</th>\n",
       "      <th>Parch</th>\n",
       "      <th>Ticket</th>\n",
       "      <th>Fare</th>\n",
       "      <th>Cabin</th>\n",
       "      <th>Embarked</th>\n",
       "      <th>FamilySize</th>\n",
       "      <th>Initial</th>\n",
       "      <th>Age_cat</th>\n",
       "    </tr>\n",
       "  </thead>\n",
       "  <tbody>\n",
       "    <tr>\n",
       "      <td>0</td>\n",
       "      <td>1</td>\n",
       "      <td>0</td>\n",
       "      <td>3</td>\n",
       "      <td>Braund, Mr. Owen Harris</td>\n",
       "      <td>1</td>\n",
       "      <td>1</td>\n",
       "      <td>0</td>\n",
       "      <td>A/5 21171</td>\n",
       "      <td>1.981001</td>\n",
       "      <td>NaN</td>\n",
       "      <td>2</td>\n",
       "      <td>2</td>\n",
       "      <td>2</td>\n",
       "      <td>2</td>\n",
       "    </tr>\n",
       "    <tr>\n",
       "      <td>1</td>\n",
       "      <td>2</td>\n",
       "      <td>1</td>\n",
       "      <td>1</td>\n",
       "      <td>Cumings, Mrs. John Bradley (Florence Briggs Th...</td>\n",
       "      <td>0</td>\n",
       "      <td>1</td>\n",
       "      <td>0</td>\n",
       "      <td>PC 17599</td>\n",
       "      <td>4.266662</td>\n",
       "      <td>C85</td>\n",
       "      <td>0</td>\n",
       "      <td>2</td>\n",
       "      <td>3</td>\n",
       "      <td>3</td>\n",
       "    </tr>\n",
       "    <tr>\n",
       "      <td>2</td>\n",
       "      <td>3</td>\n",
       "      <td>1</td>\n",
       "      <td>3</td>\n",
       "      <td>Heikkinen, Miss. Laina</td>\n",
       "      <td>0</td>\n",
       "      <td>0</td>\n",
       "      <td>0</td>\n",
       "      <td>STON/O2. 3101282</td>\n",
       "      <td>2.070022</td>\n",
       "      <td>NaN</td>\n",
       "      <td>2</td>\n",
       "      <td>1</td>\n",
       "      <td>1</td>\n",
       "      <td>2</td>\n",
       "    </tr>\n",
       "    <tr>\n",
       "      <td>3</td>\n",
       "      <td>4</td>\n",
       "      <td>1</td>\n",
       "      <td>1</td>\n",
       "      <td>Futrelle, Mrs. Jacques Heath (Lily May Peel)</td>\n",
       "      <td>0</td>\n",
       "      <td>1</td>\n",
       "      <td>0</td>\n",
       "      <td>113803</td>\n",
       "      <td>3.972177</td>\n",
       "      <td>C123</td>\n",
       "      <td>2</td>\n",
       "      <td>2</td>\n",
       "      <td>3</td>\n",
       "      <td>3</td>\n",
       "    </tr>\n",
       "    <tr>\n",
       "      <td>4</td>\n",
       "      <td>5</td>\n",
       "      <td>0</td>\n",
       "      <td>3</td>\n",
       "      <td>Allen, Mr. William Henry</td>\n",
       "      <td>1</td>\n",
       "      <td>0</td>\n",
       "      <td>0</td>\n",
       "      <td>373450</td>\n",
       "      <td>2.085672</td>\n",
       "      <td>NaN</td>\n",
       "      <td>2</td>\n",
       "      <td>1</td>\n",
       "      <td>2</td>\n",
       "      <td>3</td>\n",
       "    </tr>\n",
       "  </tbody>\n",
       "</table>\n",
       "</div>"
      ],
      "text/plain": [
       "   PassengerId  Survived  Pclass  \\\n",
       "0            1         0       3   \n",
       "1            2         1       1   \n",
       "2            3         1       3   \n",
       "3            4         1       1   \n",
       "4            5         0       3   \n",
       "\n",
       "                                                Name  Sex  SibSp  Parch  \\\n",
       "0                            Braund, Mr. Owen Harris    1      1      0   \n",
       "1  Cumings, Mrs. John Bradley (Florence Briggs Th...    0      1      0   \n",
       "2                             Heikkinen, Miss. Laina    0      0      0   \n",
       "3       Futrelle, Mrs. Jacques Heath (Lily May Peel)    0      1      0   \n",
       "4                           Allen, Mr. William Henry    1      0      0   \n",
       "\n",
       "             Ticket      Fare Cabin  Embarked  FamilySize  Initial  Age_cat  \n",
       "0         A/5 21171  1.981001   NaN         2           2        2        2  \n",
       "1          PC 17599  4.266662   C85         0           2        3        3  \n",
       "2  STON/O2. 3101282  2.070022   NaN         2           1        1        2  \n",
       "3            113803  3.972177  C123         2           2        3        3  \n",
       "4            373450  2.085672   NaN         2           1        2        3  "
      ]
     },
     "execution_count": 67,
     "metadata": {},
     "output_type": "execute_result"
    }
   ],
   "source": [
    "df_train.head()"
   ]
  },
  {
   "cell_type": "code",
   "execution_count": 68,
   "metadata": {},
   "outputs": [],
   "source": [
    "df_train = pd.get_dummies(df_train, columns=['Initial'], prefix='Initial')\n",
    "df_test = pd.get_dummies(df_test, columns=['Initial'], prefix='Initial')"
   ]
  },
  {
   "cell_type": "code",
   "execution_count": 69,
   "metadata": {},
   "outputs": [
    {
     "data": {
      "text/html": [
       "<div>\n",
       "<style scoped>\n",
       "    .dataframe tbody tr th:only-of-type {\n",
       "        vertical-align: middle;\n",
       "    }\n",
       "\n",
       "    .dataframe tbody tr th {\n",
       "        vertical-align: top;\n",
       "    }\n",
       "\n",
       "    .dataframe thead th {\n",
       "        text-align: right;\n",
       "    }\n",
       "</style>\n",
       "<table border=\"1\" class=\"dataframe\">\n",
       "  <thead>\n",
       "    <tr style=\"text-align: right;\">\n",
       "      <th></th>\n",
       "      <th>PassengerId</th>\n",
       "      <th>Survived</th>\n",
       "      <th>Pclass</th>\n",
       "      <th>Name</th>\n",
       "      <th>Sex</th>\n",
       "      <th>SibSp</th>\n",
       "      <th>Parch</th>\n",
       "      <th>Ticket</th>\n",
       "      <th>Fare</th>\n",
       "      <th>Cabin</th>\n",
       "      <th>Embarked</th>\n",
       "      <th>FamilySize</th>\n",
       "      <th>Age_cat</th>\n",
       "      <th>Initial_0</th>\n",
       "      <th>Initial_1</th>\n",
       "      <th>Initial_2</th>\n",
       "      <th>Initial_3</th>\n",
       "      <th>Initial_4</th>\n",
       "    </tr>\n",
       "  </thead>\n",
       "  <tbody>\n",
       "    <tr>\n",
       "      <td>0</td>\n",
       "      <td>1</td>\n",
       "      <td>0</td>\n",
       "      <td>3</td>\n",
       "      <td>Braund, Mr. Owen Harris</td>\n",
       "      <td>1</td>\n",
       "      <td>1</td>\n",
       "      <td>0</td>\n",
       "      <td>A/5 21171</td>\n",
       "      <td>1.981001</td>\n",
       "      <td>NaN</td>\n",
       "      <td>2</td>\n",
       "      <td>2</td>\n",
       "      <td>2</td>\n",
       "      <td>0</td>\n",
       "      <td>0</td>\n",
       "      <td>1</td>\n",
       "      <td>0</td>\n",
       "      <td>0</td>\n",
       "    </tr>\n",
       "    <tr>\n",
       "      <td>1</td>\n",
       "      <td>2</td>\n",
       "      <td>1</td>\n",
       "      <td>1</td>\n",
       "      <td>Cumings, Mrs. John Bradley (Florence Briggs Th...</td>\n",
       "      <td>0</td>\n",
       "      <td>1</td>\n",
       "      <td>0</td>\n",
       "      <td>PC 17599</td>\n",
       "      <td>4.266662</td>\n",
       "      <td>C85</td>\n",
       "      <td>0</td>\n",
       "      <td>2</td>\n",
       "      <td>3</td>\n",
       "      <td>0</td>\n",
       "      <td>0</td>\n",
       "      <td>0</td>\n",
       "      <td>1</td>\n",
       "      <td>0</td>\n",
       "    </tr>\n",
       "    <tr>\n",
       "      <td>2</td>\n",
       "      <td>3</td>\n",
       "      <td>1</td>\n",
       "      <td>3</td>\n",
       "      <td>Heikkinen, Miss. Laina</td>\n",
       "      <td>0</td>\n",
       "      <td>0</td>\n",
       "      <td>0</td>\n",
       "      <td>STON/O2. 3101282</td>\n",
       "      <td>2.070022</td>\n",
       "      <td>NaN</td>\n",
       "      <td>2</td>\n",
       "      <td>1</td>\n",
       "      <td>2</td>\n",
       "      <td>0</td>\n",
       "      <td>1</td>\n",
       "      <td>0</td>\n",
       "      <td>0</td>\n",
       "      <td>0</td>\n",
       "    </tr>\n",
       "    <tr>\n",
       "      <td>3</td>\n",
       "      <td>4</td>\n",
       "      <td>1</td>\n",
       "      <td>1</td>\n",
       "      <td>Futrelle, Mrs. Jacques Heath (Lily May Peel)</td>\n",
       "      <td>0</td>\n",
       "      <td>1</td>\n",
       "      <td>0</td>\n",
       "      <td>113803</td>\n",
       "      <td>3.972177</td>\n",
       "      <td>C123</td>\n",
       "      <td>2</td>\n",
       "      <td>2</td>\n",
       "      <td>3</td>\n",
       "      <td>0</td>\n",
       "      <td>0</td>\n",
       "      <td>0</td>\n",
       "      <td>1</td>\n",
       "      <td>0</td>\n",
       "    </tr>\n",
       "    <tr>\n",
       "      <td>4</td>\n",
       "      <td>5</td>\n",
       "      <td>0</td>\n",
       "      <td>3</td>\n",
       "      <td>Allen, Mr. William Henry</td>\n",
       "      <td>1</td>\n",
       "      <td>0</td>\n",
       "      <td>0</td>\n",
       "      <td>373450</td>\n",
       "      <td>2.085672</td>\n",
       "      <td>NaN</td>\n",
       "      <td>2</td>\n",
       "      <td>1</td>\n",
       "      <td>3</td>\n",
       "      <td>0</td>\n",
       "      <td>0</td>\n",
       "      <td>1</td>\n",
       "      <td>0</td>\n",
       "      <td>0</td>\n",
       "    </tr>\n",
       "  </tbody>\n",
       "</table>\n",
       "</div>"
      ],
      "text/plain": [
       "   PassengerId  Survived  Pclass  \\\n",
       "0            1         0       3   \n",
       "1            2         1       1   \n",
       "2            3         1       3   \n",
       "3            4         1       1   \n",
       "4            5         0       3   \n",
       "\n",
       "                                                Name  Sex  SibSp  Parch  \\\n",
       "0                            Braund, Mr. Owen Harris    1      1      0   \n",
       "1  Cumings, Mrs. John Bradley (Florence Briggs Th...    0      1      0   \n",
       "2                             Heikkinen, Miss. Laina    0      0      0   \n",
       "3       Futrelle, Mrs. Jacques Heath (Lily May Peel)    0      1      0   \n",
       "4                           Allen, Mr. William Henry    1      0      0   \n",
       "\n",
       "             Ticket      Fare Cabin  Embarked  FamilySize  Age_cat  Initial_0  \\\n",
       "0         A/5 21171  1.981001   NaN         2           2        2          0   \n",
       "1          PC 17599  4.266662   C85         0           2        3          0   \n",
       "2  STON/O2. 3101282  2.070022   NaN         2           1        2          0   \n",
       "3            113803  3.972177  C123         2           2        3          0   \n",
       "4            373450  2.085672   NaN         2           1        3          0   \n",
       "\n",
       "   Initial_1  Initial_2  Initial_3  Initial_4  \n",
       "0          0          1          0          0  \n",
       "1          0          0          1          0  \n",
       "2          1          0          0          0  \n",
       "3          0          0          1          0  \n",
       "4          0          1          0          0  "
      ]
     },
     "execution_count": 69,
     "metadata": {},
     "output_type": "execute_result"
    }
   ],
   "source": [
    "# 오른쪽에 one-hot encoded columns 가 생성된것을 확인가능 \n",
    "# Embarked 에도 적용 -> Initial과 동일한 기법으로 \n",
    "df_train.head()"
   ]
  },
  {
   "cell_type": "code",
   "execution_count": 70,
   "metadata": {},
   "outputs": [],
   "source": [
    "# columns를 직접 입력 꼭 써줄것 \n",
    "df_train = pd.get_dummies(df_train, columns=['Embarked'], prefix='Embarked')\n",
    "df_test = pd.get_dummies(df_test, columns=['Embarked'], prefix='Embarked')"
   ]
  },
  {
   "cell_type": "markdown",
   "metadata": {},
   "source": [
    "- 이렇게 원-핫 인코딩을 적용 \n",
    "    - sklearn 로 Labelencoder + OneHotencoder 이용해도 one-hot encoding 이 가능하다.\n",
    "    - 나중에 다시 해볼 것 -> 여기서는 get_dummies 로 충분히 가능\n",
    "- 알고 넘어가자 !    \n",
    "    - 가끔 category가 100개가 넘어가는 경우 존재 이때 one-hot encoding을 사용하면 column이 100개가 생겨, 학습시 매우 버거울 경우가 있다. 그런 경우에는 다른 것을 사용한다. "
   ]
  },
  {
   "cell_type": "markdown",
   "metadata": {},
   "source": [
    "## 컬럼 정리 : Drop columns\n",
    "\n",
    "- 요한 columns 만 남기고 다 지운다."
   ]
  },
  {
   "cell_type": "code",
   "execution_count": 71,
   "metadata": {},
   "outputs": [
    {
     "data": {
      "text/plain": [
       "Index(['PassengerId', 'Survived', 'Pclass', 'Name', 'Sex', 'SibSp', 'Parch',\n",
       "       'Ticket', 'Fare', 'Cabin', 'FamilySize', 'Age_cat', 'Initial_0',\n",
       "       'Initial_1', 'Initial_2', 'Initial_3', 'Initial_4', 'Embarked_0',\n",
       "       'Embarked_1', 'Embarked_2'],\n",
       "      dtype='object')"
      ]
     },
     "execution_count": 71,
     "metadata": {},
     "output_type": "execute_result"
    }
   ],
   "source": [
    "df_train.columns"
   ]
  },
  {
   "cell_type": "code",
   "execution_count": 72,
   "metadata": {},
   "outputs": [],
   "source": [
    "# 드랍할것 -> 'PassengerId', 'Name', 'SibSp', 'Parch', 'Ticket', 'Cabin'\n",
    "# train 과 test를 동일하게 제거 할 것\n",
    "drop_it = ['PassengerId', 'Name', 'SibSp', 'Parch', 'Ticket', 'Cabin']\n",
    "\n",
    "df_train.drop(drop_it, axis=1, inplace=True)\n",
    "df_test.drop(drop_it, axis=1, inplace=True)"
   ]
  },
  {
   "cell_type": "code",
   "execution_count": 73,
   "metadata": {},
   "outputs": [
    {
     "data": {
      "text/html": [
       "<div>\n",
       "<style scoped>\n",
       "    .dataframe tbody tr th:only-of-type {\n",
       "        vertical-align: middle;\n",
       "    }\n",
       "\n",
       "    .dataframe tbody tr th {\n",
       "        vertical-align: top;\n",
       "    }\n",
       "\n",
       "    .dataframe thead th {\n",
       "        text-align: right;\n",
       "    }\n",
       "</style>\n",
       "<table border=\"1\" class=\"dataframe\">\n",
       "  <thead>\n",
       "    <tr style=\"text-align: right;\">\n",
       "      <th></th>\n",
       "      <th>Survived</th>\n",
       "      <th>Pclass</th>\n",
       "      <th>Sex</th>\n",
       "      <th>Fare</th>\n",
       "      <th>FamilySize</th>\n",
       "      <th>Age_cat</th>\n",
       "      <th>Initial_0</th>\n",
       "      <th>Initial_1</th>\n",
       "      <th>Initial_2</th>\n",
       "      <th>Initial_3</th>\n",
       "      <th>Initial_4</th>\n",
       "      <th>Embarked_0</th>\n",
       "      <th>Embarked_1</th>\n",
       "      <th>Embarked_2</th>\n",
       "    </tr>\n",
       "  </thead>\n",
       "  <tbody>\n",
       "    <tr>\n",
       "      <td>0</td>\n",
       "      <td>0</td>\n",
       "      <td>3</td>\n",
       "      <td>1</td>\n",
       "      <td>1.981001</td>\n",
       "      <td>2</td>\n",
       "      <td>2</td>\n",
       "      <td>0</td>\n",
       "      <td>0</td>\n",
       "      <td>1</td>\n",
       "      <td>0</td>\n",
       "      <td>0</td>\n",
       "      <td>0</td>\n",
       "      <td>0</td>\n",
       "      <td>1</td>\n",
       "    </tr>\n",
       "    <tr>\n",
       "      <td>1</td>\n",
       "      <td>1</td>\n",
       "      <td>1</td>\n",
       "      <td>0</td>\n",
       "      <td>4.266662</td>\n",
       "      <td>2</td>\n",
       "      <td>3</td>\n",
       "      <td>0</td>\n",
       "      <td>0</td>\n",
       "      <td>0</td>\n",
       "      <td>1</td>\n",
       "      <td>0</td>\n",
       "      <td>1</td>\n",
       "      <td>0</td>\n",
       "      <td>0</td>\n",
       "    </tr>\n",
       "    <tr>\n",
       "      <td>2</td>\n",
       "      <td>1</td>\n",
       "      <td>3</td>\n",
       "      <td>0</td>\n",
       "      <td>2.070022</td>\n",
       "      <td>1</td>\n",
       "      <td>2</td>\n",
       "      <td>0</td>\n",
       "      <td>1</td>\n",
       "      <td>0</td>\n",
       "      <td>0</td>\n",
       "      <td>0</td>\n",
       "      <td>0</td>\n",
       "      <td>0</td>\n",
       "      <td>1</td>\n",
       "    </tr>\n",
       "    <tr>\n",
       "      <td>3</td>\n",
       "      <td>1</td>\n",
       "      <td>1</td>\n",
       "      <td>0</td>\n",
       "      <td>3.972177</td>\n",
       "      <td>2</td>\n",
       "      <td>3</td>\n",
       "      <td>0</td>\n",
       "      <td>0</td>\n",
       "      <td>0</td>\n",
       "      <td>1</td>\n",
       "      <td>0</td>\n",
       "      <td>0</td>\n",
       "      <td>0</td>\n",
       "      <td>1</td>\n",
       "    </tr>\n",
       "    <tr>\n",
       "      <td>4</td>\n",
       "      <td>0</td>\n",
       "      <td>3</td>\n",
       "      <td>1</td>\n",
       "      <td>2.085672</td>\n",
       "      <td>1</td>\n",
       "      <td>3</td>\n",
       "      <td>0</td>\n",
       "      <td>0</td>\n",
       "      <td>1</td>\n",
       "      <td>0</td>\n",
       "      <td>0</td>\n",
       "      <td>0</td>\n",
       "      <td>0</td>\n",
       "      <td>1</td>\n",
       "    </tr>\n",
       "  </tbody>\n",
       "</table>\n",
       "</div>"
      ],
      "text/plain": [
       "   Survived  Pclass  Sex      Fare  FamilySize  Age_cat  Initial_0  Initial_1  \\\n",
       "0         0       3    1  1.981001           2        2          0          0   \n",
       "1         1       1    0  4.266662           2        3          0          0   \n",
       "2         1       3    0  2.070022           1        2          0          1   \n",
       "3         1       1    0  3.972177           2        3          0          0   \n",
       "4         0       3    1  2.085672           1        3          0          0   \n",
       "\n",
       "   Initial_2  Initial_3  Initial_4  Embarked_0  Embarked_1  Embarked_2  \n",
       "0          1          0          0           0           0           1  \n",
       "1          0          1          0           1           0           0  \n",
       "2          0          0          0           0           0           1  \n",
       "3          0          1          0           0           0           1  \n",
       "4          1          0          0           0           0           1  "
      ]
     },
     "execution_count": 73,
     "metadata": {},
     "output_type": "execute_result"
    }
   ],
   "source": [
    "# 굉장히 깔끔 해진것을 확인할 수 있다.  \n",
    "df_train.head()"
   ]
  },
  {
   "cell_type": "code",
   "execution_count": 74,
   "metadata": {},
   "outputs": [
    {
     "data": {
      "text/html": [
       "<div>\n",
       "<style scoped>\n",
       "    .dataframe tbody tr th:only-of-type {\n",
       "        vertical-align: middle;\n",
       "    }\n",
       "\n",
       "    .dataframe tbody tr th {\n",
       "        vertical-align: top;\n",
       "    }\n",
       "\n",
       "    .dataframe thead th {\n",
       "        text-align: right;\n",
       "    }\n",
       "</style>\n",
       "<table border=\"1\" class=\"dataframe\">\n",
       "  <thead>\n",
       "    <tr style=\"text-align: right;\">\n",
       "      <th></th>\n",
       "      <th>Pclass</th>\n",
       "      <th>Sex</th>\n",
       "      <th>Fare</th>\n",
       "      <th>FamilySize</th>\n",
       "      <th>Age_cat</th>\n",
       "      <th>Initial_0</th>\n",
       "      <th>Initial_1</th>\n",
       "      <th>Initial_2</th>\n",
       "      <th>Initial_3</th>\n",
       "      <th>Initial_4</th>\n",
       "      <th>Embarked_0</th>\n",
       "      <th>Embarked_1</th>\n",
       "      <th>Embarked_2</th>\n",
       "    </tr>\n",
       "  </thead>\n",
       "  <tbody>\n",
       "    <tr>\n",
       "      <td>0</td>\n",
       "      <td>3</td>\n",
       "      <td>1</td>\n",
       "      <td>2.057860</td>\n",
       "      <td>1</td>\n",
       "      <td>3</td>\n",
       "      <td>0</td>\n",
       "      <td>0</td>\n",
       "      <td>1</td>\n",
       "      <td>0</td>\n",
       "      <td>0</td>\n",
       "      <td>0</td>\n",
       "      <td>1</td>\n",
       "      <td>0</td>\n",
       "    </tr>\n",
       "    <tr>\n",
       "      <td>1</td>\n",
       "      <td>3</td>\n",
       "      <td>0</td>\n",
       "      <td>1.945910</td>\n",
       "      <td>2</td>\n",
       "      <td>4</td>\n",
       "      <td>0</td>\n",
       "      <td>0</td>\n",
       "      <td>0</td>\n",
       "      <td>1</td>\n",
       "      <td>0</td>\n",
       "      <td>0</td>\n",
       "      <td>0</td>\n",
       "      <td>1</td>\n",
       "    </tr>\n",
       "    <tr>\n",
       "      <td>2</td>\n",
       "      <td>2</td>\n",
       "      <td>1</td>\n",
       "      <td>2.270836</td>\n",
       "      <td>1</td>\n",
       "      <td>6</td>\n",
       "      <td>0</td>\n",
       "      <td>0</td>\n",
       "      <td>1</td>\n",
       "      <td>0</td>\n",
       "      <td>0</td>\n",
       "      <td>0</td>\n",
       "      <td>1</td>\n",
       "      <td>0</td>\n",
       "    </tr>\n",
       "    <tr>\n",
       "      <td>3</td>\n",
       "      <td>3</td>\n",
       "      <td>1</td>\n",
       "      <td>2.159003</td>\n",
       "      <td>1</td>\n",
       "      <td>2</td>\n",
       "      <td>0</td>\n",
       "      <td>0</td>\n",
       "      <td>1</td>\n",
       "      <td>0</td>\n",
       "      <td>0</td>\n",
       "      <td>0</td>\n",
       "      <td>0</td>\n",
       "      <td>1</td>\n",
       "    </tr>\n",
       "    <tr>\n",
       "      <td>4</td>\n",
       "      <td>3</td>\n",
       "      <td>0</td>\n",
       "      <td>2.508582</td>\n",
       "      <td>3</td>\n",
       "      <td>2</td>\n",
       "      <td>0</td>\n",
       "      <td>0</td>\n",
       "      <td>0</td>\n",
       "      <td>1</td>\n",
       "      <td>0</td>\n",
       "      <td>0</td>\n",
       "      <td>0</td>\n",
       "      <td>1</td>\n",
       "    </tr>\n",
       "  </tbody>\n",
       "</table>\n",
       "</div>"
      ],
      "text/plain": [
       "   Pclass  Sex      Fare  FamilySize  Age_cat  Initial_0  Initial_1  \\\n",
       "0       3    1  2.057860           1        3          0          0   \n",
       "1       3    0  1.945910           2        4          0          0   \n",
       "2       2    1  2.270836           1        6          0          0   \n",
       "3       3    1  2.159003           1        2          0          0   \n",
       "4       3    0  2.508582           3        2          0          0   \n",
       "\n",
       "   Initial_2  Initial_3  Initial_4  Embarked_0  Embarked_1  Embarked_2  \n",
       "0          1          0          0           0           1           0  \n",
       "1          0          1          0           0           0           1  \n",
       "2          1          0          0           0           1           0  \n",
       "3          1          0          0           0           0           1  \n",
       "4          0          1          0           0           0           1  "
      ]
     },
     "execution_count": 74,
     "metadata": {},
     "output_type": "execute_result"
    }
   ],
   "source": [
    "# train 의 Survived feature(target class)를 제외하면 train, test 둘 다 같은 columns 를 가진 걸 확인가능하다.\n",
    "df_test.head()"
   ]
  },
  {
   "cell_type": "markdown",
   "metadata": {},
   "source": [
    "# 4. 훈련 된 모델을 사용하여 기계 학습 모델 구축 및 예측\n",
    ": Building machine Learning model and prediction using the trained model\n",
    "\n",
    "---\n",
    "- [sklearn](http://scikit-learn.org/stable/supervised_learning.html#supervised-learning )을 사용해 본격적으로 머신러닝 모델 생성\n",
    "- sklearn는 머신러닝의 모든것을 가지고 있음 \n",
    "    - feature engineering, preprocessing, 지도 학습 알고리즘, 비지도 학습 알고리즘, 모델 평가, 파이프라인 등 머신러닝에 관련된 모든 작업들이 손쉬운 인터페이스로 구현되었다.\n",
    "    - 데이터 분석 + 머신러닝을 하고자하면 -> 필수 !!!!!\n",
    "\n",
    "---\n",
    "\n",
    "- 타이타닉 문제는 target class(survived)가 있으며, target class 는 0, 1로 이루어져 있으므로(바이너리) binary classfication 문제!!\n",
    "- train_set의 survived를 제외한 input 을 가지고 모델을 최적화시켜서 각 샘플(탑승객)의 생존 유무를 판단하는 모델을 만들 것\n",
    "- 그리고 모델이 학습하지 않았던 test_set 을 input 으로 주어서 test_set 의 각 샘플(탑승객)의 생존 유무를 예측"
   ]
  },
  {
   "cell_type": "code",
   "execution_count": 75,
   "metadata": {},
   "outputs": [],
   "source": [
    "# importing all the requested ML packages\n",
    "from sklearn.ensemble import RandomForestClassifier  # 랜덤포레스트\n",
    "from sklearn.model_selection import train_test_split # traning set을 쉽게 나눠주는 함수\n",
    "from sklearn import metrics                          # 모델의 평가를 위해서 사용"
   ]
  },
  {
   "cell_type": "markdown",
   "metadata": {},
   "source": [
    "## 준비-데이터 세트를 기차, 유효, 테스트 세트로 분할\n",
    "- Preparation - Split dataset into train, valid, test set\n",
    "\n",
    "- 우선, 학습에 쓰일 데이터와, target label(Survived)를 분리 -> drop 을 사용해 간단히 진행 "
   ]
  },
  {
   "cell_type": "code",
   "execution_count": 79,
   "metadata": {},
   "outputs": [],
   "source": [
    "X_train = df_train.drop('Survived', axis=1).values\n",
    "target_label = df_train['Survived'].values # 정답만 추출 \n",
    "X_test = df_test.values"
   ]
  },
  {
   "cell_type": "markdown",
   "metadata": {},
   "source": [
    "- train, test 만 언급되지만, 실제 좋은 모델을 만들기 위해서 우리는 valid_set(모이고사 같은 것)을 따로 만들어 모델 평가를 진행 \n",
    "- train_test_split 을 사용하여 쉽게 train 셋을 분리"
   ]
  },
  {
   "cell_type": "code",
   "execution_count": 80,
   "metadata": {},
   "outputs": [],
   "source": [
    "# 데이터 셋 분리 \n",
    "X_tr, X_vld, y_tr, y_vld = train_test_split(X_train, target_label, test_size=0.3, random_state = 2018)"
   ]
  },
  {
   "cell_type": "markdown",
   "metadata": {},
   "source": [
    "- 랜덤포레스트\n",
    "    - 랜덤포레스트는 결정트리기반 모델\n",
    "    - 여러 결정 트리들을 앙상블한 모델\n",
    "\n",
    "- 머신러닝 알고리즘에는 여러 파라미터들이 존재 \n",
    "- 랜덤 포레스트 분류기\n",
    "    - n_estimators, max_features, max_depth, min_samples_split, min_samples_leaf 등 여러 파라미터들이 존재 \n",
    "         - 어떻게 세팅되냐에 따라 같은 데이터셋이라 하더라도 모델의 성능이 달라진다. \n",
    "         \n",
    "- 파라미터를 튜닝하는 일\n",
    "    - 시간, 경험, 알고리즘에 대한 이해 등이 필요하다. \n",
    "    - 결국 많이 써봐야 모델도 잘 세울 수 있다. \n",
    "        -> 캐글 추천 이유 \n",
    "            - 여러 데이터셋을 가지고 모델을 이리저리 써봐야 튜닝하는 감이 생긴데...ㅋㅋㅋ\n",
    "            - 여기서는 본 default 세팅으로 진행\n",
    "            - 모델 객체를 만들고, fit 메소드로 학습 -> valid set input 을 넣어주어 예측값(X_vld sample(탑승객)의 생존여부)를 GET!\n",
    "    "
   ]
  },
  {
   "cell_type": "markdown",
   "metadata": {},
   "source": [
    "## 모델 생성 및 예측\n",
    "- Model generation and prediction\n"
   ]
  },
  {
   "cell_type": "code",
   "execution_count": 81,
   "metadata": {},
   "outputs": [],
   "source": [
    "# 모델 생성 \n",
    "model = RandomForestClassifier()\n",
    "# RandomForestClassifier.fit(X_tr, y_tr)\n",
    "model.fit(X_tr, y_tr)\n",
    "# 예측 \n",
    "prediction = model.predict(X_vld)"
   ]
  },
  {
   "cell_type": "code",
   "execution_count": 84,
   "metadata": {},
   "outputs": [
    {
     "name": "stdout",
     "output_type": "stream",
     "text": [
      "총 268명 중 0.84정확도로 생존을 맞춤\n"
     ]
    }
   ],
   "source": [
    "print('총 {}명 중 {:.2f}정확도로 생존을 맞춤'.format(y_vld.shape[0], metrics.accuracy_score(prediction, y_vld) ))"
   ]
  },
  {
   "cell_type": "code",
   "execution_count": 82,
   "metadata": {},
   "outputs": [
    {
     "name": "stdout",
     "output_type": "stream",
     "text": [
      "총 268명 중 84.33% 정확도로 생존을 맞춤\n"
     ]
    }
   ],
   "source": [
    "# 튜닝없이\n",
    "print('총 {}명 중 {:.2f}% 정확도로 생존을 맞춤'.format(y_vld.shape[0], 100 * metrics.accuracy_score(prediction, y_vld) ))"
   ]
  },
  {
   "cell_type": "markdown",
   "metadata": {},
   "source": [
    "## 기능의 중요성: Fature importance\n",
    "\n",
    "- Fature importance 가진다. \n",
    "    - 이것을 확인하여 지금 만든 모델이 어떤 feature 에 영향을 많이 받았는 지 확인할 수 있다. \n",
    "    - 즉, 10 = 3x1 + 2x2 + 1*x3 을 생각하면, 우리는 x1이 결과값(10)에 큰 영향을 준다고 생각\n",
    "         - feature importance 는 3, 2, 1 =>  x1이 가장 큰 값(3)를 가지므로, 이 모델에 가장 큰 영향을 미친다고 말할 수 있다.\n",
    "    - 학습된 모델은 기본적으로 feature importances 를 가지고 있어서 쉽게 그 수치를 얻을 수 있다.\n",
    "    - pandas series 를 이용하면 쉽게 sorting 을 하여 그래프를 그릴 수 있다.\n",
    "    "
   ]
  },
  {
   "cell_type": "code",
   "execution_count": 89,
   "metadata": {},
   "outputs": [],
   "source": [
    "from pandas import Series"
   ]
  },
  {
   "cell_type": "code",
   "execution_count": 85,
   "metadata": {
    "scrolled": true
   },
   "outputs": [
    {
     "data": {
      "text/plain": [
       "array([0.10045806, 0.03080437, 0.34247475, 0.08989018, 0.1368313 ,\n",
       "       0.00474695, 0.05836822, 0.145809  , 0.04826619, 0.00654434,\n",
       "       0.00780198, 0.01042003, 0.01758463])"
      ]
     },
     "execution_count": 85,
     "metadata": {},
     "output_type": "execute_result"
    }
   ],
   "source": [
    "model.feature_importances_"
   ]
  },
  {
   "cell_type": "code",
   "execution_count": 87,
   "metadata": {},
   "outputs": [],
   "source": [
    "feature_importance = model.feature_importances_"
   ]
  },
  {
   "cell_type": "code",
   "execution_count": 90,
   "metadata": {},
   "outputs": [
    {
     "data": {
      "text/plain": [
       "Pclass        0.100458\n",
       "Sex           0.030804\n",
       "Fare          0.342475\n",
       "FamilySize    0.089890\n",
       "Age_cat       0.136831\n",
       "Initial_0     0.004747\n",
       "Initial_1     0.058368\n",
       "Initial_2     0.145809\n",
       "Initial_3     0.048266\n",
       "Initial_4     0.006544\n",
       "Embarked_0    0.007802\n",
       "Embarked_1    0.010420\n",
       "Embarked_2    0.017585\n",
       "dtype: float64"
      ]
     },
     "execution_count": 90,
     "metadata": {},
     "output_type": "execute_result"
    }
   ],
   "source": [
    "test = Series(feature_importance, index=df_test.columns)\n",
    "test"
   ]
  },
  {
   "cell_type": "code",
   "execution_count": 91,
   "metadata": {},
   "outputs": [],
   "source": [
    "feature_importance = model.feature_importances_\n",
    "# pandas series 를 이용한 sorting\n",
    "Series_feat_imp = Series(feature_importance, index=df_test.columns)"
   ]
  },
  {
   "cell_type": "code",
   "execution_count": 92,
   "metadata": {},
   "outputs": [
    {
     "data": {
      "image/png": "[encoded data removed]",
      "text/plain": [
       "<Figure size 576x576 with 1 Axes>"
      ]
     },
     "metadata": {
      "needs_background": "light"
     },
     "output_type": "display_data"
    }
   ],
   "source": [
    "# 시각화\n",
    "plt.figure(figsize=(8, 8))\n",
    "Series_feat_imp.sort_values(ascending=True).plot.barh()\n",
    "plt.xlabel('Feature importance')\n",
    "plt.ylabel('Feature')\n",
    "plt.show()"
   ]
  },
  {
   "cell_type": "markdown",
   "metadata": {},
   "source": [
    "- Fare 가 가장 큰 영향력\n",
    "- Initial_2, Age_cat, Pclass가 차례로 중요도를 가진다.\n",
    "\n",
    "- feature importance 는 지금 모델에서의 importance를 나타낸다.\n",
    "- 만약 다른 모델을 사용 feature importance 가 다르게 나올 수 있다. \n",
    "- feature importance 를 보고 실제로 Fare 가 중요한 feature 일 수 있다고 판단을 내릴 수는 있다. \n",
    "    - 하지만, 이것은 결국 모델에 귀속되는 하나의 결론이므로 통계적 검증이 필요하다.\n",
    "    \n",
    "- featuure importance 를 가지고 좀 더 정확도가 높은 모델을 얻기 위해 feature selection 을 할 수도 있고, 좀 더 빠른 모델을 위해 feature 제거도 가능하다. \n"
   ]
  },
  {
   "cell_type": "markdown",
   "metadata": {},
   "source": [
    "## 테스트 세트에 대한 예측 : Prediction on Test set\n",
    "- 모델에서 학습하지 않았던 테스트셋을 모델에 줘 생존을 예측을 진행 \n",
    "- 캐글에서 준 파일, gender_submission.csv 파일을 읽어서 제출 준비"
   ]
  },
  {
   "cell_type": "code",
   "execution_count": 96,
   "metadata": {},
   "outputs": [
    {
     "data": {
      "text/html": [
       "<div>\n",
       "<style scoped>\n",
       "    .dataframe tbody tr th:only-of-type {\n",
       "        vertical-align: middle;\n",
       "    }\n",
       "\n",
       "    .dataframe tbody tr th {\n",
       "        vertical-align: top;\n",
       "    }\n",
       "\n",
       "    .dataframe thead th {\n",
       "        text-align: right;\n",
       "    }\n",
       "</style>\n",
       "<table border=\"1\" class=\"dataframe\">\n",
       "  <thead>\n",
       "    <tr style=\"text-align: right;\">\n",
       "      <th></th>\n",
       "      <th>PassengerId</th>\n",
       "      <th>Survived</th>\n",
       "    </tr>\n",
       "  </thead>\n",
       "  <tbody>\n",
       "    <tr>\n",
       "      <td>0</td>\n",
       "      <td>892</td>\n",
       "      <td>0</td>\n",
       "    </tr>\n",
       "    <tr>\n",
       "      <td>1</td>\n",
       "      <td>893</td>\n",
       "      <td>1</td>\n",
       "    </tr>\n",
       "    <tr>\n",
       "      <td>2</td>\n",
       "      <td>894</td>\n",
       "      <td>0</td>\n",
       "    </tr>\n",
       "    <tr>\n",
       "      <td>3</td>\n",
       "      <td>895</td>\n",
       "      <td>0</td>\n",
       "    </tr>\n",
       "    <tr>\n",
       "      <td>4</td>\n",
       "      <td>896</td>\n",
       "      <td>1</td>\n",
       "    </tr>\n",
       "  </tbody>\n",
       "</table>\n",
       "</div>"
      ],
      "text/plain": [
       "   PassengerId  Survived\n",
       "0          892         0\n",
       "1          893         1\n",
       "2          894         0\n",
       "3          895         0\n",
       "4          896         1"
      ]
     },
     "execution_count": 96,
     "metadata": {},
     "output_type": "execute_result"
    }
   ],
   "source": [
    "submission = pd.read_csv('../../input/gender_submission.csv')\n",
    "submission.head() # testset 에 대하여 예측을 하고, 결과를 csv 파일로 저장"
   ]
  },
  {
   "cell_type": "code",
   "execution_count": 98,
   "metadata": {},
   "outputs": [],
   "source": [
    "prediction = model.predict(X_test)\n",
    "submission['Survived'] = prediction"
   ]
  },
  {
   "cell_type": "code",
   "execution_count": 99,
   "metadata": {},
   "outputs": [],
   "source": [
    "submission.to_csv('./my_first_submission.csv', index=False)"
   ]
  }
 ],
 "metadata": {
  "kernelspec": {
   "display_name": "Python 3",
   "language": "python",
   "name": "python3"
  },
  "language_info": {
   "codemirror_mode": {
    "name": "ipython",
    "version": 3
   },
   "file_extension": ".py",
   "mimetype": "text/x-python",
   "name": "python",
   "nbconvert_exporter": "python",
   "pygments_lexer": "ipython3",
   "version": "3.6.5"
  }
 },
 "nbformat": 4,
 "nbformat_minor": 2
}
