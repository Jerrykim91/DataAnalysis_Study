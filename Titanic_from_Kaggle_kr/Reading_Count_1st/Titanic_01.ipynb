{
 "cells": [
  {
   "cell_type": "markdown",
   "metadata": {},
   "source": [
    "# Titanic_01 : 타이타닉 \n",
    "---\n",
    "- 타이타닉에 탑승한 사람들의 신상정보를 활용\n",
    "- 승선한 사람들의 생존여부를 예측하는 모델을 생성\n",
    "    - 여러 시각화 도구(matplotlib, seaborn, plotly), 데이터 분석 도구(pandas, numpy), 머신 러닝 도구(sklearn)을 사용"
   ]
  },
  {
   "cell_type": "markdown",
   "metadata": {},
   "source": [
    "## 가설\n",
    "---\n",
    "1. Pclass :  좋은 객실을 사용한 승객이 더 많이 살아남았을 것이라는 가설 \n",
    "2. Age : 젊은사람일수록 에너지가 있으니까 더 많이 살아 남았을거라는 가설 \n",
    "3. Fare : 탑승료에 따른 생존률, 근데 이거는 pclass와 겹치거나 할것같음\n",
    "4. sex : 여성이 더 많이 살아 남았을것이라는 가설 "
   ]
  },
  {
   "cell_type": "code",
   "execution_count": 1,
   "metadata": {},
   "outputs": [],
   "source": [
    "# !pip install missingno "
   ]
  },
  {
   "cell_type": "code",
   "execution_count": 2,
   "metadata": {},
   "outputs": [],
   "source": [
    "# import\n",
    "import numpy as np    # 넘파이\n",
    "import pandas as pd   # 판다스 \n",
    "import matplotlib.pyplot as plt   # 맷폴렛- 그래프\n",
    "import seaborn as sns      # 시본 - 그래프 \n",
    "\n",
    "plt.style.use('seaborn')\n",
    "sns.set(font_scale=2.5)\n",
    "# matplotlib 의 기본 scheme 말고 seaborn scheme 을 세팅하고, \n",
    "# 일일이 graph 의 font size 를 지정할 필요 없이 seaborn 의 font_scale 을 사용하면 편합니다.\n",
    "\n",
    "import missingno as msno   # missingno =>  missingno 패키지를 사용하면 누락데이터에 대한 시각화\n",
    "\n",
    "\n",
    "# ignore warnings\n",
    "import warnings    # 워닝 방지\n",
    "warnings.filterwarnings('ignore')\n",
    "\n",
    "%matplotlib inline"
   ]
  },
  {
   "cell_type": "markdown",
   "metadata": {},
   "source": [
    "## 앞으로의 프로세스\n",
    "---\n",
    "\n",
    "### 1. 데이터 셋 확인 \n",
    "    - null data 확인(결측치)하고 추후 수정 \n",
    "### 2. 탐색적 데이터 분석(**E**xploratory **D**ata **A**nalysis)  \n",
    "    - 여러 특징(feature)들을 개별적으로 분석하고 특징들의 상관관계를 확인 \n",
    "    - 여러 시각화 툴을 이용하여 통찰력(insight)을 얻음 \n",
    "### 3. 특징을 엔지니어링\n",
    "    - 모델의 성능을 높일 수 있도록 특징들을 엔지니어링\n",
    "    - one-hot encoding, class로 나누기, 구간으로 나누기, 텍스트 데이터 처리등...\n",
    "### 4. 모델 만들기 \n",
    "    - 사잇킷런을 사용하여 모델을 생성 \n",
    "    - sklearn 을 사용하면 수많은 알고리즘을 일괄된 문법으로 사용가능\n",
    "### 5. 모델 학습 및 예측 \n",
    "    - 트레인 셋을 가지고 모델 학습\n",
    "    - 테스트 셋으로 예측(prediction)함 \n",
    "### 6. 모델 평가 \n",
    "    - 예측 성능이 원하는 수준인지 판단 \n",
    "    - 풀려는 문제에 따라 모델을 평가하는 방식이 달라짐 "
   ]
  },
  {
   "cell_type": "markdown",
   "metadata": {},
   "source": [
    "---"
   ]
  },
  {
   "cell_type": "markdown",
   "metadata": {},
   "source": [
    "## 1. 데이터 셋 확인\n",
    "---\n",
    "\n",
    "- null data 확인하고 추후 수정 \n",
    "- 판다스 => 테이블화 된 데이터를 다루는데 가장 최적화 된 라이브러리 \n",
    "- pandas를 사용하여 데이터 셋의 간단한 통계적 분석, 복잡한 처리들을 간단한 메소드를 사용하여 작업  \n",
    "- 판다스는 반복또 반복\n",
    "---\n",
    "- 캐글의 데이터 셋은 train, testset로 나누어짐 "
   ]
  },
  {
   "cell_type": "code",
   "execution_count": 13,
   "metadata": {},
   "outputs": [
    {
     "name": "stdout",
     "output_type": "stream",
     "text": [
      "../../input\\gender_submission.csv\n",
      "../../input\\test.csv\n",
      "../../input\\train.csv\n"
     ]
    }
   ],
   "source": [
    "def search_path(dir_name = 'help'):\n",
    "    import os\n",
    "    \n",
    "# dirname = '../../input'\n",
    "    txt_err = '''\n",
    "    - 여기 참고!\n",
    "    ex) 만약 input => C:\\input\\train.csv에 위치한다면,\n",
    "    1.  ->  '/'    -> 가장 최상의 디렉토리로 이동\n",
    "        => / : root('C:')\n",
    "    2.  ->  './'   -> 파일이 현재 디렉토리를 의미    \n",
    "        => ./ : now_dir -> 내위치(=train.csv) -> train.csv\n",
    "    3.  -> '../'   -> 상위 디렉토리로 이동\n",
    "        => ../ : now_dir의 상단 폴더  -> input\n",
    "    - 두단계 상위 디렉토리로 이동하려면 =>  '../../' 이렇게 사용\n",
    "    '''\n",
    "    if dir_name == 'help':\n",
    "        print(txt_err)\n",
    "    else:\n",
    "        for dirname, _, filenames in os.walk(dir_name):\n",
    "            \n",
    "        #     print(dirname, _, filenames)\n",
    "            for filename in filenames:\n",
    "#                 print(filename)\n",
    "                print(os.path.join(dirname, filename))\n",
    "    \n",
    "search_path('../../input')"
   ]
  },
  {
   "cell_type": "code",
   "execution_count": 10,
   "metadata": {},
   "outputs": [],
   "source": [
    "path = '../../input/%s.csv' \n",
    "\n",
    "df_train = pd.read_csv(path %'train')\n",
    "df_test  = pd.read_csv(path % 'test')\n"
   ]
  },
  {
   "cell_type": "code",
   "execution_count": null,
   "metadata": {},
   "outputs": [],
   "source": [
    "df_train.head() # 데이터 확인 \n",
    "# print(df_train.head())"
   ]
  },
  {
   "cell_type": "code",
   "execution_count": null,
   "metadata": {},
   "outputs": [],
   "source": [
    "df_train.shape  # 학습용 데이터 크기 확인 "
   ]
  },
  {
   "cell_type": "code",
   "execution_count": null,
   "metadata": {},
   "outputs": [],
   "source": [
    "df_test.shape # 테스트용 데이터 크기 확인 "
   ]
  },
  {
   "cell_type": "code",
   "execution_count": null,
   "metadata": {},
   "outputs": [],
   "source": [
    "df_train.columns  # 컬넘 확인 "
   ]
  },
  {
   "cell_type": "markdown",
   "metadata": {},
   "source": [
    "### 제공 데이터 확인 \n",
    "---\n",
    "\n",
    "- 데이터의 특징 \n",
    "    - class, Age, SibSp, Parch, Fare\n",
    "    \n",
    "- 예측하고자 하는것은 생존자 \n",
    "    - target label 은 Survived \n",
    "- parch : 함께 탑승한 부모, 아이의 수(정량적)\n",
    "- SibSp : 함께 탑승한 형제와 배우자의 수(정략적)\n",
    "- Fare  : 탑승료 \n",
    "\n",
    "---\n",
    "- describe() 메소드=> 특징을 가진 통계치들을 반환     \n",
    "[describe()_Eng](https://pandas.pydata.org/pandas-docs/stable/reference/api/pandas.DataFrame.describe.html)"
   ]
  },
  {
   "cell_type": "code",
   "execution_count": null,
   "metadata": {
    "scrolled": true
   },
   "outputs": [],
   "source": [
    "# 학습 데이터 통계치 확인 \n",
    "# describe()메소드 사용 \n",
    "df_train.describe()# age에서 결측치 177개 확인가능 \n",
    "\n",
    "# 컬럼이 전부타 나오는건 아닌가보다 => 수치화 데이터만 츨력"
   ]
  },
  {
   "cell_type": "code",
   "execution_count": null,
   "metadata": {},
   "outputs": [],
   "source": [
    "df_test.describe()"
   ]
  },
  {
   "cell_type": "code",
   "execution_count": null,
   "metadata": {},
   "outputs": [],
   "source": [
    "# 더확인 \n",
    "df_train.isnull().sum()"
   ]
  },
  {
   "cell_type": "code",
   "execution_count": null,
   "metadata": {},
   "outputs": [],
   "source": [
    "# 테스트 데이터 통계치 확인 \n",
    "df_test.describe() # age에서 결측치 86 그리고 fare 결측치 1  확인 "
   ]
  },
  {
   "cell_type": "code",
   "execution_count": null,
   "metadata": {},
   "outputs": [],
   "source": [
    "# 승객 아이디 숫자와 다른 결측데이터가 존재하는 열이 있음 \n",
    "# 데이터를 한눈에 보기위해서 시각화 "
   ]
  },
  {
   "cell_type": "markdown",
   "metadata": {},
   "source": [
    "# 결측치 확인 \n",
    "---\n",
    "- Null data check"
   ]
  },
  {
   "cell_type": "code",
   "execution_count": null,
   "metadata": {},
   "outputs": [],
   "source": [
    "df_train.Age.isnull().sum()/ df_train['Age'].shape[0]"
   ]
  },
  {
   "cell_type": "code",
   "execution_count": null,
   "metadata": {},
   "outputs": [],
   "source": [
    "# 틀 생성 \n",
    "# 결측값의 비율을 한눈에 확인(퍼센트로)하기위해 만듬\n",
    "for col in df_train.columns:\n",
    "#     print(col)\n",
    "    msg = 'column : {:>10}\\t percent of NaN value: {:.2f}%'.format(col,100) # 퍼센트로 확인 \n",
    "    print(msg)"
   ]
  },
  {
   "cell_type": "code",
   "execution_count": null,
   "metadata": {},
   "outputs": [],
   "source": [
    "for col in df_train.columns:\n",
    "    # percent ->  결측값을 비율화 시켜서 백분율로 \n",
    "    # 비율 * 100 = 백분율 \n",
    "    percent = df_train[col].isnull().sum() / df_train[col].shape[0]\n",
    "#     print(percent)\n",
    "    #결과\n",
    "    msg = 'column: {:>10}\\t Percent of NaN value: {:.2f}%'.format(col, 100 * (percent))\n",
    "    print(msg)"
   ]
  },
  {
   "cell_type": "code",
   "execution_count": null,
   "metadata": {},
   "outputs": [],
   "source": [
    "df_test.shape"
   ]
  },
  {
   "cell_type": "code",
   "execution_count": null,
   "metadata": {},
   "outputs": [],
   "source": [
    "# test도 동일한 방법으로 확인 \n",
    "\n",
    "for i in df_test.columns:\n",
    "#     print(i) # 정상 출력 \n",
    "    # 1. 일단 공식부터 예) 100개중 5개5개 2개 -> 5+5+2 /100 => 0.12  \n",
    "    # => 결측치의 합 / 총 갯수 \n",
    "    # shape => \n",
    "    percent = df_test[i].isnull().sum() / df_test[i].shape[0]\n",
    "#     print(percent)\n",
    "    msg = 'column: {:>10}\\t Percent of NaN value: {:.2f}%'.format(col, 100 * (percent))\n",
    "    print(msg)"
   ]
  },
  {
   "cell_type": "code",
   "execution_count": null,
   "metadata": {},
   "outputs": [],
   "source": [
    "# train,test에서 Age(둘다 약 20%쯤), Cabin(둘다 약 80%쯤), Embarked(Train만 0.22%) 인것을 확인 \n",
    "# index_loction => iloc[]\n",
    "df_train.iloc[:,:]"
   ]
  },
  {
   "cell_type": "markdown",
   "metadata": {},
   "source": [
    "### msno를 이용해서 결측치를 시각화\n",
    "---"
   ]
  },
  {
   "cell_type": "code",
   "execution_count": null,
   "metadata": {},
   "outputs": [],
   "source": []
  },
  {
   "cell_type": "code",
   "execution_count": null,
   "metadata": {
    "scrolled": true
   },
   "outputs": [],
   "source": [
    "# msno를 이용해서 결측치를 시각화\n",
    "# 어느위치에 널데이터가 분포했는지를 확인 가능\n",
    "msno.matrix(df = df_train.iloc[:,:],figsize=(8,8), color = (0.8,0.5,0.2))"
   ]
  },
  {
   "cell_type": "code",
   "execution_count": null,
   "metadata": {},
   "outputs": [],
   "source": [
    "# 바차트  => 훨신 직관적 \n",
    "# df_train\n",
    "msno.bar(df = df_train.iloc[:,:], figsize=(8,8), color=(0.8, 0.5, 0.2))"
   ]
  },
  {
   "cell_type": "code",
   "execution_count": null,
   "metadata": {},
   "outputs": [],
   "source": [
    "# df_test\n",
    "msno.bar(df = df_test.iloc[:,:], figsize=(8,8), color=(1, 0.5, 0.6))"
   ]
  },
  {
   "cell_type": "markdown",
   "metadata": {},
   "source": [
    "## 타겟 데이터 확인 \n",
    "---\n",
    "- Target label cheak\n",
    "    - 어떤 분포(distribution)를 가지고 있는 지 확인이 필요하다.\n",
    "    - 이진 분류(binary classification)문제에서는 0과 1의 분포가 어떤지에 따라 모델의 평가 방법이 다르다.\n",
    "    - 타겟 레이블의 목적성이 명확해야한다. \n",
    "\n"
   ]
  },
  {
   "cell_type": "markdown",
   "metadata": {},
   "source": [
    "#### 그래프를 그려보겠음 \n",
    "---"
   ]
  },
  {
   "cell_type": "code",
   "execution_count": null,
   "metadata": {
    "scrolled": false
   },
   "outputs": [],
   "source": [
    "df_train['Survived'].value_counts() # 0: 죽은사람 1: 산사람"
   ]
  },
  {
   "cell_type": "code",
   "execution_count": null,
   "metadata": {},
   "outputs": [],
   "source": [
    "# 총 인원 \n",
    "df_train['Survived'].value_counts().sum()"
   ]
  },
  {
   "cell_type": "code",
   "execution_count": null,
   "metadata": {
    "scrolled": false
   },
   "outputs": [],
   "source": [
    "# 시리즈들은 항상 plot을 가지고 있음\n",
    "# plt.plot(df_train['Survived'].value_counts())과 동일 \n",
    "df_train['Survived'].value_counts().plot()"
   ]
  },
  {
   "cell_type": "code",
   "execution_count": null,
   "metadata": {
    "scrolled": true
   },
   "outputs": [],
   "source": [
    "# 판다스가 메소드 형식으로 그래프 그리는 함수를 통일화시켜둠 \n",
    "df_train['Survived'].value_counts().plot.pie()"
   ]
  },
  {
   "cell_type": "code",
   "execution_count": null,
   "metadata": {},
   "outputs": [],
   "source": [
    "# pie에서 -> explode 기능을 확인 => 째는거 \n",
    "df_train['Survived'].value_counts().plot.pie(explode=[0,0.1])"
   ]
  },
  {
   "cell_type": "code",
   "execution_count": null,
   "metadata": {},
   "outputs": [],
   "source": [
    "# pie에서 -> autopct 기능을 확인 =>  그래프 안에 퍼센트로 수치를 표현 \n",
    "df_train['Survived'].value_counts().plot.pie(explode=[0,0.1],autopct =\"%1.1f%%\")"
   ]
  },
  {
   "cell_type": "code",
   "execution_count": null,
   "metadata": {
    "scrolled": true
   },
   "outputs": [],
   "source": [
    "# pie에서 ->  shadow 기능을 확인 =>  True :그림자를 만든다.\n",
    "df_train['Survived'].value_counts().plot.pie(explode=[0,0.1],autopct =\"%1.1f%%\", shadow =True)"
   ]
  },
  {
   "cell_type": "code",
   "execution_count": null,
   "metadata": {
    "scrolled": true
   },
   "outputs": [],
   "source": [
    "# 그래프 => 두개를 그림 \n",
    "# 하나는 원 그래프 하나는 막대 그래프 \n",
    "\n",
    "f, ax = plt.subplots(1,2,figsize = (18,8))\n",
    "\n",
    "# 1번 : pieplot\n",
    "df_train['Survived'].value_counts().plot.pie(explode=[0,0.1], autopct =\"%1.1f%%\",ax =ax[0], shadow =True)\n",
    "ax[0].set_title('Pie plot - Survived')\n",
    "ax[0].set_ylabel('') # 왼쪽의 레이블을 없애겠다\n",
    "\n",
    "# 2번 : countplot\n",
    "sns.countplot('Survived', data=df_train, ax=ax[1])\n",
    "ax[1].set_title('Count plot - Survived')\n",
    "\n",
    "plt.show()\n"
   ]
  },
  {
   "cell_type": "markdown",
   "metadata": {},
   "source": [
    "- 죽은 사람이 눈에 띄게 많은 것을 확인할 수 있음\n",
    "- 38.4% 만 살아 남은것을 확인할 수 있음 "
   ]
  },
  {
   "cell_type": "markdown",
   "metadata": {},
   "source": [
    "---\n",
    "# 탐색적 데이터 분석(EDA - Exploratory Data Analysis )\n",
    "---\n",
    "- 분석을 통해서 데이터 안에 숨겨진 정보를 찾아야한다.\n",
    "- 시각화 라이브러리를 이용해 정보들을 시각화\n",
    "    - 시각화 팩 : matplotlib, seaborn, plotly\n",
    "\n",
    "\n",
    "----\n",
    "- 목적을 찾아야 한다 \n",
    "- 내가 하고자하는말 내가 보고자하는것을 시각화하는 능력을 키워야한다.\n",
    "---"
   ]
  },
  {
   "cell_type": "markdown",
   "metadata": {},
   "source": [
    "## Pclass\n",
    "---\n",
    "- pclass는 서수형 데이터 \n",
    "    -> 카테고리형태면서 순서를 나타내는 타입 \n",
    "> 카테고리하면 떠올라야하는 것 -> **원핫 벡터**\n",
    "\n",
    "- 일단 pclass에 따른 생존률 차이를 확인 \n",
    "    - 엑셀의 피벗차트와 유사한 작업이 진행 할 것이다.\n",
    "    - 판다스의 데이터 프레임에서 groupby를 이용하면 동일한 기능을 쉽게 사용 가능하다.\n",
    "    \n",
    "- 'Pclass', 'Survived' 를 palss로 묶는다. \n",
    "    - 각 pcalss 마다 0,1이 count => 평균을 내면 각 pclass 별로 생존률을 확인할 수 있다.\n",
    "    \n",
    "---\n"
   ]
  },
  {
   "cell_type": "markdown",
   "metadata": {},
   "source": [
    "#### Pclass의 가설 \n",
    "---\n",
    "\n",
    "- Pclass \n",
    "    => 좋은 객실을 사용한 승객이 더 많이 살아남았을 것이라는 가설 \n",
    "    => 이 의문을 EDA를 통해서 검증하고자 한다. "
   ]
  },
  {
   "cell_type": "code",
   "execution_count": null,
   "metadata": {},
   "outputs": [],
   "source": [
    "# sum과 count의 차이 => \n",
    "df_train['Survived'].unique() # 0 과 1로 이루어 져있음 "
   ]
  },
  {
   "cell_type": "code",
   "execution_count": null,
   "metadata": {},
   "outputs": [],
   "source": [
    "# 0과 1의 (객체) 수를 세하는것 \n",
    "# df_train[['Pclass','Survived']].groupby(['Pclass']).count()\n",
    "# 0과1을 연산하는것 \n",
    "df_train[['Pclass','Survived']].groupby(['Pclass']).sum()"
   ]
  },
  {
   "cell_type": "code",
   "execution_count": null,
   "metadata": {},
   "outputs": [],
   "source": [
    "# 데이터 프레임에 여러 컬럼이 있을 때 리스트로 컬럼을 묶음\n",
    "# df_train[['Pclass','Survived']]\n",
    "# df_train[['Pclass','Survived']].groupby\n",
    "# df_train[['Pclass','Survived']].groupby(['Pclass']) # DataFrameGroupBy 객체가 만들어짐 \n",
    "# 객체는 많은것을 가지고 있음 ..sum , count 등등 \n",
    "df_train[['Pclass','Survived']].groupby(['Pclass']).count()"
   ]
  },
  {
   "cell_type": "code",
   "execution_count": null,
   "metadata": {},
   "outputs": [],
   "source": [
    "df_train[['Pclass','Survived']].groupby(['Pclass'], as_index = True).count()"
   ]
  },
  {
   "cell_type": "code",
   "execution_count": null,
   "metadata": {},
   "outputs": [],
   "source": [
    "type(df_train[['Pclass','Survived']].groupby(['Pclass'], as_index = True).count())"
   ]
  },
  {
   "cell_type": "code",
   "execution_count": null,
   "metadata": {},
   "outputs": [],
   "source": [
    "# crosstab\n",
    "# 쉽게 확인 가능 \n",
    "# all의 여부  =>  margins= True\n",
    "# 스타일 추가 => .style.background_gradient(cmap='summer_r') # GnBu # cool\n",
    "pd.crosstab(df_train['Pclass'], df_train['Survived'], margins= True).style.background_gradient(cmap='GnBu')"
   ]
  },
  {
   "cell_type": "code",
   "execution_count": null,
   "metadata": {},
   "outputs": [],
   "source": [
    "# groupby에 mean() => 클래스 생존률을 얻을수 있음 80 / 80+136\n",
    "class_Survived = df_train[['Pclass','Survived']].groupby(['Pclass'], as_index=True).mean()\n",
    "class_Survived"
   ]
  },
  {
   "cell_type": "code",
   "execution_count": null,
   "metadata": {},
   "outputs": [],
   "source": [
    "# ascending : 차순을 어떻게 할건지 \n",
    "class_Survived.sort_values(by='Survived', ascending= False ).plot.bar()"
   ]
  },
  {
   "cell_type": "markdown",
   "metadata": {},
   "source": [
    "- 클래스가 좋을수록 생존 확률이 높음 \n",
    "- seaborn 의 countplot을 이용 -> 특정 레이블에 따른 개수를 확인 "
   ]
  },
  {
   "cell_type": "code",
   "execution_count": null,
   "metadata": {},
   "outputs": [],
   "source": [
    "y_position = 1.02\n",
    "\n",
    "f, ax = plt.subplots(1,2,figsize = (18,8))\n",
    "df_train['Pclass'].value_counts().plot.bar( color = ['#CD7F32','#FFDF00','#D3D3D3'], ax = ax[0])\n",
    "ax[0].set_title('Number of Passengers By Pclass', y = y_position )\n",
    "ax[0].set_ylabel('Count')\n",
    "\n",
    "# df_train \n",
    "# hue = 'Survived' # 바 색 설명\n",
    "sns.countplot('Pclass',hue = 'Survived', data = df_train, ax = ax[1])\n",
    "ax[1].set_title('Pclass: Survived vs Dead', y = y_position )\n",
    "\n",
    "plt.show()\n",
    "\n",
    "# 뭐를 보여주기 위해서 이 그래프를 그렸는지 잘 봐야한다. \n",
    "# 분석 해보자면 클래스별로 탑승인원을 그래프로 보여준다. \n",
    "# 그리고 이 탑승 인원별 생존자를 다시 그래프로 그린다. \n",
    "\n",
    "# 결론 ; 클래스가 좋을 경우 더 많이 생존한 것을 확인 가능하다."
   ]
  },
  {
   "cell_type": "markdown",
   "metadata": {},
   "source": [
    "---"
   ]
  },
  {
   "cell_type": "markdown",
   "metadata": {},
   "source": [
    "## Sex \n",
    "---\n",
    "\n",
    "- 기준은 생존\n",
    "- 성별로 생존률이 어떻게 달라지는 지 확인 \n",
    "- 위와 같이 pandas와 seaborn 사용"
   ]
  },
  {
   "cell_type": "code",
   "execution_count": null,
   "metadata": {},
   "outputs": [],
   "source": [
    "f, ax = plt.subplots(1, 2, figsize = (18,8))\n",
    "# 1번 그래프\n",
    "df_train[['Sex','Survived']].groupby(['Sex'], as_index=True).mean().plot.bar(ax=ax[0])\n",
    "ax[0].set_title('Survived vs Sex')\n",
    "# 2번 그래프 \n",
    "sns.countplot('Sex' ,hue='Survived', data=df_train,ax=ax[1])\n",
    "ax[1].set_title('Sex: Survived vs Dead')\n",
    "\n",
    "plt.show()\n",
    "\n",
    "# 그래프를 통해 여자가 더 생존률이 높다는 것을 알 수 있다."
   ]
  },
  {
   "cell_type": "code",
   "execution_count": null,
   "metadata": {},
   "outputs": [],
   "source": [
    "# 성별을 기준으로 그룹바이 \n",
    "df_train[['Sex','Survived']].groupby(['Sex'],as_index=False).mean()"
   ]
  },
  {
   "cell_type": "code",
   "execution_count": null,
   "metadata": {},
   "outputs": [],
   "source": [
    "df_groupby = df_train[['Sex','Survived']].groupby(['Sex'],as_index=False).mean()\n",
    "df_groupby.sort_values(by='Survived', ascending=False)"
   ]
  },
  {
   "cell_type": "code",
   "execution_count": null,
   "metadata": {},
   "outputs": [],
   "source": [
    "# 위에서 한번했음 \n",
    "# pands crosstab\n",
    "pd.crosstab(df_train['Sex'],df_train['Survived'], margins= True)"
   ]
  },
  {
   "cell_type": "code",
   "execution_count": null,
   "metadata": {},
   "outputs": [],
   "source": [
    "# 보기 편하게 스타일을 입히겠음 \n",
    "df_crosstab = pd.crosstab(df_train['Sex'],df_train['Survived'], margins= True)\n",
    "df_crosstab.style.background_gradient(cmap='summer_r') # 'GnBu'"
   ]
  },
  {
   "cell_type": "markdown",
   "metadata": {},
   "source": [
    "- pclass와 마찬가지ㅡ  성별도 예측 모델에 쓰일 중요한 특징"
   ]
  },
  {
   "cell_type": "markdown",
   "metadata": {},
   "source": [
    "---"
   ]
  },
  {
   "cell_type": "markdown",
   "metadata": {},
   "source": [
    "## Both Sex and Pclass\n",
    "---\n",
    "\n",
    "- Sex and Pclass 두가지에 관해서 생존이 어떻게 연관이 있는지 확인 \n",
    "- seaborn 의 factorplot 을 이용"
   ]
  },
  {
   "cell_type": "code",
   "execution_count": null,
   "metadata": {},
   "outputs": [],
   "source": [
    "sns.factorplot('Pclass','Survived',hue='Sex', data = df_train , size=5 , aspect=1.5)"
   ]
  },
  {
   "cell_type": "markdown",
   "metadata": {},
   "source": [
    "- 3가지를 한그래프에서 비교 ... 워우 \n",
    "- 모든 클래스에서 female이 살 확률이 male보다 높은것을 확인 \n",
    "- 남,여 상관없이 클래스가 높을수록 살 확률이 높음 "
   ]
  },
  {
   "cell_type": "code",
   "execution_count": null,
   "metadata": {},
   "outputs": [],
   "source": [
    "# hue 대신 column\n",
    "# 각각 출력 \n",
    "sns.factorplot(x='Sex',y='Survived', col='Pclass',data=df_train, satureation=.5, sixz=10 , aspect=1)"
   ]
  },
  {
   "cell_type": "markdown",
   "metadata": {},
   "source": [
    "---"
   ]
  },
  {
   "cell_type": "markdown",
   "metadata": {},
   "source": [
    "## Age\n",
    "---\n",
    "\n",
    "- 나이의 특징을 확인 \n",
    "- 살아있는 승객만 추출 "
   ]
  },
  {
   "cell_type": "code",
   "execution_count": null,
   "metadata": {},
   "outputs": [],
   "source": [
    "# 나이의 특징을 확인 \n",
    "# {:.1f} => 소수점 한자리까지 표현 => 데이터와 데이터 통일 \n",
    "# print('제일 나이 많은 탑승객 : {:.1f} Years'.format(df_train.['Age'].max())) \n",
    "print('제일 나이 많은 탑승객 : {:.1f} Years'.format(df_train.Age.max())) \n",
    "# print('제일 나이 어린 탑승객 : {:.1f} Years'.format(df_train.['Age'].min()))\n",
    "print('제일 나이 어린 탑승객 : {:.1f} Years'.format(df_train.Age.min()))\n",
    "print('탑승객 평균 나이: {:.1f} Years'.format(df_train.Age.mean()))"
   ]
  },
  {
   "cell_type": "code",
   "execution_count": null,
   "metadata": {
    "scrolled": true
   },
   "outputs": [],
   "source": [
    "# 살아있는 승객만 추출 \n",
    "df_train[df_train['Survived'] == 1 ].head()"
   ]
  },
  {
   "cell_type": "code",
   "execution_count": null,
   "metadata": {
    "scrolled": true
   },
   "outputs": [],
   "source": [
    "# 살아있는 승객이 나이만 추출 \n",
    "df_train[df_train['Survived'] == 1 ]['Age']"
   ]
  },
  {
   "cell_type": "code",
   "execution_count": null,
   "metadata": {},
   "outputs": [],
   "source": [
    "# 생존에 따른 Age 히스토그램 \n",
    "# 비교 -> 산사람 나이랑 죽은사람 나이를 그래프를 통해 비교 \n",
    "fig, ax = plt.subplots(1,1, figsize = (9, 5)) \n",
    "sns.kdeplot(df_train[df_train['Survived'] == 1 ]['Age'], ax = ax )\n",
    "sns.kdeplot(df_train[df_train['Survived'] == 0 ]['Age'], ax = ax )\n",
    "\n",
    "plt.legend(['Survived == 1', 'Survived == 0'])\n",
    "plt.show()\n",
    "\n",
    "# 생존자 중 나이가 어린 경우가 많은것을 볼 수 있음 "
   ]
  },
  {
   "cell_type": "code",
   "execution_count": null,
   "metadata": {
    "scrolled": true
   },
   "outputs": [],
   "source": [
    "# 나이에 따른 클래스  \n",
    "first_calss  = df_train['Age'][df_train['Pclass'] == 1]\n",
    "second_calss = df_train['Age'][df_train['Pclass'] == 2]\n",
    "third_calss  = df_train['Age'][df_train['Pclass'] == 3]\n",
    "# print(first)"
   ]
  },
  {
   "cell_type": "code",
   "execution_count": null,
   "metadata": {
    "scrolled": true
   },
   "outputs": [],
   "source": [
    "# 클래스안 나이의 분포 확인 \n",
    "plt.figure(figsize=(8,6))\n",
    "\n",
    "# 그래프 그리기 \n",
    "first_calss.plot(kind='kde')\n",
    "second_calss.plot(kind='kde')\n",
    "third_calss.plot(kind='kde')\n",
    "\n",
    "plt.xlabel('Age')\n",
    "plt.title('Age Distribution within classes')\n",
    "# 이름표\n",
    "plt.legend(['1st Class','2nd Class','3rd Class'])\n",
    "\n",
    "# class 가 높을수록 나이 많은 사람의 비중이 커짐 \n",
    "# 나이대가 변하면서 생존률이 어떻게 되는지 확인이 필요 \n",
    "# 나이의 범위를 점점 넓혀가면서 생존률 확인 "
   ]
  },
  {
   "cell_type": "code",
   "execution_count": null,
   "metadata": {
    "scrolled": true
   },
   "outputs": [],
   "source": [
    "cummulate_survival_ratio = []\n",
    "\n",
    "for i in range(1,80):\n",
    "    # 평균을 구하네 \n",
    "    cummulate_survival_ratio.append(df_train[df_train['Age'] < i]['Survived'].sum()/ len(df_train[df_train['Age']< i ]['Survived']))\n",
    "    \n",
    "# cummulate_survival_ratio"
   ]
  },
  {
   "cell_type": "code",
   "execution_count": null,
   "metadata": {},
   "outputs": [],
   "source": [
    "cummulate_survival_ratio = []\n",
    "\n",
    "for i in range(1,80):\n",
    "    # 평균을 구하네 \n",
    "    cummulate_survival_ratio.append(df_train[df_train['Age'] < i]['Survived'].sum()/ len(df_train[df_train['Age']< i ]['Survived']))\n",
    "    \n",
    "# cummulate_survival_ratio\n",
    "\n",
    "plt.figure(figsize=(7,7))\n",
    "plt.plot(cummulate_survival_ratio)\n",
    "plt.title('Survival rate change depending on range of Age',y=1.02)\n",
    "\n",
    "plt.xlabel('Range of Age(0~x)')\n",
    "plt.ylabel('Survival rate')\n",
    "\n",
    "plt.show()\n",
    "\n",
    "# 나이가 어릴수록 생존률이 높다는것을 확인 가능 \n",
    "# 나이가 중요한 특징임을 확인 "
   ]
  },
  {
   "cell_type": "markdown",
   "metadata": {},
   "source": [
    "---"
   ]
  },
  {
   "cell_type": "markdown",
   "metadata": {},
   "source": [
    "## Pclass, Sex , Age \n",
    "---\n",
    "\n",
    "- 위 세가지르 한그래프에 담아 확인 => seaborn의 바이올린 폴렛을 이용해서 작업 \n",
    "- 나눠서 확인 : x축은 case(Pclass, Sex)를 y축은 distribution(Age)"
   ]
  },
  {
   "cell_type": "code",
   "execution_count": null,
   "metadata": {},
   "outputs": [],
   "source": [
    "f, ax = plt.subplots(1, 2, figsize = (18, 8))\n",
    "\n",
    "sns.violinplot(\"Pclass\",\"Age\", hue= \"Survived\", data = df_train, scale='count', split = True, ax = ax[0])\n",
    "ax[0].set_title('Pclass and Age vs Survived')\n",
    "ax[0].set_yticks(range(0,110,10))\n",
    "sns.violinplot(\"Sex\", \"Age\", hue= \"Survived\", data = df_train, scale ='count', split = True, ax = ax[1])\n",
    "ax[1].set_title('Sex and Age vs Survived')\n",
    "ax[1].set_yticks(range(0,110,10))\n",
    "plt.show()"
   ]
  },
  {
   "cell_type": "markdown",
   "metadata": {},
   "source": [
    "- 클래스 별로 각 아이템의 분포가 어떻게 다른지 거기에 생존여부에 따라 구분한 그래프 \n",
    "- 생존만 봤을때 모든 클래스에서 나이가 어릴수록 많이 생존한것을 확인 \n",
    "- 성별로 봤을 경우 남성보다 여성이 많이 생존한 것을 확인 \n",
    "\n",
    "- 침몰때 여성과 아이를 먼저 챙긴 것을 볼수 있음 "
   ]
  },
  {
   "cell_type": "markdown",
   "metadata": {},
   "source": [
    "---"
   ]
  },
  {
   "cell_type": "markdown",
   "metadata": {},
   "source": [
    "## Embarked (탑승 항구)\n",
    "---\n",
    "\n",
    "- 탑승한 곳에 따른 생존률 "
   ]
  },
  {
   "cell_type": "code",
   "execution_count": null,
   "metadata": {},
   "outputs": [],
   "source": [
    "# 그룹화 해서 평균 \n",
    "embarked_group= df_train[['Embarked','Survived']].groupby(['Embarked'], as_index=True)\n",
    "embarked_group.mean()"
   ]
  },
  {
   "cell_type": "code",
   "execution_count": null,
   "metadata": {},
   "outputs": [],
   "source": [
    "f, ax = plt.subplots(1,1,figsize=(7,7))\n",
    "\n",
    "embarked_group.mean().sort_values(by='Survived',ascending=False).plot.bar(ax=ax)"
   ]
  },
  {
   "cell_type": "markdown",
   "metadata": {},
   "source": [
    "- 생존률은 비슷한것으로 확인 \n",
    "- 명확하지 않지만 모델에 사용 \n",
    "- 모델을 만들고나면 각 특징이 얼마나 중요한 역활을 했는지를 확인 가능 \n",
    "\n",
    "- 다른 특징으로 split해서 확인 "
   ]
  },
  {
   "cell_type": "code",
   "execution_count": null,
   "metadata": {},
   "outputs": [],
   "source": [
    "f, ax = plt.subplots(2,2, figsize=(20,15))\n",
    "\n",
    "# 탑승항구에 따른 승객 수 \n",
    "sns.countplot('Embarked', data=df_train, ax = ax[0,0])\n",
    "ax[0,0].set_title('(1) No. Of Passengers Boarded')\n",
    "# 탑승 항구에 따른 성별\n",
    "sns.countplot('Embarked', hue= 'Sex', data=df_train, ax = ax[0,1])\n",
    "ax[0,1].set_title('(2) Male-Female Split for Embarked')\n",
    "# 탑승항구에 따른 생존률 \n",
    "sns.countplot('Embarked', hue='Survived', data=df_train, ax = ax[1,0])\n",
    "ax[1,0].set_title('(3) Embarked vs Survived')\n",
    "# 탑승항구에 따른 클래스 \n",
    "sns.countplot('Embarked', hue='Pclass', data = df_train, ax = ax[1,1])\n",
    "ax[1,1].set_title('(4) Embarked vs Pclass')\n",
    "\n",
    "plt.subplots_adjust(wspace=0.2, hspace=0.5) # 각 그래프간 간격 조절 \n",
    "plt.show()"
   ]
  },
  {
   "cell_type": "markdown",
   "metadata": {},
   "source": [
    "- 1. 전체적으로 S에서 탑승자수가 가장 많은것으로 확인 \n",
    "- 2. C와Q는 남녀의 비율이 비슷하고, S는 남자가 더 많은것으로 확인 \n",
    "- 3. 생존확률이 S경우 많이 낮은것을 확인 할수 있음 \n",
    "- 4. 클래스로 나누어보니 C가 생존할 확률이 높은건 사람이 많이 탑승했기 때문 S는 3클래스 사람들이 적게 타서 생존률이 낮은것을 확인 \n"
   ]
  },
  {
   "cell_type": "markdown",
   "metadata": {},
   "source": [
    "---"
   ]
  },
  {
   "cell_type": "markdown",
   "metadata": {},
   "source": [
    "## Family - SibSp(형제, 자매) + Parch(부모, 자녀)\n",
    "---\n",
    "\n",
    "- Family =  SibSp + Parch"
   ]
  },
  {
   "cell_type": "code",
   "execution_count": null,
   "metadata": {
    "scrolled": true
   },
   "outputs": [],
   "source": [
    "df_train['SibSp'] + df_train['Parch']"
   ]
  },
  {
   "cell_type": "code",
   "execution_count": null,
   "metadata": {},
   "outputs": [],
   "source": [
    "# 자신이 미포한 그래서 1을 더해줌 \n",
    "df_train['FamilySize'] = df_train['SibSp'] + df_train['Parch'] + 1\n",
    "df_test['FamilySize'] = df_test['SibSp'] + df_test['Parch'] + 1"
   ]
  },
  {
   "cell_type": "code",
   "execution_count": null,
   "metadata": {},
   "outputs": [],
   "source": [
    "# 최대\n",
    "print(\"Maximum size of Family:\",df_train['FamilySize'].max())\n",
    "\n",
    "# 최소\n",
    "print(\"Maximum size of Family:\",df_train['FamilySize'].min())"
   ]
  },
  {
   "cell_type": "code",
   "execution_count": null,
   "metadata": {},
   "outputs": [],
   "source": [
    "df_train[['FamilySize','Survived']].groupby(['FamilySize'],as_index =True).mean()"
   ]
  },
  {
   "cell_type": "code",
   "execution_count": null,
   "metadata": {},
   "outputs": [],
   "source": [
    "grooup_Fam = df_train[['FamilySize','Survived']].groupby(['FamilySize'],as_index =True)\n",
    "grooup_Fam.mean().sort_values(by='Survived',ascending= False)"
   ]
  },
  {
   "cell_type": "code",
   "execution_count": null,
   "metadata": {},
   "outputs": [],
   "source": [
    "# 가족수와 생존의 상관 관계를 확인 \n",
    "f, ax = plt.subplots(1,3, figsize= (40,10))\n",
    "\n",
    "sns.countplot('FamilySize', data= df_train, ax=ax[0])\n",
    "ax[0].set_title('(1) No. Of Passengers Boarded', y=1.02)\n",
    "\n",
    "sns.countplot('FamilySize', hue='Survived',data = df_train, ax= ax[1])\n",
    "# y=1.02 는 글자와 그래프 사이의 간격 조절 \n",
    "ax[1].set_title('(2) Survived countplot depending on FamilySize',y=1.02)\n",
    "\n",
    "grooup_Fam.mean().sort_values(by='Survived',ascending= False).plot.bar(ax=ax[2])\n",
    "ax[2].set_title('(3) Survived rate depending on FamilySize',  y=1.02 )\n",
    "\n",
    "plt.subplots_adjust(wspace = 0.2, hspace = 0.5)\n",
    "plt.show()"
   ]
  },
  {
   "cell_type": "markdown",
   "metadata": {},
   "source": [
    "- 1. 가족의 크기가 1명에서 11명 까지 있다는것을 확인 \n",
    "    - 대부분 1명\n",
    "- 2,3. 가족의 크기에 따른 생존률 비교 \n",
    "    - 4인 가족인경우가 생존률이 가장 높음\n",
    "    - 5인 이상부터 생존률이 하락하는 것을 확인\n",
    "    - 가족수가 작아도 커도 생존확률이 적은것을 확인 \n",
    "    - 3~4명선이 가장 생존률이 많은 것을 확인 \n",
    "    "
   ]
  },
  {
   "cell_type": "markdown",
   "metadata": {},
   "source": [
    "---"
   ]
  },
  {
   "cell_type": "markdown",
   "metadata": {},
   "source": [
    "## Fare\n",
    "---\n",
    "- Fare는 탑승요금인 동시에 contious feature\n",
    "- histogram 표현해보자"
   ]
  },
  {
   "cell_type": "code",
   "execution_count": null,
   "metadata": {},
   "outputs": [],
   "source": [
    "fig, ax = plt.subplots( 1, 1, figsize=(8,8) )\n",
    "\n",
    "g = sns.distplot(df_train['Fare'], color = 'b', label = 'Skewness :{:.2f}'.format(df_train['Fare'].skew()), ax=ax)\n",
    "g =g.legend(loc='best')"
   ]
  },
  {
   "cell_type": "markdown",
   "metadata": {},
   "source": [
    "- distribution(분포)가 매우 비대칭인 것을 알 수 있다. 이대로 모델에 넣어준다면 자칫 모델이 잘못 학습할 수도 있다. \n",
    "- outlier에 대해 너무 민감하게 반응한다면, 실제 예측 시에 좋지 못한 결과를 부를 수 있다. 그렇기 때문에 outlier의 영향을 줄이기위해 탑승요금(fare)에 log처리 하겠다.\n"
   ]
  },
  {
   "cell_type": "markdown",
   "metadata": {},
   "source": [
    "- 원하는 데이터는 탑습요금 컬럼의 데이터 모두 로그처리하는것\n",
    "    - 판다스의 람다함수를 이용 \n",
    "        - 데이터 프레임의 특정 컬럼에 공통된 작업을 적용\n",
    "          - 람다함수를 이용해 map함수에 인수에 할당하면 탑승요금 컬럼에 바로 적용"
   ]
  },
  {
   "cell_type": "markdown",
   "metadata": {},
   "source": [
    "[데이터 프레임 고급인덱싱_loc](https://datascienceschool.net/view-notebook/704731b41f794b8ea00768f5b0904512/) 매번 헷갈림"
   ]
  },
  {
   "cell_type": "code",
   "execution_count": null,
   "metadata": {},
   "outputs": [],
   "source": [
    "# 사본으로 생성 - Fare 에 있는 넌값 추출 \n",
    "df_test.loc[df_test.Fare.isnull(),'Fare'] = df_test['Fare'].mean()\n",
    "# 테스트 셋에 있는 결측값을 평균값으로 치환 **"
   ]
  },
  {
   "cell_type": "code",
   "execution_count": null,
   "metadata": {},
   "outputs": [],
   "source": [
    "# 13번강의 들을것 "
   ]
  },
  {
   "cell_type": "code",
   "execution_count": null,
   "metadata": {},
   "outputs": [],
   "source": [
    "# 람다함수를 이용해 fare에 값을 입력 \n",
    "df_train['Fare'] = df_train['Fare'].map(lambda i : np.log(i) if i > 0 else 0)\n",
    "df_test['Fare'] = df_test['Fare'].map(lambda i : np.log(i) if i > 0 else 0)\n"
   ]
  },
  {
   "cell_type": "code",
   "execution_count": null,
   "metadata": {},
   "outputs": [],
   "source": [
    "# 그래프 그리기 \n",
    "fig, ax = plt.subplots(1,1, figsize =(10,8))\n",
    "g = sns.distplot(df_train['Fare'], color = 'b', label = 'Skewness : {:.2f}'.format(df_train['Fare'].skew()), ax = ax)\n",
    "g = g.legend(loc = 'best')"
   ]
  },
  {
   "cell_type": "markdown",
   "metadata": {},
   "source": [
    "- 로그를 씌우니, 비대칭이었던 fare의 비대칭성이 많이 사라진것을 확인 가능 \n",
    "- 이런 작업들을 통해서 모델을 좀 더 좋은 성능을 내도록 할 수 있다.\n",
    "- 위에서 한부분은 feature engineering 에 들어가는 부분인데, 여기서 작업을 진행되었다.\n",
    "- **모델을 학습시키기 위해, 그리고 그모델의 성능을 높이기 위해 특징들에 여러 조작을 가하거나, 새로운 특징을 추가하는것을 feature engineering이라고 함**"
   ]
  },
  {
   "cell_type": "markdown",
   "metadata": {},
   "source": [
    "---"
   ]
  },
  {
   "cell_type": "markdown",
   "metadata": {},
   "source": [
    "## Cabin\n",
    "---\n",
    "\n",
    "- 이 특징은 결측값이 약 80%\n",
    "    - 생존에 영향을 미칠 중요한 정보를 얻어내기가 쉽지 않다.\n",
    "- 그렇기 때문에 만들고자 하는 모델에 포함시키지 않겠다. "
   ]
  },
  {
   "cell_type": "code",
   "execution_count": null,
   "metadata": {},
   "outputs": [],
   "source": [
    "df_train.head()"
   ]
  },
  {
   "cell_type": "markdown",
   "metadata": {},
   "source": [
    "## Ticket\n",
    "---\n",
    "\n",
    "- 티켓의 feature은 결측치가 없다. \n",
    "- 이 데이터는 string data(문자열)이기 때문에 우리가 사용할 모델에 직접적으로 사용 할 수없고 가공을 해야 사용이 가능하다. \n",
    "- 가공을 하기위해서 어떻게 가공할건지에 대한 아이디어가 필요하다."
   ]
  },
  {
   "cell_type": "code",
   "execution_count": null,
   "metadata": {},
   "outputs": [],
   "source": [
    "# 중복 데이터 카운드 \n",
    "df_train.Ticket.value_counts()"
   ]
  },
  {
   "cell_type": "markdown",
   "metadata": {},
   "source": [
    "- 티켓 번호는 정말 다양한것을 확인 \n",
    "    - 여기서 어떤 특징을 끌어내야 생존과 연결이 가능할것인가? \n",
    "    - 아이디어 필요 ... \n",
    "    - 지금은 넘어가지만 모델을 향상하고 싶으면 이티켓의 특징을 살리는것 또한 한 방법"
   ]
  }
 ],
 "metadata": {
  "kernelspec": {
   "display_name": "Python 3",
   "language": "python",
   "name": "python3"
  },
  "language_info": {
   "codemirror_mode": {
    "name": "ipython",
    "version": 3
   },
   "file_extension": ".py",
   "mimetype": "text/x-python",
   "name": "python",
   "nbconvert_exporter": "python",
   "pygments_lexer": "ipython3",
   "version": "3.7.4"
  }
 },
 "nbformat": 4,
 "nbformat_minor": 2
}
